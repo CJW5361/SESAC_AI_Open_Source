{
 "cells": [
  {
   "cell_type": "markdown",
   "metadata": {},
   "source": [
    "### Class \n",
    "- 객체를 만들기 위한 청사진 또는 템플릿\n",
    "- 객체(인스턴스)는 클래스를 기반으로 생성된 것으로, 클래스의 구조를 따르며 실제 데이터를 포함하고 해당 클래스의 기능을 수행한다."
   ]
  },
  {
   "cell_type": "code",
   "execution_count": 25,
   "metadata": {},
   "outputs": [
    {
     "name": "stdout",
     "output_type": "stream",
     "text": [
      "--------------\n"
     ]
    },
    {
     "data": {
      "text/plain": [
       "<__main__.cal at 0x19df03448f0>"
      ]
     },
     "execution_count": 25,
     "metadata": {},
     "output_type": "execute_result"
    }
   ],
   "source": [
    "import pandas as pd \n",
    "import numpy as np \n",
    "\n",
    "\n",
    "### 파이썬 2.x 에서는 class 반드시 __Init__ 필요\n",
    "\n",
    "class cal:\n",
    "    def __init__(self):\n",
    "        print('--------------')\n",
    "    def mysum(*args):\n",
    "        sum=0\n",
    "        for x in args:\n",
    "            sum+=x\n",
    "        return sum\n",
    "        \n",
    "    def mymat(*args):\n",
    "        sum=1\n",
    "        for x in args:\n",
    "            sum*=x\n",
    "        return sum\n",
    "            \n",
    "my=cal\n",
    "my.mysum(1,2,3)\n",
    "my.mymat(1,52)\n",
    "my\n",
    "\n",
    "cal()"
   ]
  },
  {
   "cell_type": "code",
   "execution_count": 31,
   "metadata": {},
   "outputs": [
    {
     "name": "stdout",
     "output_type": "stream",
     "text": [
      "-------------\n",
      "5\n",
      "-------------\n",
      "14\n",
      "10\n"
     ]
    }
   ],
   "source": [
    "class cal:\n",
    "    def __init__(self,v1=3,v2=2): # 클래스에 인스턴스를 생성하는 순간 자동으로 맨처음 실행되는 함수\n",
    "        print('-------------')\n",
    "        self.x=v1\n",
    "        self.y=v2\n",
    "        print(self.x+self.y)\n",
    "        \n",
    "    def test(x=2):\n",
    "        print(x+5)\n",
    "cal()\n",
    "\n",
    "cal(6,8)\n",
    "cal.test(5)\n"
   ]
  },
  {
   "cell_type": "code",
   "execution_count": 65,
   "metadata": {},
   "outputs": [
    {
     "name": "stdout",
     "output_type": "stream",
     "text": [
      "-------------\n",
      "choi사용자입니다.\n",
      "1\n",
      "사용자 choi 3\n",
      "사용자 choi 2\n",
      "-------------\n",
      "choi사용자입니다.\n",
      "2\n",
      "사용자 choi 2\n",
      "-------------\n",
      "JI사용자입니다.\n",
      "3\n",
      "200\n"
     ]
    }
   ],
   "source": [
    "class cal:\n",
    "    total=0\n",
    "    def __init__(self,username='choi'): # 클래스에 인스턴스를 생성하는 순간 자동으로 맨처음 실행되는 함수\n",
    "        print('-------------')\n",
    "        self.name=username\n",
    "        print(self.name+'사용자입니다.')\n",
    "        cal.total+=1\n",
    "        print(cal.total)\n",
    "        \n",
    "    def test(self,x=2):\n",
    "        if self.name !='choi':\n",
    "            print(x*100)\n",
    "        else:\n",
    "        \n",
    "            print('사용자' , self.name,x)\n",
    "\n",
    "aa=cal()\n",
    "aa.test(3)\n",
    "aa.test()\n",
    "# cal.test(3)# 이건 에러발생함 \n",
    "cal().test() # 유저네임 들어옴 \n",
    "bb=cal('JI')\n",
    "bb.test()"
   ]
  },
  {
   "cell_type": "code",
   "execution_count": 76,
   "metadata": {},
   "outputs": [
    {
     "name": "stdout",
     "output_type": "stream",
     "text": [
      "-------------\n",
      "choi사용자입니다.\n",
      "1\n",
      "사용자 choi 3\n",
      "사용자 choi 5\n",
      "-------------\n",
      "choi사용자입니다.\n",
      "2\n",
      "-------------\n",
      "choi사용자입니다.\n",
      "3\n"
     ]
    },
    {
     "data": {
      "text/plain": [
       "<__main__.cal at 0x19deef54380>"
      ]
     },
     "execution_count": 76,
     "metadata": {},
     "output_type": "execute_result"
    }
   ],
   "source": [
    "class cal:\n",
    "    total=0\n",
    "    def __init__(self,username='choi'): # 클래스에 인스턴스를 생성하는 순간 자동으로 맨처음 실행되는 함수\n",
    "        print('-------------')\n",
    "        self.name=username\n",
    "        print(self.name+'사용자입니다.')\n",
    "        cal.total+=1\n",
    "        print(cal.total)\n",
    "        \n",
    "    def test(self,x=2):\n",
    "        if self.name !='choi':\n",
    "            print(x*100)\n",
    "        else:\n",
    "        \n",
    "            print('사용자' , self.name,x)\n",
    "bu=cal()\n",
    "bu.test(3)\n",
    "bu.test(5)\n",
    "\n",
    "cal()\n",
    "bu\n",
    "cal()\n",
    "\n"
   ]
  },
  {
   "cell_type": "code",
   "execution_count": 31,
   "metadata": {},
   "outputs": [
    {
     "name": "stdout",
     "output_type": "stream",
     "text": [
      "체크\n",
      "부모 클래스의 메서드\n",
      "자식 클래스의 메서드\n"
     ]
    }
   ],
   "source": [
    "class Parent:\n",
    "    def show(self):\n",
    "        print(\"부모 클래스의 메서드\")\n",
    "    def check(self):\n",
    "        print('체크')\n",
    "\n",
    "class Child(Parent):\n",
    "    def show(self):\n",
    "        super().show()  # 부모 클래스의 메서드 호출\n",
    "        print(\"자식 클래스의 메서드\")\n",
    "\n",
    "# Child 클래스의 인스턴스 생성\n",
    "child = Child()\n",
    "child.check()\n",
    "\n",
    "# 자식 클래스의 메서드 호출\n",
    "child.show()"
   ]
  },
  {
   "cell_type": "code",
   "execution_count": 48,
   "metadata": {},
   "outputs": [
    {
     "name": "stdout",
     "output_type": "stream",
     "text": [
      "j ['서울', '서울', '서울', '서울', '서울', '서울', '서울', '서울', '서울', '서울', '서울', '서울', '서울', '서울', '서울', '서울', '서울', '서울', '서울', '서울', '서울', '서울', '서울', '서울', '서울', '서울', '서울', '서울', '서울', '서울', '부산', '부산', '부산', '부산', '부산', '부산', '부산', '부산', '부산', '부산', '부산', '부산', '부산', '부산', '부산', '부산', '부산', '부산', '부산', '부산', '부산', '부산', '부산', '부산', '부산', '부산', '부산', '부산', '부산', '부산', '제주', '제주', '제주', '제주', '제주', '제주', '제주', '제주', '제주', '제주', '제주', '제주', '제주', '제주', '제주', '제주', '제주', '제주', '제주', '제주', '제주', '제주', '제주', '제주', '제주', '제주', '제주', '제주', '제주', '제주']\n",
      "--------------------------------------------------\n",
      "d ['2023-01-01', '2023-01-02', '2023-01-03', '2023-01-04', '2023-01-05', '2023-01-06', '2023-01-07', '2023-01-08', '2023-01-09', '2023-01-10', '2023-01-11', '2023-01-12', '2023-01-13', '2023-01-14', '2023-01-15', '2023-01-16', '2023-01-17', '2023-01-18', '2023-01-19', '2023-01-20', '2023-01-21', '2023-01-22', '2023-01-23', '2023-01-24', '2023-01-25', '2023-01-26', '2023-01-27', '2023-01-28', '2023-01-29', '2023-01-30', '2023-01-01', '2023-01-02', '2023-01-03', '2023-01-04', '2023-01-05', '2023-01-06', '2023-01-07', '2023-01-08', '2023-01-09', '2023-01-10', '2023-01-11', '2023-01-12', '2023-01-13', '2023-01-14', '2023-01-15', '2023-01-16', '2023-01-17', '2023-01-18', '2023-01-19', '2023-01-20', '2023-01-21', '2023-01-22', '2023-01-23', '2023-01-24', '2023-01-25', '2023-01-26', '2023-01-27', '2023-01-28', '2023-01-29', '2023-01-30', '2023-01-01', '2023-01-02', '2023-01-03', '2023-01-04', '2023-01-05', '2023-01-06', '2023-01-07', '2023-01-08', '2023-01-09', '2023-01-10', '2023-01-11', '2023-01-12', '2023-01-13', '2023-01-14', '2023-01-15', '2023-01-16', '2023-01-17', '2023-01-18', '2023-01-19', '2023-01-20', '2023-01-21', '2023-01-22', '2023-01-23', '2023-01-24', '2023-01-25', '2023-01-26', '2023-01-27', '2023-01-28', '2023-01-29', '2023-01-30']\n",
      "--------------------------------------------------\n",
      "max ['3.8', '-0.4', '0.6', '3.3', '3.6', '5.7', '3.8', '6.3', '7.0', '9.1', '9.2', '12.5', '10.1', '8.4', '3.8', '-1.2', '-0.4', '2.2', '4.3', '2.0', '1.5', '2.6', '4.6', '-6.9', '-5.4', '-3.5', '-3.8', '-0.6', '4.9', '4.2', '8.7', '6.4', '6.2', '8.1', '8.1', '10.5', '9.2', '12.4', '14.8', '13.5', '14.5', '16.9', '17.2', '14.0', '8.1', '6.1', '5.3', '6.5', '7.2', '7.4', '5.5', '4.2', '11.2', '4.1', '-1.0', '3.1', '2.3', '2.1', '7.3', '7.3', '10.9', '7.8', '8.5', '9.9', '13.4', '12.3', '11.4', '14.6', '16.4', '15.3', '16.7', '17.7', '20.7', '14.5', '9.0', '4.0', '4.9', '7.9', '9.5', '9.8', '5.3', '9.5', '12.0', '5.2', '1.8', '9.6', '6.1', '4.7', '8.3', '9.5']\n",
      "--------------------------------------------------\n",
      "min ['-4.3', '-7.4', '-9.0', '-5.7', '-5.6', '-4.7', '-1.4', '-3.7', '-1.3', '-3.9', '-2.0', '-0.6', '5.1', '3.8', '-3.5', '-6.8', '-7.0', '-4.6', '-6.0', '-7.7', '-10.5', '-2.8', '-6.9', '-17.0', '-17.3', '-9.0', '-9.6', '-11.2', '-8.0', '-4.4', '-2.5', '-1.8', '-3.5', '-3.4', '-2.5', '-1.4', '1.2', '-1.7', '-0.5', '0.1', '1.0', '1.1', '12.7', '8.1', '0.7', '-2.5', '-4.0', '-2.5', '-3.1', '-2.8', '-6.4', '-3.4', '-1.5', '-11.4', '-13.5', '-9.5', '-6.4', '-8.4', '-6.1', '-2.3', '5.2', '3.7', '4.5', '4.1', '4.2', '5.6', '6.1', '3.8', '6.6', '3.6', '7.1', '7.4', '14.5', '8.9', '3.8', '2.9', '3.0', '4.7', '6.1', '2.3', '1.7', '2.0', '5.2', '-3.4', '-3.1', '0.4', '-0.1', '-0.7', '4.4', '2.5']\n",
      "--------------------------------------------------\n",
      "rain ['', '', '', '', '', '3.9', '0.1', '', '', '', '', '0.0', '37.3', '1.6', '3.2', '0.0', '0.0', '0.0', '1.0', '', '', '0.0', '', '0.0', '0.0', '0.8', '', '0.0', '', '', '', '', '', '', '', '', '0.0', '', '', '', '', '0.2', '79.4', '1.7', '0.5', '', '', '', '', '', '', '', '', '', '', '', '0.1', '', '', '', '', '', '', '', '', '1.7', '0.0', '', '', '', '', '2.5', '17.7', '2.2', '3.6', '', '0.0', '0.0', '0.0', '0.0', '', '5.8', '0.1', '2.3', '0.1', '0.5', '4.8', '0.8', '0.0', '']\n",
      "--------------------------------------------------\n"
     ]
    }
   ],
   "source": [
    "import json\n",
    "\n",
    "with open('weatherData1.json','r') as f:\n",
    "    json_data=json.load(f)\n",
    "# print(json_data.keys())\n",
    "# print(json_data.values())\n",
    "itemList=[]\n",
    "for key,value in json_data.items():\n",
    "    print(key,value)\n",
    "    print('-'*50)\n",
    "\n"
   ]
  },
  {
   "cell_type": "code",
   "execution_count": 54,
   "metadata": {},
   "outputs": [
    {
     "data": {
      "text/plain": [
       "[['지점명', '관측시간', '최고기온', '최저기온', '강수량'],\n",
       " ['서울', '2023-01-01', '3.8', '-4.3', ''],\n",
       " ['서울', '2023-01-02', '-0.4', '-7.4', '']]"
      ]
     },
     "execution_count": 54,
     "metadata": {},
     "output_type": "execute_result"
    }
   ],
   "source": [
    "import csv\n",
    "data=[]\n",
    "fileName='날씨정보.csv'\n",
    "f=open(fileName,'r',encoding='utf-8') # 나는 현재 디렉토리에 파일존재\n",
    "reader=csv.reader(f,delimiter=',')\n",
    "for row in reader:\n",
    "    data.append(row)\n",
    "f.close()\n",
    "\n",
    "data[:3]"
   ]
  },
  {
   "cell_type": "code",
   "execution_count": 166,
   "metadata": {},
   "outputs": [],
   "source": [
    "import matplotlib.pyplot as plt\n",
    "plt.rcParams['font.family'] = 'NanumGothic'\n"
   ]
  },
  {
   "cell_type": "code",
   "execution_count": 161,
   "metadata": {},
   "outputs": [
    {
     "data": {
      "text/plain": [
       "171.89999999999998"
      ]
     },
     "execution_count": 161,
     "metadata": {},
     "output_type": "execute_result"
    }
   ],
   "source": [
    "import numpy as np \n",
    "import matplotlib.pyplot as plt \n",
    "def myOpen(FName):\n",
    "    data=[]\n",
    "    f=open(FName,'r',encoding='utf-8')\n",
    "    reader=csv.reader(f,delimiter=',')\n",
    "    for row in reader:\n",
    "        data.append(row)\n",
    "    f.close()\n",
    "    return data\n",
    "data=myOpen('날씨정보.csv')\n",
    "data\n",
    "header=data[0]\n",
    "local=data[1:]\n",
    "sum=0\n",
    "for x in local:\n",
    "    if x[4]!='':\n",
    "        sum+=float(x[4])\n",
    "sum\n",
    "\n"
   ]
  },
  {
   "cell_type": "code",
   "execution_count": 164,
   "metadata": {},
   "outputs": [
    {
     "data": {
      "text/plain": [
       "Text(0.5, 1.0, '제주')"
      ]
     },
     "execution_count": 164,
     "metadata": {},
     "output_type": "execute_result"
    },
    {
     "name": "stderr",
     "output_type": "stream",
     "text": [
      "findfont: Font family 'NanumGothic-Regular' not found.\n",
      "findfont: Font family 'NanumGothic-Regular' not found.\n",
      "findfont: Font family 'NanumGothic-Regular' not found.\n",
      "findfont: Font family 'NanumGothic-Regular' not found.\n",
      "findfont: Font family 'NanumGothic-Regular' not found.\n",
      "findfont: Font family 'NanumGothic-Regular' not found.\n",
      "findfont: Font family 'NanumGothic-Regular' not found.\n",
      "findfont: Font family 'NanumGothic-Regular' not found.\n",
      "findfont: Font family 'NanumGothic-Regular' not found.\n",
      "findfont: Font family 'NanumGothic-Regular' not found.\n",
      "findfont: Font family 'NanumGothic-Regular' not found.\n",
      "findfont: Font family 'NanumGothic-Regular' not found.\n",
      "findfont: Font family 'NanumGothic-Regular' not found.\n",
      "findfont: Font family 'NanumGothic-Regular' not found.\n",
      "findfont: Font family 'NanumGothic-Regular' not found.\n",
      "findfont: Font family 'NanumGothic-Regular' not found.\n",
      "findfont: Font family 'NanumGothic-Regular' not found.\n",
      "findfont: Font family 'NanumGothic-Regular' not found.\n",
      "findfont: Font family 'NanumGothic-Regular' not found.\n",
      "findfont: Font family 'NanumGothic-Regular' not found.\n",
      "findfont: Font family 'NanumGothic-Regular' not found.\n",
      "findfont: Font family 'NanumGothic-Regular' not found.\n",
      "findfont: Font family 'NanumGothic-Regular' not found.\n",
      "findfont: Font family 'NanumGothic-Regular' not found.\n",
      "findfont: Font family 'NanumGothic-Regular' not found.\n",
      "findfont: Font family 'NanumGothic-Regular' not found.\n",
      "findfont: Font family 'NanumGothic-Regular' not found.\n",
      "findfont: Font family 'NanumGothic-Regular' not found.\n",
      "findfont: Font family 'NanumGothic-Regular' not found.\n",
      "findfont: Font family 'NanumGothic-Regular' not found.\n",
      "findfont: Font family 'NanumGothic-Regular' not found.\n",
      "findfont: Font family 'NanumGothic-Regular' not found.\n",
      "findfont: Font family 'NanumGothic-Regular' not found.\n",
      "findfont: Font family 'NanumGothic-Regular' not found.\n",
      "findfont: Font family 'NanumGothic-Regular' not found.\n",
      "findfont: Font family 'NanumGothic-Regular' not found.\n",
      "findfont: Font family 'NanumGothic-Regular' not found.\n",
      "findfont: Font family 'NanumGothic-Regular' not found.\n",
      "findfont: Font family 'NanumGothic-Regular' not found.\n",
      "findfont: Font family 'NanumGothic-Regular' not found.\n",
      "findfont: Font family 'NanumGothic-Regular' not found.\n",
      "findfont: Font family 'NanumGothic-Regular' not found.\n",
      "findfont: Font family 'NanumGothic-Regular' not found.\n",
      "findfont: Font family 'NanumGothic-Regular' not found.\n",
      "findfont: Font family 'NanumGothic-Regular' not found.\n",
      "findfont: Font family 'NanumGothic-Regular' not found.\n",
      "findfont: Font family 'NanumGothic-Regular' not found.\n",
      "findfont: Font family 'NanumGothic-Regular' not found.\n",
      "findfont: Font family 'NanumGothic-Regular' not found.\n",
      "findfont: Font family 'NanumGothic-Regular' not found.\n",
      "findfont: Font family 'NanumGothic-Regular' not found.\n",
      "findfont: Font family 'NanumGothic-Regular' not found.\n",
      "findfont: Font family 'NanumGothic-Regular' not found.\n",
      "findfont: Font family 'NanumGothic-Regular' not found.\n",
      "findfont: Font family 'NanumGothic-Regular' not found.\n",
      "findfont: Font family 'NanumGothic-Regular' not found.\n",
      "findfont: Font family 'NanumGothic-Regular' not found.\n",
      "findfont: Font family 'NanumGothic-Regular' not found.\n",
      "findfont: Font family 'NanumGothic-Regular' not found.\n",
      "findfont: Font family 'NanumGothic-Regular' not found.\n",
      "findfont: Font family 'NanumGothic-Regular' not found.\n",
      "findfont: Font family 'NanumGothic-Regular' not found.\n",
      "findfont: Font family 'NanumGothic-Regular' not found.\n",
      "findfont: Font family 'NanumGothic-Regular' not found.\n",
      "findfont: Font family 'NanumGothic-Regular' not found.\n",
      "findfont: Font family 'NanumGothic-Regular' not found.\n",
      "findfont: Font family 'NanumGothic-Regular' not found.\n",
      "findfont: Font family 'NanumGothic-Regular' not found.\n",
      "findfont: Font family 'NanumGothic-Regular' not found.\n",
      "findfont: Font family 'NanumGothic-Regular' not found.\n",
      "findfont: Font family 'NanumGothic-Regular' not found.\n",
      "findfont: Font family 'NanumGothic-Regular' not found.\n",
      "findfont: Font family 'NanumGothic-Regular' not found.\n",
      "findfont: Font family 'NanumGothic-Regular' not found.\n",
      "findfont: Font family 'NanumGothic-Regular' not found.\n",
      "findfont: Font family 'NanumGothic-Regular' not found.\n",
      "findfont: Font family 'NanumGothic-Regular' not found.\n",
      "findfont: Font family 'NanumGothic-Regular' not found.\n",
      "findfont: Font family 'NanumGothic-Regular' not found.\n",
      "findfont: Font family 'NanumGothic-Regular' not found.\n",
      "findfont: Font family 'NanumGothic-Regular' not found.\n",
      "findfont: Font family 'NanumGothic-Regular' not found.\n",
      "findfont: Font family 'NanumGothic-Regular' not found.\n",
      "findfont: Font family 'NanumGothic-Regular' not found.\n",
      "findfont: Font family 'NanumGothic-Regular' not found.\n",
      "findfont: Font family 'NanumGothic-Regular' not found.\n",
      "findfont: Font family 'NanumGothic-Regular' not found.\n",
      "findfont: Font family 'NanumGothic-Regular' not found.\n",
      "findfont: Font family 'NanumGothic-Regular' not found.\n",
      "findfont: Font family 'NanumGothic-Regular' not found.\n",
      "findfont: Font family 'NanumGothic-Regular' not found.\n",
      "findfont: Font family 'NanumGothic-Regular' not found.\n",
      "findfont: Font family 'NanumGothic-Regular' not found.\n",
      "findfont: Font family 'NanumGothic-Regular' not found.\n",
      "findfont: Font family 'NanumGothic-Regular' not found.\n",
      "findfont: Font family 'NanumGothic-Regular' not found.\n",
      "findfont: Font family 'NanumGothic-Regular' not found.\n",
      "findfont: Font family 'NanumGothic-Regular' not found.\n",
      "findfont: Font family 'NanumGothic-Regular' not found.\n",
      "findfont: Font family 'NanumGothic-Regular' not found.\n",
      "findfont: Font family 'NanumGothic-Regular' not found.\n",
      "findfont: Font family 'NanumGothic-Regular' not found.\n",
      "findfont: Font family 'NanumGothic-Regular' not found.\n",
      "findfont: Font family 'NanumGothic-Regular' not found.\n",
      "findfont: Font family 'NanumGothic-Regular' not found.\n",
      "findfont: Font family 'NanumGothic-Regular' not found.\n",
      "findfont: Font family 'NanumGothic-Regular' not found.\n",
      "findfont: Font family 'NanumGothic-Regular' not found.\n",
      "findfont: Font family 'NanumGothic-Regular' not found.\n",
      "findfont: Font family 'NanumGothic-Regular' not found.\n"
     ]
    },
    {
     "data": {
      "image/png": "[encoded data removed]",
      "text/plain": [
       "<Figure size 1000x300 with 3 Axes>"
      ]
     },
     "metadata": {},
     "output_type": "display_data"
    }
   ],
   "source": [
    "nsum=[]\n",
    "for x in local:\n",
    "    if x[4]=='':\n",
    "        nsum.append(0)\n",
    "    else:\n",
    "        nsum.append(float(x[4]))\n",
    "nsum\n",
    "import matplotlib.pyplot as plt \n",
    "서울,부산,제주 = nsum[:30],nsum[31:60],nsum[60:]\n",
    "plt.figure(figsize=(10,3))\n",
    "plt.subplot(1,3,1)\n",
    "plt.plot(서울)\n",
    "plt.ylim([0,80])\n",
    "plt.title('서울')\n",
    "plt.subplot(1,3,2)\n",
    "plt.plot(부산)\n",
    "plt.ylim([0,80])\n",
    "plt.title('부산')\n",
    "plt.subplot(1,3,3)\n",
    "plt.plot(제주)\n",
    "plt.ylim([0,80])\n",
    "plt.title('제주')\n"
   ]
  },
  {
   "cell_type": "code",
   "execution_count": 167,
   "metadata": {},
   "outputs": [
    {
     "name": "stderr",
     "output_type": "stream",
     "text": [
      "findfont: Font family 'NanumGothic' not found.\n",
      "findfont: Font family 'NanumGothic' not found.\n"
     ]
    },
    {
     "name": "stderr",
     "output_type": "stream",
     "text": [
      "findfont: Font family 'NanumGothic' not found.\n",
      "findfont: Font family 'NanumGothic' not found.\n",
      "findfont: Font family 'NanumGothic' not found.\n",
      "findfont: Font family 'NanumGothic' not found.\n",
      "findfont: Font family 'NanumGothic' not found.\n",
      "findfont: Font family 'NanumGothic' not found.\n",
      "findfont: Font family 'NanumGothic' not found.\n",
      "findfont: Font family 'NanumGothic' not found.\n",
      "findfont: Font family 'NanumGothic' not found.\n",
      "findfont: Font family 'NanumGothic' not found.\n",
      "c:\\Users\\USER\\miniconda3\\envs\\SeSaC\\Lib\\site-packages\\IPython\\core\\events.py:82: UserWarning: Glyph 49436 (\\N{HANGUL SYLLABLE SEO}) missing from current font.\n",
      "  func(*args, **kwargs)\n",
      "c:\\Users\\USER\\miniconda3\\envs\\SeSaC\\Lib\\site-packages\\IPython\\core\\events.py:82: UserWarning: Glyph 50872 (\\N{HANGUL SYLLABLE UL}) missing from current font.\n",
      "  func(*args, **kwargs)\n",
      "c:\\Users\\USER\\miniconda3\\envs\\SeSaC\\Lib\\site-packages\\IPython\\core\\events.py:82: UserWarning: Glyph 44053 (\\N{HANGUL SYLLABLE GANG}) missing from current font.\n",
      "  func(*args, **kwargs)\n",
      "c:\\Users\\USER\\miniconda3\\envs\\SeSaC\\Lib\\site-packages\\IPython\\core\\events.py:82: UserWarning: Glyph 49688 (\\N{HANGUL SYLLABLE SU}) missing from current font.\n",
      "  func(*args, **kwargs)\n",
      "c:\\Users\\USER\\miniconda3\\envs\\SeSaC\\Lib\\site-packages\\IPython\\core\\events.py:82: UserWarning: Glyph 47049 (\\N{HANGUL SYLLABLE RYANG}) missing from current font.\n",
      "  func(*args, **kwargs)\n",
      "findfont: Font family 'NanumGothic' not found.\n",
      "findfont: Font family 'NanumGothic' not found.\n",
      "findfont: Font family 'NanumGothic' not found.\n",
      "findfont: Font family 'NanumGothic' not found.\n",
      "findfont: Font family 'NanumGothic' not found.\n",
      "findfont: Font family 'NanumGothic' not found.\n",
      "findfont: Font family 'NanumGothic' not found.\n",
      "findfont: Font family 'NanumGothic' not found.\n",
      "findfont: Font family 'NanumGothic' not found.\n",
      "findfont: Font family 'NanumGothic' not found.\n",
      "findfont: Font family 'NanumGothic' not found.\n",
      "findfont: Font family 'NanumGothic' not found.\n",
      "findfont: Font family 'NanumGothic' not found.\n",
      "c:\\Users\\USER\\miniconda3\\envs\\SeSaC\\Lib\\site-packages\\IPython\\core\\events.py:82: UserWarning: Glyph 48512 (\\N{HANGUL SYLLABLE BU}) missing from current font.\n",
      "  func(*args, **kwargs)\n",
      "c:\\Users\\USER\\miniconda3\\envs\\SeSaC\\Lib\\site-packages\\IPython\\core\\events.py:82: UserWarning: Glyph 49328 (\\N{HANGUL SYLLABLE SAN}) missing from current font.\n",
      "  func(*args, **kwargs)\n",
      "findfont: Font family 'NanumGothic' not found.\n",
      "findfont: Font family 'NanumGothic' not found.\n",
      "findfont: Font family 'NanumGothic' not found.\n",
      "findfont: Font family 'NanumGothic' not found.\n",
      "findfont: Font family 'NanumGothic' not found.\n",
      "findfont: Font family 'NanumGothic' not found.\n",
      "findfont: Font family 'NanumGothic' not found.\n",
      "findfont: Font family 'NanumGothic' not found.\n",
      "findfont: Font family 'NanumGothic' not found.\n",
      "findfont: Font family 'NanumGothic' not found.\n",
      "findfont: Font family 'NanumGothic' not found.\n",
      "findfont: Font family 'NanumGothic' not found.\n",
      "findfont: Font family 'NanumGothic' not found.\n",
      "c:\\Users\\USER\\miniconda3\\envs\\SeSaC\\Lib\\site-packages\\IPython\\core\\events.py:82: UserWarning: Glyph 51228 (\\N{HANGUL SYLLABLE JE}) missing from current font.\n",
      "  func(*args, **kwargs)\n",
      "c:\\Users\\USER\\miniconda3\\envs\\SeSaC\\Lib\\site-packages\\IPython\\core\\events.py:82: UserWarning: Glyph 51452 (\\N{HANGUL SYLLABLE JU}) missing from current font.\n",
      "  func(*args, **kwargs)\n",
      "findfont: Font family 'NanumGothic' not found.\n",
      "findfont: Font family 'NanumGothic' not found.\n",
      "findfont: Font family 'NanumGothic' not found.\n",
      "findfont: Font family 'NanumGothic' not found.\n",
      "findfont: Font family 'NanumGothic' not found.\n",
      "findfont: Font family 'NanumGothic' not found.\n",
      "findfont: Font family 'NanumGothic' not found.\n",
      "findfont: Font family 'NanumGothic' not found.\n",
      "findfont: Font family 'NanumGothic' not found.\n",
      "findfont: Font family 'NanumGothic' not found.\n",
      "findfont: Font family 'NanumGothic' not found.\n",
      "findfont: Font family 'NanumGothic' not found.\n",
      "findfont: Font family 'NanumGothic' not found.\n",
      "findfont: Font family 'NanumGothic' not found.\n",
      "findfont: Font family 'NanumGothic' not found.\n",
      "findfont: Font family 'NanumGothic' not found.\n",
      "findfont: Font family 'NanumGothic' not found.\n",
      "findfont: Font family 'NanumGothic' not found.\n",
      "findfont: Font family 'NanumGothic' not found.\n",
      "findfont: Font family 'NanumGothic' not found.\n",
      "findfont: Font family 'NanumGothic' not found.\n",
      "findfont: Font family 'NanumGothic' not found.\n",
      "findfont: Font family 'NanumGothic' not found.\n",
      "findfont: Font family 'NanumGothic' not found.\n",
      "c:\\Users\\USER\\miniconda3\\envs\\SeSaC\\Lib\\site-packages\\IPython\\core\\pylabtools.py:152: UserWarning: Glyph 49436 (\\N{HANGUL SYLLABLE SEO}) missing from current font.\n",
      "  fig.canvas.print_figure(bytes_io, **kw)\n",
      "c:\\Users\\USER\\miniconda3\\envs\\SeSaC\\Lib\\site-packages\\IPython\\core\\pylabtools.py:152: UserWarning: Glyph 50872 (\\N{HANGUL SYLLABLE UL}) missing from current font.\n",
      "  fig.canvas.print_figure(bytes_io, **kw)\n",
      "c:\\Users\\USER\\miniconda3\\envs\\SeSaC\\Lib\\site-packages\\IPython\\core\\pylabtools.py:152: UserWarning: Glyph 44053 (\\N{HANGUL SYLLABLE GANG}) missing from current font.\n",
      "  fig.canvas.print_figure(bytes_io, **kw)\n",
      "c:\\Users\\USER\\miniconda3\\envs\\SeSaC\\Lib\\site-packages\\IPython\\core\\pylabtools.py:152: UserWarning: Glyph 49688 (\\N{HANGUL SYLLABLE SU}) missing from current font.\n",
      "  fig.canvas.print_figure(bytes_io, **kw)\n",
      "c:\\Users\\USER\\miniconda3\\envs\\SeSaC\\Lib\\site-packages\\IPython\\core\\pylabtools.py:152: UserWarning: Glyph 47049 (\\N{HANGUL SYLLABLE RYANG}) missing from current font.\n",
      "  fig.canvas.print_figure(bytes_io, **kw)\n",
      "findfont: Font family 'NanumGothic' not found.\n",
      "findfont: Font family 'NanumGothic' not found.\n",
      "findfont: Font family 'NanumGothic' not found.\n",
      "findfont: Font family 'NanumGothic' not found.\n",
      "findfont: Font family 'NanumGothic' not found.\n",
      "findfont: Font family 'NanumGothic' not found.\n",
      "findfont: Font family 'NanumGothic' not found.\n",
      "findfont: Font family 'NanumGothic' not found.\n",
      "findfont: Font family 'NanumGothic' not found.\n",
      "findfont: Font family 'NanumGothic' not found.\n",
      "findfont: Font family 'NanumGothic' not found.\n",
      "findfont: Font family 'NanumGothic' not found.\n",
      "findfont: Font family 'NanumGothic' not found.\n",
      "c:\\Users\\USER\\miniconda3\\envs\\SeSaC\\Lib\\site-packages\\IPython\\core\\pylabtools.py:152: UserWarning: Glyph 48512 (\\N{HANGUL SYLLABLE BU}) missing from current font.\n",
      "  fig.canvas.print_figure(bytes_io, **kw)\n",
      "c:\\Users\\USER\\miniconda3\\envs\\SeSaC\\Lib\\site-packages\\IPython\\core\\pylabtools.py:152: UserWarning: Glyph 49328 (\\N{HANGUL SYLLABLE SAN}) missing from current font.\n",
      "  fig.canvas.print_figure(bytes_io, **kw)\n",
      "findfont: Font family 'NanumGothic' not found.\n",
      "findfont: Font family 'NanumGothic' not found.\n",
      "findfont: Font family 'NanumGothic' not found.\n",
      "findfont: Font family 'NanumGothic' not found.\n",
      "findfont: Font family 'NanumGothic' not found.\n",
      "findfont: Font family 'NanumGothic' not found.\n",
      "findfont: Font family 'NanumGothic' not found.\n",
      "findfont: Font family 'NanumGothic' not found.\n",
      "findfont: Font family 'NanumGothic' not found.\n",
      "findfont: Font family 'NanumGothic' not found.\n",
      "findfont: Font family 'NanumGothic' not found.\n",
      "findfont: Font family 'NanumGothic' not found.\n",
      "findfont: Font family 'NanumGothic' not found.\n",
      "c:\\Users\\USER\\miniconda3\\envs\\SeSaC\\Lib\\site-packages\\IPython\\core\\pylabtools.py:152: UserWarning: Glyph 51228 (\\N{HANGUL SYLLABLE JE}) missing from current font.\n",
      "  fig.canvas.print_figure(bytes_io, **kw)\n",
      "c:\\Users\\USER\\miniconda3\\envs\\SeSaC\\Lib\\site-packages\\IPython\\core\\pylabtools.py:152: UserWarning: Glyph 51452 (\\N{HANGUL SYLLABLE JU}) missing from current font.\n",
      "  fig.canvas.print_figure(bytes_io, **kw)\n",
      "findfont: Font family 'NanumGothic' not found.\n",
      "findfont: Font family 'NanumGothic' not found.\n",
      "findfont: Font family 'NanumGothic' not found.\n",
      "findfont: Font family 'NanumGothic' not found.\n",
      "findfont: Font family 'NanumGothic' not found.\n",
      "findfont: Font family 'NanumGothic' not found.\n",
      "findfont: Font family 'NanumGothic' not found.\n",
      "findfont: Font family 'NanumGothic' not found.\n",
      "findfont: Font family 'NanumGothic' not found.\n",
      "findfont: Font family 'NanumGothic' not found.\n",
      "findfont: Font family 'NanumGothic' not found.\n",
      "findfont: Font family 'NanumGothic' not found.\n"
     ]
    },
    {
     "data": {
      "image/png": "[encoded data removed]",
      "text/plain": [
       "<Figure size 640x480 with 3 Axes>"
      ]
     },
     "metadata": {},
     "output_type": "display_data"
    }
   ],
   "source": [
    "def myChart(dataX,title,위치=1,ymin=0,ymax=80):\n",
    "    plt.subplot(1,3,위치)\n",
    "    plt.plot(dataX)\n",
    "    plt.title(title)\n",
    "    plt.ylim([ymin,ymax])\n",
    "자료=[서울,부산,제주]\n",
    "타이틀=['서울강수량','부산강수량','제주강수량']\n",
    "cnt=0\n",
    "for x,y in zip(자료,타이틀):\n",
    "    cnt+=1\n",
    "    myChart(x,y,cnt)\n",
    "\n",
    "# myChart(1,서울,'서울강수량',1)\n",
    "# myChart(1,서울,'서울강수량',1) 함수로 이런 일들을 최적화 가능 \n",
    "# myChart(1,서울,'서울강수량',1)"
   ]
  },
  {
   "cell_type": "code",
   "execution_count": 128,
   "metadata": {},
   "outputs": [
    {
     "name": "stdout",
     "output_type": "stream",
     "text": [
      "-132.2\n",
      "-1.4688888888888887\n",
      "14.5\n"
     ]
    }
   ],
   "source": [
    "import numpy as np \n",
    "new_num=[]\n",
    "for x in local:\n",
    "    new_num.append(float((x[3]))) \n",
    "print(np.sum(new_num,axis=0)) # 총합\n",
    "print(np.mean(new_num,axis=0)) # 평균 \n",
    "print(np.max(new_num,axis=0)) # 가장 높은 온도 "
   ]
  },
  {
   "cell_type": "code",
   "execution_count": 168,
   "metadata": {},
   "outputs": [
    {
     "name": "stderr",
     "output_type": "stream",
     "text": [
      "findfont: Font family 'NanumBarunGothic' not found.\n",
      "findfont: Font family 'NanumBarunGothic' not found.\n",
      "c:\\Users\\USER\\miniconda3\\envs\\SeSaC\\Lib\\site-packages\\IPython\\core\\pylabtools.py:152: UserWarning: Glyph 49436 (\\N{HANGUL SYLLABLE SEO}) missing from current font.\n",
      "  fig.canvas.print_figure(bytes_io, **kw)\n",
      "c:\\Users\\USER\\miniconda3\\envs\\SeSaC\\Lib\\site-packages\\IPython\\core\\pylabtools.py:152: UserWarning: Glyph 50872 (\\N{HANGUL SYLLABLE UL}) missing from current font.\n",
      "  fig.canvas.print_figure(bytes_io, **kw)\n",
      "findfont: Font family 'NanumBarunGothic' not found.\n",
      "c:\\Users\\USER\\miniconda3\\envs\\SeSaC\\Lib\\site-packages\\IPython\\core\\pylabtools.py:152: UserWarning: Glyph 48512 (\\N{HANGUL SYLLABLE BU}) missing from current font.\n",
      "  fig.canvas.print_figure(bytes_io, **kw)\n",
      "c:\\Users\\USER\\miniconda3\\envs\\SeSaC\\Lib\\site-packages\\IPython\\core\\pylabtools.py:152: UserWarning: Glyph 49328 (\\N{HANGUL SYLLABLE SAN}) missing from current font.\n",
      "  fig.canvas.print_figure(bytes_io, **kw)\n",
      "findfont: Font family 'NanumBarunGothic' not found.\n",
      "c:\\Users\\USER\\miniconda3\\envs\\SeSaC\\Lib\\site-packages\\IPython\\core\\pylabtools.py:152: UserWarning: Glyph 51228 (\\N{HANGUL SYLLABLE JE}) missing from current font.\n",
      "  fig.canvas.print_figure(bytes_io, **kw)\n",
      "c:\\Users\\USER\\miniconda3\\envs\\SeSaC\\Lib\\site-packages\\IPython\\core\\pylabtools.py:152: UserWarning: Glyph 51452 (\\N{HANGUL SYLLABLE JU}) missing from current font.\n",
      "  fig.canvas.print_figure(bytes_io, **kw)\n",
      "findfont: Font family 'NanumBarunGothic' not found.\n",
      "c:\\Users\\USER\\miniconda3\\envs\\SeSaC\\Lib\\site-packages\\IPython\\core\\pylabtools.py:152: UserWarning: Glyph 51648 (\\N{HANGUL SYLLABLE JI}) missing from current font.\n",
      "  fig.canvas.print_figure(bytes_io, **kw)\n",
      "c:\\Users\\USER\\miniconda3\\envs\\SeSaC\\Lib\\site-packages\\IPython\\core\\pylabtools.py:152: UserWarning: Glyph 51216 (\\N{HANGUL SYLLABLE JEOM}) missing from current font.\n",
      "  fig.canvas.print_figure(bytes_io, **kw)\n",
      "findfont: Font family 'NanumBarunGothic' not found.\n",
      "findfont: Font family 'NanumBarunGothic' not found.\n",
      "findfont: Font family 'NanumBarunGothic' not found.\n",
      "findfont: Font family 'NanumBarunGothic' not found.\n",
      "findfont: Font family 'NanumBarunGothic' not found.\n",
      "findfont: Font family 'NanumBarunGothic' not found.\n",
      "findfont: Font family 'NanumBarunGothic' not found.\n",
      "findfont: Font family 'NanumBarunGothic' not found.\n",
      "findfont: Font family 'NanumBarunGothic' not found.\n",
      "findfont: Font family 'NanumBarunGothic' not found.\n",
      "findfont: Font family 'NanumBarunGothic' not found.\n",
      "findfont: Font family 'NanumBarunGothic' not found.\n",
      "findfont: Font family 'NanumBarunGothic' not found.\n",
      "findfont: Font family 'NanumBarunGothic' not found.\n",
      "findfont: Font family 'NanumBarunGothic' not found.\n",
      "findfont: Font family 'NanumBarunGothic' not found.\n",
      "findfont: Font family 'NanumBarunGothic' not found.\n",
      "findfont: Font family 'NanumBarunGothic' not found.\n",
      "findfont: Font family 'NanumBarunGothic' not found.\n",
      "findfont: Font family 'NanumBarunGothic' not found.\n",
      "findfont: Font family 'NanumBarunGothic' not found.\n",
      "findfont: Font family 'NanumBarunGothic' not found.\n",
      "findfont: Font family 'NanumBarunGothic' not found.\n",
      "findfont: Font family 'NanumBarunGothic' not found.\n",
      "findfont: Font family 'NanumBarunGothic' not found.\n",
      "findfont: Font family 'NanumBarunGothic' not found.\n",
      "findfont: Font family 'NanumBarunGothic' not found.\n",
      "findfont: Font family 'NanumBarunGothic' not found.\n",
      "findfont: Font family 'NanumBarunGothic' not found.\n",
      "findfont: Font family 'NanumBarunGothic' not found.\n"
     ]
    },
    {
     "data": {
      "image/png": "[encoded data removed]",
      "text/plain": [
       "<Figure size 640x480 with 1 Axes>"
      ]
     },
     "metadata": {},
     "output_type": "display_data"
    }
   ],
   "source": [
    "import pandas as pd\n",
    "import matplotlib.pyplot as plt \n",
    "\n",
    "plt.rcParams['font.family'] ='NanumGothic'\n",
    "plt.rcParams['axes.unicode_minus'] =False\n",
    "\n",
    "df=pd.read_csv('날씨정보.csv',sep=',')\n",
    "df\n",
    "\n",
    "plt.rc('font',family='NanumBarunGothic')\n",
    "plt.bar(df['지점명'],df['최저기온'])\n",
    "plt.xlabel('지점')\n",
    "plt.show()"
   ]
  }
 ],
 "metadata": {
  "kernelspec": {
   "display_name": "SeSaC",
   "language": "python",
   "name": "python3"
  },
  "language_info": {
   "codemirror_mode": {
    "name": "ipython",
    "version": 3
   },
   "file_extension": ".py",
   "mimetype": "text/x-python",
   "name": "python",
   "nbconvert_exporter": "python",
   "pygments_lexer": "ipython3",
   "version": "3.12.0"
  }
 },
 "nbformat": 4,
 "nbformat_minor": 2
}
