{
 "cells": [
  {
   "cell_type": "markdown",
   "metadata": {},
   "source": [
    "#### [1] 파이썬 모듈\n",
    "- 모듈이란 함수나 변수 또는 클래스를 모아 놓은 파이썬 파일이다\n",
    "- 모듈은 다른 파이썬 프로그램에서 불러와 사용할 수 있도록 만든 파이썬 파일이라고도 할 수 있다"
   ]
  },
  {
   "cell_type": "code",
   "execution_count": 16,
   "metadata": {},
   "outputs": [],
   "source": [
    "import sys\n",
    "sys.path.append('test')\n",
    "\n"
   ]
  },
  {
   "cell_type": "code",
   "execution_count": 17,
   "metadata": {},
   "outputs": [
    {
     "name": "stdout",
     "output_type": "stream",
     "text": [
      "<<<<<<<<<<<<<<<<<<<<<<<\n",
      "\n",
      "        이 프로그램은 \n",
      "        파이썬에서 작성\n",
      "        \n",
      ">>>>>>>>>>>>>>>>>>>>>>>\n"
     ]
    }
   ],
   "source": [
    "# class는 성격이 같은 함수 모임 \n",
    "\n",
    "class prn():\n",
    "    def line(x='-',y=22):\n",
    "        print(x*y)\n",
    "\n",
    "    def ti():\n",
    "        print('''\n",
    "        이 프로그램은 \n",
    "        파이썬에서 작성\n",
    "        ''')\n",
    "prn.line('<',23)\n",
    "prn.ti()\n",
    "prn.line('>',23)\n"
   ]
  },
  {
   "cell_type": "markdown",
   "metadata": {},
   "source": [
    "#### Test 폴더를 import하면 __init__.py 를 자동으로 실행 \n",
    "- **import numpy -> numpy 폴더에 가서 __init__.py 를 메모리에 올리자( 사용할 수 있게 준비하자)**\n",
    "\n",
    "- __init__.py 에는 함수 또는 다른 py를 import 하자"
   ]
  },
  {
   "cell_type": "markdown",
   "metadata": {},
   "source": [
    "#### [2] 파이썬 모듈관련 명령\n",
    "- 설치하기: 주피터노트북에서는 !pip install 모듈명\n",
    "- 모듈정보보기: 주피터노트북에서는 !pip show 모듈명"
   ]
  },
  {
   "cell_type": "code",
   "execution_count": 18,
   "metadata": {},
   "outputs": [
    {
     "name": "stdout",
     "output_type": "stream",
     "text": [
      "--------------------\n",
      " ver: python 3.8 \n",
      "              year: 2023\n",
      "        \n",
      "--------------------\n",
      "5*0=0\n",
      "5*1=5\n",
      "5*2=10\n",
      "5*3=15\n",
      "5*4=20\n",
      "5*5=25\n",
      "5*6=30\n",
      "5*7=35\n",
      "5*8=40\n"
     ]
    }
   ],
   "source": [
    "# test 폴더를 import 하면 __init__.py 를 자동으로 실행함\n",
    "\n",
    "\n",
    "import test                 # __init__.py 의 함수 힐행\n",
    "import test.guguDan as b    # __init__.py 에서 import guguDan 된 모듈을 b 로 별명\n",
    "test.line()\n",
    "test.title()\n",
    "\n",
    "test.line()\n",
    "b.gugu()    # 입력할 단숫자를 넣음."
   ]
  },
  {
   "cell_type": "markdown",
   "metadata": {},
   "source": [
    "#### [3] 파이썬 메모리 제거\n",
    "- del 변수  로 일부 변수만 제거\n",
    "- 아래의 명령으로 메모리 모든 내용 제거\n"
   ]
  },
  {
   "cell_type": "code",
   "execution_count": 19,
   "metadata": {},
   "outputs": [],
   "source": [
    "for name in list(globals().keys()):\n",
    "    if not name.startswith('_'):\n",
    "        del globals()[name]"
   ]
  },
  {
   "cell_type": "markdown",
   "metadata": {},
   "source": [
    "### Print 함수"
   ]
  },
  {
   "cell_type": "code",
   "execution_count": 20,
   "metadata": {},
   "outputs": [
    {
     "name": "stdout",
     "output_type": "stream",
     "text": [
      "3*4.0=12.0\n",
      "3*4=12\n"
     ]
    }
   ],
   "source": [
    "a=3 #정수\n",
    "b=4.0 #실수\n",
    "a*b #실수\n",
    "\n",
    "print('{}*{}={}'.format(a,b,a*b)) #format을 통해서 값을 대입가능\n",
    "print('%d*%d=%d'%(a,b,a*b))"
   ]
  },
  {
   "cell_type": "markdown",
   "metadata": {},
   "source": [
    "### 변수 입력시 노란색은 사용하면 X\n",
    "- del 변수로 메모리에서 제거  \n",
    "- 해당 변수 또는 요소에 할당된 값을 삭제하는것. 객체가 더이상 참조 X -> 실제로 메모리에서 해제 \n"
   ]
  },
  {
   "cell_type": "markdown",
   "metadata": {},
   "source": [
    "### 파이썬 메모리내의 모든 자료 삭제하는 방법\n",
    "- 1. VS코드를 종류후 재실행\n",
    "- 2. 코드로 메모리내의 모든 변수를 제거\n",
    "    - 사용되는 변수 지정하여 메모리에서 삭제 (del 변수명)\n"
   ]
  },
  {
   "cell_type": "markdown",
   "metadata": {},
   "source": [
    "## INPUT\n",
    "input으로 들어오는 값의 기본은 str"
   ]
  },
  {
   "cell_type": "code",
   "execution_count": null,
   "metadata": {},
   "outputs": [
    {
     "name": "stdout",
     "output_type": "stream",
     "text": [
      "<class 'str'>\n",
      "<class 'int'>\n"
     ]
    }
   ],
   "source": [
    "x=input('값 입력')\n",
    "print(type(x))\n",
    "\n",
    "x=int(x)  #형 변환\n",
    "print(type(x))  "
   ]
  },
  {
   "cell_type": "markdown",
   "metadata": {},
   "source": [
    "#### 튜플은 변경할 수 없기 때문에 리스트와는 달리 요소를 추가, 삭제, 수정할 수 없습니다."
   ]
  },
  {
   "cell_type": "code",
   "execution_count": null,
   "metadata": {},
   "outputs": [
    {
     "name": "stdout",
     "output_type": "stream",
     "text": [
      "[2, 3]\n",
      "(2, 3)\n"
     ]
    },
    {
     "data": {
      "text/plain": [
       "([5, 3], [5, 3])"
      ]
     },
     "execution_count": 6,
     "metadata": {},
     "output_type": "execute_result"
    }
   ],
   "source": [
    "a=[2,3]\n",
    "type(a),a*3\n",
    "print(a)\n",
    "a=tuple(a)\n",
    "print(a)\n",
    "\n",
    "a=[1,3]\n",
    "b=(1,3)\n",
    "a[0]=5\n",
    "b=list(b)\n",
    "b[0]=5\n",
    "a,b\n",
    "# b[0]=5  # -> error list로 안바꾸고 진행시\n"
   ]
  },
  {
   "cell_type": "markdown",
   "metadata": {},
   "source": [
    "### 예외처리\n",
    "- input함수에서 프로그래머의 오류가 아닌 사용자의 에러 처리를 위한 예외처리를 지정하는 것이 좋습니다.\n",
    "    - 예외 처리: 사용자 입력 과정에서 예외가 발생할 수 있습니다. 예를 들어, 사용자가 예상치 못한 종류의 입력을 하는 경우, 프로그램은 예외를 발생시키고 중단될 수 있습니다. \n",
    "    - try-except 블록을 사용하여 이러한 예외를 처리하는 것이 좋습니다.\n",
    "        - try:\n",
    "            - 실행할 코드\n",
    "        - except:\n",
    "            - 예외가 발생했을 때 처리하는 코드"
   ]
  },
  {
   "cell_type": "markdown",
   "metadata": {},
   "source": [
    "```\n",
    "        try:\n",
    "            # 예외가 발생할 수 있는 코드\n",
    "            # 실행할 코드 블록\n",
    "            result = 10 / 0  # 예외 발생 가능성 있는 코드\n",
    "            # ...\n",
    "        except [예외 종류1] as e1:\n",
    "            # 예외 종류1에 해당하는 예외 처리\n",
    "            # e1은 예외 정보를 담고 있는 변수\n",
    "            # ...\n",
    "        except [예외 종류2] as e2:\n",
    "            # 예외 종류2에 해당하는 예외 처리\n",
    "            # e2는 예외 정보를 담고 있는 변수\n",
    "            # ...\n",
    "        else:\n",
    "            # 예외가 발생하지 않았을 때 실행할 코드\n",
    "            # 생략 가능\n",
    "            # ...\n",
    "        finally:\n",
    "            # 예외 발생 여부와 상관없이 항상 실행되는 코드\n",
    "            # 주로 리소스 정리나 마무리 작업을 위해 활용\n",
    "            # 생략 가능\n",
    "            # ...\n",
    "\n",
    "```"
   ]
  },
  {
   "cell_type": "markdown",
   "metadata": {},
   "source": [
    "### [2-2] 파이썬 input 외부자료 활용하기\n",
    "CSV는 Comma-Separated Values의 약자로, 데이터를 저장하는 파일 형식 중 하나입니다. 이 형식은 데이터를 쉼표(또는 다른 구분 기호)로 구분하여 저장하는 텍스트 파일 형식입니다. "
   ]
  },
  {
   "cell_type": "code",
   "execution_count": 21,
   "metadata": {},
   "outputs": [
    {
     "name": "stdout",
     "output_type": "stream",
     "text": [
      "id:b, pass:2 로 로그인하였습니다\n"
     ]
    }
   ],
   "source": [
    "import csv\n",
    "\n",
    "id,passWord='b',2\n",
    "chk=0\n",
    "\n",
    "with open('userinfo.csv', newline='') as csvfile:\n",
    "    csvreader = csv.reader(csvfile, delimiter='\\t') #tab 단위\n",
    "    for row in csvreader: ## row는 id,password\n",
    "        \n",
    "        if id==row[0] and passWord==int(row[1]): ## 아이디와 비밀번호가 일치하는경우\n",
    "            print('id:%s, pass:%d 로 로그인하였습니다'%(id,passWord))\n",
    "            chk=1\n",
    "            break ##탈출\n",
    "if chk!=1:\n",
    "    print('id:%s, pass:%d 로 로그인 실패하였습니다'%(id,passWord))\n",
    "        \n"
   ]
  },
  {
   "cell_type": "markdown",
   "metadata": {},
   "source": [
    "## [3] 파이썬 변수 이해 (교재 78~115)\n",
    "- 파이썬 변수 작성 규칙\n",
    "    - 키워드*를 사용하면 안 됩니다.\n",
    "    - 특수 문자는 언더 바(_ )만 허용됩니다.\n",
    "    - 숫자로 시작하면 안 됩니다.\n",
    "    - 공백을 포함할 수 없습니다.\n",
    "    - https://hongong.hanbit.co.kr/%ED%8C%8C%EC%9D%B4%EC%8D%AC-%EB%B3%80%EC%88%98%EB%AA%85-%EA%B7%9C%EC%B9%99%EA%B3%BC-%EC%8B%9D%EB%B3%84%EC%9E%90-%EA%B5%AC%EB%B6%84-%EB%B0%A9%EB%B2%95/"
   ]
  }
 ],
 "metadata": {
  "kernelspec": {
   "display_name": "SeSaC",
   "language": "python",
   "name": "python3"
  },
  "language_info": {
   "codemirror_mode": {
    "name": "ipython",
    "version": 3
   },
   "file_extension": ".py",
   "mimetype": "text/x-python",
   "name": "python",
   "nbconvert_exporter": "python",
   "pygments_lexer": "ipython3",
   "version": "3.12.0"
  }
 },
 "nbformat": 4,
 "nbformat_minor": 2
}
