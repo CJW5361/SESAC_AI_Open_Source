{
 "cells": [
  {
   "cell_type": "code",
   "execution_count": 7,
   "metadata": {},
   "outputs": [
    {
     "ename": "SlackApiError",
     "evalue": "The request to the Slack API failed. (url: https://www.slack.com/api/rtm.connect)\nThe server responded with: {'ok': False, 'error': 'not_allowed_token_type'}",
     "output_type": "error",
     "traceback": [
      "\u001b[1;31m---------------------------------------------------------------------------\u001b[0m",
      "\u001b[1;31mSlackApiError\u001b[0m                             Traceback (most recent call last)",
      "Cell \u001b[1;32mIn[7], line 21\u001b[0m\n\u001b[0;32m     13\u001b[0m         client\u001b[38;5;241m.\u001b[39mweb_client\u001b[38;5;241m.\u001b[39mchat_postMessage(\n\u001b[0;32m     14\u001b[0m             channel\u001b[38;5;241m=\u001b[39mchannel_id,\n\u001b[0;32m     15\u001b[0m             text\u001b[38;5;241m=\u001b[39m\u001b[38;5;124m'\u001b[39m\u001b[38;5;124m응 안녕\u001b[39m\u001b[38;5;124m'\u001b[39m,\n\u001b[0;32m     16\u001b[0m             thread_ts\u001b[38;5;241m=\u001b[39mthread_ts\n\u001b[0;32m     17\u001b[0m         )\n\u001b[0;32m     20\u001b[0m \u001b[38;5;28;01mif\u001b[39;00m \u001b[38;5;18m__name__\u001b[39m \u001b[38;5;241m==\u001b[39m \u001b[38;5;124m\"\u001b[39m\u001b[38;5;124m__main__\u001b[39m\u001b[38;5;124m\"\u001b[39m:\n\u001b[1;32m---> 21\u001b[0m     \u001b[43mrtm\u001b[49m\u001b[38;5;241;43m.\u001b[39;49m\u001b[43mconnect\u001b[49m\u001b[43m(\u001b[49m\u001b[43m)\u001b[49m\n\u001b[0;32m     22\u001b[0m     \u001b[38;5;28;01mwhile\u001b[39;00m \u001b[38;5;28;01mTrue\u001b[39;00m: \u001b[38;5;66;03m# @rtm.on 상태를 유지\u001b[39;00m\n\u001b[0;32m     23\u001b[0m         sleep(\u001b[38;5;241m1\u001b[39m)\n",
      "File \u001b[1;32mc:\\Users\\USER\\miniconda3\\envs\\gonmo\\lib\\site-packages\\slack_sdk\\rtm_v2\\__init__.py:221\u001b[0m, in \u001b[0;36mRTMClient.connect\u001b[1;34m(self)\u001b[0m\n\u001b[0;32m    218\u001b[0m old_current_session_state: ConnectionState \u001b[38;5;241m=\u001b[39m \u001b[38;5;28mself\u001b[39m\u001b[38;5;241m.\u001b[39mcurrent_session_state\n\u001b[0;32m    220\u001b[0m \u001b[38;5;28;01mif\u001b[39;00m \u001b[38;5;28mself\u001b[39m\u001b[38;5;241m.\u001b[39mwss_uri \u001b[38;5;129;01mis\u001b[39;00m \u001b[38;5;28;01mNone\u001b[39;00m:\n\u001b[1;32m--> 221\u001b[0m     \u001b[38;5;28mself\u001b[39m\u001b[38;5;241m.\u001b[39mwss_uri \u001b[38;5;241m=\u001b[39m \u001b[38;5;28;43mself\u001b[39;49m\u001b[38;5;241;43m.\u001b[39;49m\u001b[43missue_new_wss_url\u001b[49m\u001b[43m(\u001b[49m\u001b[43m)\u001b[49m\n\u001b[0;32m    223\u001b[0m current_session \u001b[38;5;241m=\u001b[39m Connection(\n\u001b[0;32m    224\u001b[0m     url\u001b[38;5;241m=\u001b[39m\u001b[38;5;28mself\u001b[39m\u001b[38;5;241m.\u001b[39mwss_uri,\n\u001b[0;32m    225\u001b[0m     logger\u001b[38;5;241m=\u001b[39m\u001b[38;5;28mself\u001b[39m\u001b[38;5;241m.\u001b[39mlogger,\n\u001b[1;32m   (...)\u001b[0m\n\u001b[0;32m    235\u001b[0m     connection_type_name\u001b[38;5;241m=\u001b[39m\u001b[38;5;124m\"\u001b[39m\u001b[38;5;124mRTM\u001b[39m\u001b[38;5;124m\"\u001b[39m,\n\u001b[0;32m    236\u001b[0m )\n\u001b[0;32m    237\u001b[0m current_session\u001b[38;5;241m.\u001b[39mconnect()\n",
      "File \u001b[1;32mc:\\Users\\USER\\miniconda3\\envs\\gonmo\\lib\\site-packages\\slack_sdk\\rtm_v2\\__init__.py:201\u001b[0m, in \u001b[0;36mRTMClient.issue_new_wss_url\u001b[1;34m(self)\u001b[0m\n\u001b[0;32m    198\u001b[0m \u001b[38;5;28;01melse\u001b[39;00m:\n\u001b[0;32m    199\u001b[0m     \u001b[38;5;66;03m# other errors\u001b[39;00m\n\u001b[0;32m    200\u001b[0m     \u001b[38;5;28mself\u001b[39m\u001b[38;5;241m.\u001b[39mlogger\u001b[38;5;241m.\u001b[39merror(\u001b[38;5;124mf\u001b[39m\u001b[38;5;124m\"\u001b[39m\u001b[38;5;124mFailed to retrieve WSS URL: \u001b[39m\u001b[38;5;132;01m{\u001b[39;00me\u001b[38;5;132;01m}\u001b[39;00m\u001b[38;5;124m\"\u001b[39m)\n\u001b[1;32m--> 201\u001b[0m     \u001b[38;5;28;01mraise\u001b[39;00m e\n",
      "File \u001b[1;32mc:\\Users\\USER\\miniconda3\\envs\\gonmo\\lib\\site-packages\\slack_sdk\\rtm_v2\\__init__.py:189\u001b[0m, in \u001b[0;36mRTMClient.issue_new_wss_url\u001b[1;34m(self)\u001b[0m\n\u001b[0;32m    187\u001b[0m \u001b[38;5;250m\u001b[39m\u001b[38;5;124;03m\"\"\"Acquires a new WSS URL using rtm.connect API method\"\"\"\u001b[39;00m\n\u001b[0;32m    188\u001b[0m \u001b[38;5;28;01mtry\u001b[39;00m:\n\u001b[1;32m--> 189\u001b[0m     api_response \u001b[38;5;241m=\u001b[39m \u001b[38;5;28;43mself\u001b[39;49m\u001b[38;5;241;43m.\u001b[39;49m\u001b[43mweb_client\u001b[49m\u001b[38;5;241;43m.\u001b[39;49m\u001b[43mrtm_connect\u001b[49m\u001b[43m(\u001b[49m\u001b[43m)\u001b[49m\n\u001b[0;32m    190\u001b[0m     \u001b[38;5;28;01mreturn\u001b[39;00m api_response[\u001b[38;5;124m\"\u001b[39m\u001b[38;5;124murl\u001b[39m\u001b[38;5;124m\"\u001b[39m]\n\u001b[0;32m    191\u001b[0m \u001b[38;5;28;01mexcept\u001b[39;00m SlackApiError \u001b[38;5;28;01mas\u001b[39;00m e:\n",
      "File \u001b[1;32mc:\\Users\\USER\\miniconda3\\envs\\gonmo\\lib\\site-packages\\slack_sdk\\web\\client.py:4344\u001b[0m, in \u001b[0;36mWebClient.rtm_connect\u001b[1;34m(self, batch_presence_aware, presence_sub, **kwargs)\u001b[0m\n\u001b[0;32m   4340\u001b[0m \u001b[38;5;250m\u001b[39m\u001b[38;5;124;03m\"\"\"Starts a Real Time Messaging session.\u001b[39;00m\n\u001b[0;32m   4341\u001b[0m \u001b[38;5;124;03mhttps://api.slack.com/methods/rtm.connect\u001b[39;00m\n\u001b[0;32m   4342\u001b[0m \u001b[38;5;124;03m\"\"\"\u001b[39;00m\n\u001b[0;32m   4343\u001b[0m kwargs\u001b[38;5;241m.\u001b[39mupdate({\u001b[38;5;124m\"\u001b[39m\u001b[38;5;124mbatch_presence_aware\u001b[39m\u001b[38;5;124m\"\u001b[39m: batch_presence_aware, \u001b[38;5;124m\"\u001b[39m\u001b[38;5;124mpresence_sub\u001b[39m\u001b[38;5;124m\"\u001b[39m: presence_sub})\n\u001b[1;32m-> 4344\u001b[0m \u001b[38;5;28;01mreturn\u001b[39;00m \u001b[38;5;28;43mself\u001b[39;49m\u001b[38;5;241;43m.\u001b[39;49m\u001b[43mapi_call\u001b[49m\u001b[43m(\u001b[49m\u001b[38;5;124;43m\"\u001b[39;49m\u001b[38;5;124;43mrtm.connect\u001b[39;49m\u001b[38;5;124;43m\"\u001b[39;49m\u001b[43m,\u001b[49m\u001b[43m \u001b[49m\u001b[43mhttp_verb\u001b[49m\u001b[38;5;241;43m=\u001b[39;49m\u001b[38;5;124;43m\"\u001b[39;49m\u001b[38;5;124;43mGET\u001b[39;49m\u001b[38;5;124;43m\"\u001b[39;49m\u001b[43m,\u001b[49m\u001b[43m \u001b[49m\u001b[43mparams\u001b[49m\u001b[38;5;241;43m=\u001b[39;49m\u001b[43mkwargs\u001b[49m\u001b[43m)\u001b[49m\n",
      "File \u001b[1;32mc:\\Users\\USER\\miniconda3\\envs\\gonmo\\lib\\site-packages\\slack_sdk\\web\\base_client.py:155\u001b[0m, in \u001b[0;36mBaseClient.api_call\u001b[1;34m(self, api_method, http_verb, files, data, params, json, headers, auth)\u001b[0m\n\u001b[0;32m    140\u001b[0m req_args \u001b[38;5;241m=\u001b[39m _build_req_args(\n\u001b[0;32m    141\u001b[0m     token\u001b[38;5;241m=\u001b[39m\u001b[38;5;28mself\u001b[39m\u001b[38;5;241m.\u001b[39mtoken,\n\u001b[0;32m    142\u001b[0m     http_verb\u001b[38;5;241m=\u001b[39mhttp_verb,\n\u001b[1;32m   (...)\u001b[0m\n\u001b[0;32m    151\u001b[0m     proxy\u001b[38;5;241m=\u001b[39m\u001b[38;5;28mself\u001b[39m\u001b[38;5;241m.\u001b[39mproxy,\n\u001b[0;32m    152\u001b[0m )\n\u001b[0;32m    154\u001b[0m show_deprecation_warning_if_any(api_method)\n\u001b[1;32m--> 155\u001b[0m \u001b[38;5;28;01mreturn\u001b[39;00m \u001b[38;5;28;43mself\u001b[39;49m\u001b[38;5;241;43m.\u001b[39;49m\u001b[43m_sync_send\u001b[49m\u001b[43m(\u001b[49m\u001b[43mapi_url\u001b[49m\u001b[38;5;241;43m=\u001b[39;49m\u001b[43mapi_url\u001b[49m\u001b[43m,\u001b[49m\u001b[43m \u001b[49m\u001b[43mreq_args\u001b[49m\u001b[38;5;241;43m=\u001b[39;49m\u001b[43mreq_args\u001b[49m\u001b[43m)\u001b[49m\n",
      "File \u001b[1;32mc:\\Users\\USER\\miniconda3\\envs\\gonmo\\lib\\site-packages\\slack_sdk\\web\\base_client.py:186\u001b[0m, in \u001b[0;36mBaseClient._sync_send\u001b[1;34m(self, api_url, req_args)\u001b[0m\n\u001b[0;32m    183\u001b[0m \u001b[38;5;28;01mif\u001b[39;00m data:\n\u001b[0;32m    184\u001b[0m     body_params\u001b[38;5;241m.\u001b[39mupdate(data)\n\u001b[1;32m--> 186\u001b[0m \u001b[38;5;28;01mreturn\u001b[39;00m \u001b[38;5;28;43mself\u001b[39;49m\u001b[38;5;241;43m.\u001b[39;49m\u001b[43m_urllib_api_call\u001b[49m\u001b[43m(\u001b[49m\n\u001b[0;32m    187\u001b[0m \u001b[43m    \u001b[49m\u001b[43mtoken\u001b[49m\u001b[38;5;241;43m=\u001b[39;49m\u001b[43mtoken\u001b[49m\u001b[43m,\u001b[49m\n\u001b[0;32m    188\u001b[0m \u001b[43m    \u001b[49m\u001b[43murl\u001b[49m\u001b[38;5;241;43m=\u001b[39;49m\u001b[43mapi_url\u001b[49m\u001b[43m,\u001b[49m\n\u001b[0;32m    189\u001b[0m \u001b[43m    \u001b[49m\u001b[43mquery_params\u001b[49m\u001b[38;5;241;43m=\u001b[39;49m\u001b[43m{\u001b[49m\u001b[43m}\u001b[49m\u001b[43m,\u001b[49m\n\u001b[0;32m    190\u001b[0m \u001b[43m    \u001b[49m\u001b[43mbody_params\u001b[49m\u001b[38;5;241;43m=\u001b[39;49m\u001b[43mbody_params\u001b[49m\u001b[43m,\u001b[49m\n\u001b[0;32m    191\u001b[0m \u001b[43m    \u001b[49m\u001b[43mfiles\u001b[49m\u001b[38;5;241;43m=\u001b[39;49m\u001b[43mfiles\u001b[49m\u001b[43m,\u001b[49m\n\u001b[0;32m    192\u001b[0m \u001b[43m    \u001b[49m\u001b[43mjson_body\u001b[49m\u001b[38;5;241;43m=\u001b[39;49m\u001b[43m_json\u001b[49m\u001b[43m,\u001b[49m\n\u001b[0;32m    193\u001b[0m \u001b[43m    \u001b[49m\u001b[43madditional_headers\u001b[49m\u001b[38;5;241;43m=\u001b[39;49m\u001b[43mheaders\u001b[49m\u001b[43m,\u001b[49m\n\u001b[0;32m    194\u001b[0m \u001b[43m\u001b[49m\u001b[43m)\u001b[49m\n",
      "File \u001b[1;32mc:\\Users\\USER\\miniconda3\\envs\\gonmo\\lib\\site-packages\\slack_sdk\\web\\base_client.py:317\u001b[0m, in \u001b[0;36mBaseClient._urllib_api_call\u001b[1;34m(self, token, url, query_params, json_body, body_params, files, additional_headers)\u001b[0m\n\u001b[0;32m    306\u001b[0m         all_params\u001b[38;5;241m.\u001b[39mupdate(query_params)\n\u001b[0;32m    307\u001b[0m     request_args[\u001b[38;5;124m\"\u001b[39m\u001b[38;5;124mparams\u001b[39m\u001b[38;5;124m\"\u001b[39m] \u001b[38;5;241m=\u001b[39m all_params  \u001b[38;5;66;03m# for backward-compatibility\u001b[39;00m\n\u001b[0;32m    309\u001b[0m     \u001b[38;5;28;01mreturn\u001b[39;00m \u001b[43mSlackResponse\u001b[49m\u001b[43m(\u001b[49m\n\u001b[0;32m    310\u001b[0m \u001b[43m        \u001b[49m\u001b[43mclient\u001b[49m\u001b[38;5;241;43m=\u001b[39;49m\u001b[38;5;28;43mself\u001b[39;49m\u001b[43m,\u001b[49m\n\u001b[0;32m    311\u001b[0m \u001b[43m        \u001b[49m\u001b[43mhttp_verb\u001b[49m\u001b[38;5;241;43m=\u001b[39;49m\u001b[38;5;124;43m\"\u001b[39;49m\u001b[38;5;124;43mPOST\u001b[39;49m\u001b[38;5;124;43m\"\u001b[39;49m\u001b[43m,\u001b[49m\u001b[43m  \u001b[49m\u001b[38;5;66;43;03m# you can use POST method for all the Web APIs\u001b[39;49;00m\n\u001b[0;32m    312\u001b[0m \u001b[43m        \u001b[49m\u001b[43mapi_url\u001b[49m\u001b[38;5;241;43m=\u001b[39;49m\u001b[43murl\u001b[49m\u001b[43m,\u001b[49m\n\u001b[0;32m    313\u001b[0m \u001b[43m        \u001b[49m\u001b[43mreq_args\u001b[49m\u001b[38;5;241;43m=\u001b[39;49m\u001b[43mrequest_args\u001b[49m\u001b[43m,\u001b[49m\n\u001b[0;32m    314\u001b[0m \u001b[43m        \u001b[49m\u001b[43mdata\u001b[49m\u001b[38;5;241;43m=\u001b[39;49m\u001b[43mresponse_body_data\u001b[49m\u001b[43m,\u001b[49m\n\u001b[0;32m    315\u001b[0m \u001b[43m        \u001b[49m\u001b[43mheaders\u001b[49m\u001b[38;5;241;43m=\u001b[39;49m\u001b[38;5;28;43mdict\u001b[39;49m\u001b[43m(\u001b[49m\u001b[43mresponse\u001b[49m\u001b[43m[\u001b[49m\u001b[38;5;124;43m\"\u001b[39;49m\u001b[38;5;124;43mheaders\u001b[39;49m\u001b[38;5;124;43m\"\u001b[39;49m\u001b[43m]\u001b[49m\u001b[43m)\u001b[49m\u001b[43m,\u001b[49m\n\u001b[0;32m    316\u001b[0m \u001b[43m        \u001b[49m\u001b[43mstatus_code\u001b[49m\u001b[38;5;241;43m=\u001b[39;49m\u001b[43mresponse\u001b[49m\u001b[43m[\u001b[49m\u001b[38;5;124;43m\"\u001b[39;49m\u001b[38;5;124;43mstatus\u001b[39;49m\u001b[38;5;124;43m\"\u001b[39;49m\u001b[43m]\u001b[49m\u001b[43m,\u001b[49m\n\u001b[1;32m--> 317\u001b[0m \u001b[43m    \u001b[49m\u001b[43m)\u001b[49m\u001b[38;5;241;43m.\u001b[39;49m\u001b[43mvalidate\u001b[49m\u001b[43m(\u001b[49m\u001b[43m)\u001b[49m\n\u001b[0;32m    318\u001b[0m \u001b[38;5;28;01mfinally\u001b[39;00m:\n\u001b[0;32m    319\u001b[0m     \u001b[38;5;28;01mfor\u001b[39;00m f \u001b[38;5;129;01min\u001b[39;00m files_to_close:\n",
      "File \u001b[1;32mc:\\Users\\USER\\miniconda3\\envs\\gonmo\\lib\\site-packages\\slack_sdk\\web\\slack_response.py:199\u001b[0m, in \u001b[0;36mSlackResponse.validate\u001b[1;34m(self)\u001b[0m\n\u001b[0;32m    197\u001b[0m     \u001b[38;5;28;01mreturn\u001b[39;00m \u001b[38;5;28mself\u001b[39m\n\u001b[0;32m    198\u001b[0m msg \u001b[38;5;241m=\u001b[39m \u001b[38;5;124mf\u001b[39m\u001b[38;5;124m\"\u001b[39m\u001b[38;5;124mThe request to the Slack API failed. (url: \u001b[39m\u001b[38;5;132;01m{\u001b[39;00m\u001b[38;5;28mself\u001b[39m\u001b[38;5;241m.\u001b[39mapi_url\u001b[38;5;132;01m}\u001b[39;00m\u001b[38;5;124m)\u001b[39m\u001b[38;5;124m\"\u001b[39m\n\u001b[1;32m--> 199\u001b[0m \u001b[38;5;28;01mraise\u001b[39;00m e\u001b[38;5;241m.\u001b[39mSlackApiError(message\u001b[38;5;241m=\u001b[39mmsg, response\u001b[38;5;241m=\u001b[39m\u001b[38;5;28mself\u001b[39m)\n",
      "\u001b[1;31mSlackApiError\u001b[0m: The request to the Slack API failed. (url: https://www.slack.com/api/rtm.connect)\nThe server responded with: {'ok': False, 'error': 'not_allowed_token_type'}"
     ]
    }
   ],
   "source": [
    "from time import sleep\n",
    "from slack_sdk.rtm_v2 import RTMClient\n",
    "\n",
    "rtm = RTMClient(token='')\n",
    "\n",
    "@rtm.on(\"message\")\n",
    "def handle(client: RTMClient, event: dict):\n",
    "    request = event['text']\n",
    "    if request != '':\n",
    "        channel_id = event['channel']\n",
    "        thread_ts = event['ts']\n",
    "\n",
    "        client.web_client.chat_postMessage(\n",
    "            channel=channel_id,\n",
    "            text='응 안녕',\n",
    "            thread_ts=thread_ts\n",
    "        )\n",
    "\n",
    "\n",
    "if __name__ == \"__main__\":\n",
    "    rtm.connect()\n",
    "    while True: # @rtm.on 상태를 유지\n",
    "        sleep(1)"
   ]
  }
 ],
 "metadata": {
  "kernelspec": {
   "display_name": "gonmo",
   "language": "python",
   "name": "python3"
  },
  "language_info": {
   "codemirror_mode": {
    "name": "ipython",
    "version": 3
   },
   "file_extension": ".py",
   "mimetype": "text/x-python",
   "name": "python",
   "nbconvert_exporter": "python",
   "pygments_lexer": "ipython3",
   "version": "3.10.13"
  }
 },
 "nbformat": 4,
 "nbformat_minor": 2
}
