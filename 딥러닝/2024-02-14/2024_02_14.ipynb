{
  "nbformat": 4,
  "nbformat_minor": 0,
  "metadata": {
    "colab": {
      "provenance": []
    },
    "kernelspec": {
      "name": "python3",
      "display_name": "Python 3"
    },
    "language_info": {
      "name": "python"
    }
  },
  "cells": [
    {
      "cell_type": "code",
      "execution_count": 2,
      "metadata": {
        "id": "QHKmo3_EHSi4"
      },
      "outputs": [],
      "source": [
        "import numpy as np\n",
        "import tensorflow as tf\n",
        "from tensorflow import keras\n",
        "from tensorflow.keras import layers\n"
      ]
    },
    {
      "cell_type": "code",
      "source": [
        "x=np.array([1,2,3,4,5,6])\n",
        "y=np.array([10,98,8,2,3,4])\n"
      ],
      "metadata": {
        "id": "wnkwMIUBHo5G"
      },
      "execution_count": 3,
      "outputs": []
    },
    {
      "cell_type": "code",
      "source": [
        "# w값 바꾸지 않기 위해 사용, 검증용이며 실제에서는 seed 하지 X\n",
        "tf.random.set_seed(1234)"
      ],
      "metadata": {
        "id": "xjw9vyWZHwLb"
      },
      "execution_count": 4,
      "outputs": []
    },
    {
      "cell_type": "code",
      "source": [
        "input_layer=tf.keras.layers.InputLayer(input_shape=(1,))\n",
        "hidden_layer1=tf.keras.layers.Dense(units=4,activation='relu')\n",
        "hidden_layer2=tf.keras.layers.Dense(units=2,activation='relu')\n",
        "output_layer=tf.keras.layers.Dense(units=1)\n",
        "#activation 이 없으면 활성화함수 wx+b가 되어있는 것임.\n",
        "model=keras.Sequential([\n",
        "    input_layer,\n",
        "    hidden_layer1,\n",
        "    hidden_layer2,\n",
        "    output_layer\n",
        "])\n"
      ],
      "metadata": {
        "id": "QbqlPnBVH3la"
      },
      "execution_count": 11,
      "outputs": []
    },
    {
      "cell_type": "code",
      "source": [
        "model.compile(optimizer='adam',\n",
        "              loss='mse',\n",
        "              metrics=['accuracy'])\n",
        "\n"
      ],
      "metadata": {
        "id": "90_hPI3LIXwy"
      },
      "execution_count": 12,
      "outputs": []
    },
    {
      "cell_type": "code",
      "source": [
        "print(model.fit(x,y))\n",
        "print(model.predict(x))\n",
        "print(model.evaluate(x,y))"
      ],
      "metadata": {
        "colab": {
          "base_uri": "https://localhost:8080/"
        },
        "id": "X4AmKTTjIhyG",
        "outputId": "7f53a088-4e63-411b-ca84-31c0a6527da6"
      },
      "execution_count": 13,
      "outputs": [
        {
          "output_type": "stream",
          "name": "stdout",
          "text": [
            "1/1 [==============================] - 1s 1s/step - loss: 1630.7841 - accuracy: 0.0000e+00\n",
            "<keras.src.callbacks.History object at 0x798424580f40>\n",
            "1/1 [==============================] - 0s 94ms/step\n",
            "[[0.02402525]\n",
            " [0.04672664]\n",
            " [0.06942802]\n",
            " [0.0921294 ]\n",
            " [0.11483078]\n",
            " [0.13753216]]\n",
            "1/1 [==============================] - 0s 194ms/step - loss: 1630.6899 - accuracy: 0.0000e+00\n",
            "[1630.68994140625, 0.0]\n"
          ]
        }
      ]
    },
    {
      "cell_type": "code",
      "source": [
        "modelvalue=model.weights\n",
        "modelvalue\n",
        "# 0,1 인덱스, dense(units=4) w,b  / x값이 6*1이므로  w= 1*4 , b=4\n",
        "# 2,3 인덱스, dense(units=2) w,b  / w=2, b= 2\n",
        "# 4,5 인덱스, dense(units=1) w,b  / w=1, b=1\n",
        "\n",
        "len(modelvalue) # 6개는 unit 수\n",
        "# Dense 층 *2개 ( dense 층 마다 weight,bias 값이 있음)"
      ],
      "metadata": {
        "colab": {
          "base_uri": "https://localhost:8080/"
        },
        "id": "-hbhSDnLKzs-",
        "outputId": "608e7b06-4922-499f-d256-b18dc9ee4f35"
      },
      "execution_count": 20,
      "outputs": [
        {
          "output_type": "execute_result",
          "data": {
            "text/plain": [
              "6"
            ]
          },
          "metadata": {},
          "execution_count": 20
        }
      ]
    },
    {
      "cell_type": "code",
      "source": [
        "modelvalue[0].shape ## 1*4 구조로 되어있다"
      ],
      "metadata": {
        "colab": {
          "base_uri": "https://localhost:8080/"
        },
        "id": "oCYTSJ5RNKrD",
        "outputId": "616ec48a-35dd-4600-81e0-159d62f16d2a"
      },
      "execution_count": 23,
      "outputs": [
        {
          "output_type": "execute_result",
          "data": {
            "text/plain": [
              "TensorShape([1, 4])"
            ]
          },
          "metadata": {},
          "execution_count": 23
        }
      ]
    },
    {
      "cell_type": "code",
      "source": [
        "model.summary()"
      ],
      "metadata": {
        "colab": {
          "base_uri": "https://localhost:8080/"
        },
        "id": "okokZFczK6lq",
        "outputId": "d629aed1-dc22-49b6-a6b9-1659caef87fa"
      },
      "execution_count": 15,
      "outputs": [
        {
          "output_type": "stream",
          "name": "stdout",
          "text": [
            "Model: \"sequential_1\"\n",
            "_________________________________________________________________\n",
            " Layer (type)                Output Shape              Param #   \n",
            "=================================================================\n",
            " dense_3 (Dense)             (None, 4)                 8         \n",
            "                                                                 \n",
            " dense_4 (Dense)             (None, 2)                 10        \n",
            "                                                                 \n",
            " dense_5 (Dense)             (None, 1)                 3         \n",
            "                                                                 \n",
            "=================================================================\n",
            "Total params: 21 (84.00 Byte)\n",
            "Trainable params: 21 (84.00 Byte)\n",
            "Non-trainable params: 0 (0.00 Byte)\n",
            "_________________________________________________________________\n"
          ]
        }
      ]
    },
    {
      "cell_type": "code",
      "source": [
        "## 0번의 값\n",
        "\n",
        "intermediate_layer_model= tf.keras.Model(inputs=model.input,\n",
        "                                         outputs=model.layers[0].output)\n",
        "intermediate_output=intermediate_layer_model(x)\n",
        "\n",
        "print('\\n==========Outputs of Hidden Layer ==================')\n",
        "print(intermediate_output)"
      ],
      "metadata": {
        "colab": {
          "base_uri": "https://localhost:8080/"
        },
        "id": "Ud8NFZQMLR_l",
        "outputId": "d47883fd-2434-4b3f-c428-ade235ec805c"
      },
      "execution_count": 18,
      "outputs": [
        {
          "output_type": "stream",
          "name": "stdout",
          "text": [
            "\n",
            "==========Outputs of Hidden Layer ==================\n",
            "tf.Tensor(\n",
            "[[0.         0.05520619 0.01126648 0.6333885 ]\n",
            " [0.         0.10941239 0.02153297 1.2657771 ]\n",
            " [0.         0.16361858 0.03179946 1.8981656 ]\n",
            " [0.         0.21782477 0.04206594 2.530554  ]\n",
            " [0.         0.27203098 0.05233243 3.1629426 ]\n",
            " [0.         0.32623717 0.06259892 3.795331  ]], shape=(6, 4), dtype=float32)\n"
          ]
        }
      ]
    },
    {
      "cell_type": "code",
      "source": [
        "#hidden_layer2=tf.keras.layers.Dense(units=2,activation='relu')\n",
        "# 위의 첫번쨰는 6행 1열, 1*(4개 w) == 6행 4열 짜리 출력\n",
        "# 이제 그 6행 4열짜리로 4(x변수 4개 각각w)*(2개 w) -> 6행 2열\n",
        "modelvalue[2:5]"
      ],
      "metadata": {
        "colab": {
          "base_uri": "https://localhost:8080/"
        },
        "id": "JEAgMzSBQyVK",
        "outputId": "2b73ce29-bd95-4672-9586-531db3dc8e48"
      },
      "execution_count": 24,
      "outputs": [
        {
          "output_type": "execute_result",
          "data": {
            "text/plain": [
              "[<tf.Variable 'dense_4/kernel:0' shape=(4, 2) dtype=float32, numpy=\n",
              " array([[-0.2733593 , -0.6517687 ],\n",
              "        [ 0.2121225 ,  0.8971169 ],\n",
              "        [ 0.69408804,  0.24601674],\n",
              "        [ 0.20449787, -0.7789748 ]], dtype=float32)>,\n",
              " <tf.Variable 'dense_4/bias:0' shape=(2,) dtype=float32, numpy=array([0.00099999, 0.        ], dtype=float32)>,\n",
              " <tf.Variable 'dense_5/kernel:0' shape=(2, 1) dtype=float32, numpy=\n",
              " array([[0.1534434],\n",
              "        [1.1321725]], dtype=float32)>]"
            ]
          },
          "metadata": {},
          "execution_count": 24
        }
      ]
    },
    {
      "cell_type": "code",
      "source": [
        "## 1번의 값\n",
        "# 6행 2열의 결과\n",
        "intermediate_layer_model= tf.keras.Model(inputs=model.input,\n",
        "                                         outputs=model.layers[1].output)\n",
        "intermediate_output=intermediate_layer_model(x)\n",
        "\n",
        "print('\\n==========Outputs of Hidden Layer ==================')\n",
        "print(intermediate_output)"
      ],
      "metadata": {
        "colab": {
          "base_uri": "https://localhost:8080/"
        },
        "id": "Shhyi-VqR3pc",
        "outputId": "fd2ba24c-17e4-4b67-fcb2-de31bb35f8b8"
      },
      "execution_count": 25,
      "outputs": [
        {
          "output_type": "stream",
          "name": "stdout",
          "text": [
            "\n",
            "==========Outputs of Hidden Layer ==================\n",
            "tf.Tensor(\n",
            "[[0.150057   0.        ]\n",
            " [0.29800332 0.        ]\n",
            " [0.4459496  0.        ]\n",
            " [0.5938959  0.        ]\n",
            " [0.7418422  0.        ]\n",
            " [0.8897885  0.        ]], shape=(6, 2), dtype=float32)\n"
          ]
        }
      ]
    },
    {
      "cell_type": "markdown",
      "source": [
        "# 패션 MNIST"
      ],
      "metadata": {
        "id": "_HV3CX_WBzDV"
      }
    },
    {
      "cell_type": "code",
      "source": [
        "# TensorFlow and tf.keras\n",
        "import tensorflow as tf\n",
        "\n",
        "# Helper libraries\n",
        "import numpy as np\n",
        "import matplotlib.pyplot as plt\n",
        "\n",
        "print(tf.__version__)"
      ],
      "metadata": {
        "colab": {
          "base_uri": "https://localhost:8080/"
        },
        "id": "obdvcHmUB65T",
        "outputId": "509a59d4-8e1d-47eb-d3e6-2fee1cc2a9f4"
      },
      "execution_count": 24,
      "outputs": [
        {
          "output_type": "stream",
          "name": "stdout",
          "text": [
            "2.15.0\n"
          ]
        }
      ]
    },
    {
      "cell_type": "code",
      "source": [
        "fashion_mnist = tf.keras.datasets.fashion_mnist\n",
        "\n",
        "(train_images, train_labels), (test_images, test_labels) = fashion_mnist.load_data()"
      ],
      "metadata": {
        "id": "xucLbvA7B_GM"
      },
      "execution_count": 25,
      "outputs": []
    },
    {
      "cell_type": "code",
      "source": [
        "class_names = ['T-shirt/top', 'Trouser', 'Pullover', 'Dress', 'Coat',\n",
        "               'Sandal', 'Shirt', 'Sneaker', 'Bag', 'Ankle boot']"
      ],
      "metadata": {
        "id": "Gae9bhKgCBuy"
      },
      "execution_count": 26,
      "outputs": []
    },
    {
      "cell_type": "code",
      "source": [
        "train_images.shape,len(train_labels)"
      ],
      "metadata": {
        "colab": {
          "base_uri": "https://localhost:8080/"
        },
        "id": "pmmKq2WMCC1A",
        "outputId": "ed903adc-6a95-4b77-ae77-1f0078efdef6"
      },
      "execution_count": 27,
      "outputs": [
        {
          "output_type": "execute_result",
          "data": {
            "text/plain": [
              "((60000, 28, 28), 60000)"
            ]
          },
          "metadata": {},
          "execution_count": 27
        }
      ]
    },
    {
      "cell_type": "code",
      "source": [
        "train_labels"
      ],
      "metadata": {
        "colab": {
          "base_uri": "https://localhost:8080/"
        },
        "id": "PHKdRXXACJWJ",
        "outputId": "81899f9d-72db-4d98-9994-f8de7ad482ec"
      },
      "execution_count": 28,
      "outputs": [
        {
          "output_type": "execute_result",
          "data": {
            "text/plain": [
              "array([9, 0, 0, ..., 3, 0, 5], dtype=uint8)"
            ]
          },
          "metadata": {},
          "execution_count": 28
        }
      ]
    },
    {
      "cell_type": "code",
      "source": [
        "## 추가코드\n",
        "def label_Unique(data):\n",
        "  tmp=np.unique(data, return_counts=True)\n",
        "  print(tmp)\n",
        "  plt.figure(figsize=(3,2))\n",
        "  plt.bar(tmp[0],tmp[1])\n",
        "  plt.show()\n",
        "label_Unique(train_labels)\n"
      ],
      "metadata": {
        "colab": {
          "base_uri": "https://localhost:8080/",
          "height": 232
        },
        "id": "B8WkIfb4Dj8W",
        "outputId": "a93a972c-d3d1-4ca5-89ef-fdcce9bb1461"
      },
      "execution_count": 29,
      "outputs": [
        {
          "output_type": "stream",
          "name": "stdout",
          "text": [
            "(array([0, 1, 2, 3, 4, 5, 6, 7, 8, 9], dtype=uint8), array([6000, 6000, 6000, 6000, 6000, 6000, 6000, 6000, 6000, 6000]))\n"
          ]
        },
        {
          "output_type": "display_data",
          "data": {
            "text/plain": [
              "<Figure size 300x200 with 1 Axes>"
            ],
            "image/png": "[encoded data removed]"
          },
          "metadata": {}
        }
      ]
    },
    {
      "cell_type": "code",
      "source": [
        "test_images.shape,len(test_labels)"
      ],
      "metadata": {
        "colab": {
          "base_uri": "https://localhost:8080/"
        },
        "id": "-s7QThmgCKky",
        "outputId": "270fff9e-7f08-410d-8371-7495815feafb"
      },
      "execution_count": 30,
      "outputs": [
        {
          "output_type": "execute_result",
          "data": {
            "text/plain": [
              "((10000, 28, 28), 10000)"
            ]
          },
          "metadata": {},
          "execution_count": 30
        }
      ]
    },
    {
      "cell_type": "code",
      "source": [
        "train_images[0].min(),train_images[0].max() # 정규화 x 확인, 파이썬 정규화 ,표준화 하는 이유"
      ],
      "metadata": {
        "colab": {
          "base_uri": "https://localhost:8080/"
        },
        "id": "5GZulnL_D_eJ",
        "outputId": "b32ee85c-38f2-4e5a-aa72-5c159c70241e"
      },
      "execution_count": 31,
      "outputs": [
        {
          "output_type": "execute_result",
          "data": {
            "text/plain": [
              "(0, 255)"
            ]
          },
          "metadata": {},
          "execution_count": 31
        }
      ]
    },
    {
      "cell_type": "code",
      "source": [
        "import matplotlib.pyplot as plt\n",
        "plt.figure()\n",
        "plt.imshow(train_images[0])\n",
        "plt.colorbar()\n",
        "plt.grid(False)\n",
        "plt.show()"
      ],
      "metadata": {
        "colab": {
          "base_uri": "https://localhost:8080/",
          "height": 430
        },
        "id": "SynKFDWHCPCw",
        "outputId": "cbfb6c4f-420b-40bc-dd4e-d07ac74f05dc"
      },
      "execution_count": 32,
      "outputs": [
        {
          "output_type": "display_data",
          "data": {
            "text/plain": [
              "<Figure size 640x480 with 2 Axes>"
            ],
            "image/png": "[encoded data removed]"
          },
          "metadata": {}
        }
      ]
    },
    {
      "cell_type": "code",
      "source": [
        "train_images = train_images / 255.0\n",
        "test_images = test_images / 255.0\n"
      ],
      "metadata": {
        "id": "t65Rq8s1CZTm"
      },
      "execution_count": 33,
      "outputs": []
    },
    {
      "cell_type": "code",
      "source": [
        "plt.figure(figsize=(10,10))\n",
        "for i in range(25):\n",
        "    plt.subplot(5,5,i+1)\n",
        "    plt.xticks([])\n",
        "    plt.yticks([])\n",
        "    plt.grid(False)\n",
        "    plt.imshow(train_images[i], cmap=plt.cm.binary)\n",
        "    plt.xlabel(class_names[train_labels[i]])\n",
        "plt.show()"
      ],
      "metadata": {
        "colab": {
          "base_uri": "https://localhost:8080/",
          "height": 826
        },
        "id": "6YB9JI8lDYZJ",
        "outputId": "338a8cd8-272c-499e-b251-3884304c46d4"
      },
      "execution_count": 34,
      "outputs": [
        {
          "output_type": "display_data",
          "data": {
            "text/plain": [
              "<Figure size 1000x1000 with 25 Axes>"
            ],
            "image/png": "[encoded data removed]"
          },
          "metadata": {}
        }
      ]
    },
    {
      "cell_type": "code",
      "source": [
        "model = tf.keras.Sequential([\n",
        "    tf.keras.layers.Flatten(input_shape=(28, 28)),\n",
        "    tf.keras.layers.Dense(128, activation='relu'),\n",
        "    tf.keras.layers.Dense(10) ## 반드시 softmax 함수를 사용해야함, 원핫인코딩되어있어야함, 여기에 사용하지 X 모델 컴파일 loss에 사용하면 됨\n",
        "])"
      ],
      "metadata": {
        "id": "HQeo6GTcGf1_"
      },
      "execution_count": 35,
      "outputs": []
    },
    {
      "cell_type": "code",
      "source": [
        "model.compile(optimizer='adam',\n",
        "              #원핫인코딩을 컴파일하면서 하자, 함수를 알아서 하자 from_logits=True\n",
        "              loss=tf.keras.losses.SparseCategoricalCrossentropy(from_logits=True),  # 원핫 인코딩을 컴파일 하면서 하자\n",
        "              metrics=['accuracy'])"
      ],
      "metadata": {
        "id": "o2xeGj0AGhwc"
      },
      "execution_count": 36,
      "outputs": []
    },
    {
      "cell_type": "code",
      "source": [
        "#########\n",
        "## 모델저장\n",
        "###\n",
        "from tensorflow.keras.callbacks import ModelCheckpoint\n",
        "modelpath=\"./model/{epoch:02d}-{val_accuracy:.4f}.hdf5\"\n",
        "checkpointer = ModelCheckpoint(filepath=modelpath, verbose=1)  # 1이면(기본) 나오고 0이면 안나옴\n",
        "# tensor는 batch_size 설정안하면 32개씩 설정됨\n",
        "\n",
        "hist=model.fit(train_images, train_labels,\n",
        "               epochs=3,\n",
        "               validation_data=(test_images, test_labels),callbacks=[checkpointer]\n",
        "               ,verbose=1) # 1이 기본( 실행결과나오는)\n"
      ],
      "metadata": {
        "colab": {
          "base_uri": "https://localhost:8080/"
        },
        "id": "XPdXEEf7GiHC",
        "outputId": "4ce67bc5-81de-47d4-c8ad-7d043c2281bd"
      },
      "execution_count": 37,
      "outputs": [
        {
          "output_type": "stream",
          "name": "stdout",
          "text": [
            "Epoch 1/3\n",
            "1875/1875 [==============================] - ETA: 0s - loss: 0.4977 - accuracy: 0.8252\n",
            "Epoch 1: saving model to ./model/01-0.8382.hdf5\n",
            "1875/1875 [==============================] - 9s 4ms/step - loss: 0.4977 - accuracy: 0.8252 - val_loss: 0.4410 - val_accuracy: 0.8382\n",
            "Epoch 2/3\n",
            "  44/1875 [..............................] - ETA: 6s - loss: 0.4021 - accuracy: 0.8580"
          ]
        },
        {
          "output_type": "stream",
          "name": "stderr",
          "text": [
            "/usr/local/lib/python3.10/dist-packages/keras/src/engine/training.py:3103: UserWarning: You are saving your model as an HDF5 file via `model.save()`. This file format is considered legacy. We recommend using instead the native Keras format, e.g. `model.save('my_model.keras')`.\n",
            "  saving_api.save_model(\n"
          ]
        },
        {
          "output_type": "stream",
          "name": "stdout",
          "text": [
            "1873/1875 [============================>.] - ETA: 0s - loss: 0.3729 - accuracy: 0.8651\n",
            "Epoch 2: saving model to ./model/02-0.8617.hdf5\n",
            "1875/1875 [==============================] - 11s 6ms/step - loss: 0.3729 - accuracy: 0.8651 - val_loss: 0.3910 - val_accuracy: 0.8617\n",
            "Epoch 3/3\n",
            "1862/1875 [============================>.] - ETA: 0s - loss: 0.3341 - accuracy: 0.8782\n",
            "Epoch 3: saving model to ./model/03-0.8710.hdf5\n",
            "1875/1875 [==============================] - 11s 6ms/step - loss: 0.3339 - accuracy: 0.8782 - val_loss: 0.3618 - val_accuracy: 0.8710\n"
          ]
        }
      ]
    },
    {
      "cell_type": "code",
      "source": [
        "test_loss, test_acc = model.evaluate(test_images,  test_labels, verbose=2)\n",
        "\n",
        "print('\\nTest accuracy:', test_acc)"
      ],
      "metadata": {
        "colab": {
          "base_uri": "https://localhost:8080/"
        },
        "id": "Oc6yHtAhJqi0",
        "outputId": "3e59e9b6-aa4c-4fbb-8a0c-52acb2514738"
      },
      "execution_count": 38,
      "outputs": [
        {
          "output_type": "stream",
          "name": "stdout",
          "text": [
            "313/313 - 1s - loss: 0.3618 - accuracy: 0.8710 - 1s/epoch - 3ms/step\n",
            "\n",
            "Test accuracy: 0.8709999918937683\n"
          ]
        }
      ]
    },
    {
      "cell_type": "code",
      "source": [
        "probability_model = tf.keras.Sequential([model,\n",
        "                                         tf.keras.layers.Softmax()])"
      ],
      "metadata": {
        "id": "MdCGk2r-LRHf"
      },
      "execution_count": 39,
      "outputs": []
    },
    {
      "cell_type": "code",
      "source": [
        "predictions = probability_model.predict(test_images)"
      ],
      "metadata": {
        "colab": {
          "base_uri": "https://localhost:8080/"
        },
        "id": "AdYzQwNJLSKN",
        "outputId": "64eace76-d05b-477e-8783-4cdf16b3f4cf"
      },
      "execution_count": 40,
      "outputs": [
        {
          "output_type": "stream",
          "name": "stdout",
          "text": [
            "313/313 [==============================] - 1s 2ms/step\n"
          ]
        }
      ]
    },
    {
      "cell_type": "code",
      "source": [
        "predictions[0]"
      ],
      "metadata": {
        "colab": {
          "base_uri": "https://localhost:8080/"
        },
        "id": "tp2gD85ULTGm",
        "outputId": "97936687-25ae-43e7-9671-cb7797f8af80"
      },
      "execution_count": 41,
      "outputs": [
        {
          "output_type": "execute_result",
          "data": {
            "text/plain": [
              "array([1.9754783e-05, 2.4547688e-07, 7.0889228e-06, 3.2878182e-07,\n",
              "       2.0557500e-05, 3.0657275e-02, 7.8959922e-05, 6.8269409e-02,\n",
              "       7.7576574e-04, 9.0017056e-01], dtype=float32)"
            ]
          },
          "metadata": {},
          "execution_count": 41
        }
      ]
    },
    {
      "cell_type": "code",
      "source": [
        "#####################33\n",
        "## 이 예측은 10개의 숫자 배열로 나타납니다.\n",
        "### 이 값은 10개의 옷 품목에 상응하는 모델의 신뢰도(confidence)를 나타냅니다.\n",
        "## 가장 높은 신뢰도를 가진 레이블을 찾아보죠:\n",
        "\n",
        "np.argmax(predictions[0])"
      ],
      "metadata": {
        "colab": {
          "base_uri": "https://localhost:8080/"
        },
        "id": "LZlSYY5aLUER",
        "outputId": "4be39ebf-c16b-411b-fcbd-f2732ca82c6d"
      },
      "execution_count": 42,
      "outputs": [
        {
          "output_type": "execute_result",
          "data": {
            "text/plain": [
              "9"
            ]
          },
          "metadata": {},
          "execution_count": 42
        }
      ]
    },
    {
      "cell_type": "code",
      "source": [
        "train_labels"
      ],
      "metadata": {
        "colab": {
          "base_uri": "https://localhost:8080/"
        },
        "id": "BtWoiqI2N6Ue",
        "outputId": "db701342-2c27-4153-bb76-9af343170b09"
      },
      "execution_count": 57,
      "outputs": [
        {
          "output_type": "execute_result",
          "data": {
            "text/plain": [
              "array([9, 0, 0, ..., 3, 0, 5], dtype=uint8)"
            ]
          },
          "metadata": {},
          "execution_count": 57
        }
      ]
    },
    {
      "cell_type": "code",
      "source": [
        "ankle_idx = [i for i, label in enumerate(train_labels) if label == 9]\n",
        "ankle_img = train_images[ankle_idx]\n",
        "\n",
        "plt.figure(figsize=(10, 10))\n",
        "for i in range(20):\n",
        "    plt.subplot(4, 5, i + 1)\n",
        "    plt.xticks([])\n",
        "    plt.yticks([])\n",
        "    plt.grid(False)\n",
        "    plt.imshow(ankle_img[i], cmap='gray')\n",
        "    plt.xlabel(\"Ankle Boot\")\n",
        "plt.show()"
      ],
      "metadata": {
        "colab": {
          "base_uri": "https://localhost:8080/",
          "height": 792
        },
        "id": "CmSct-J1Maxb",
        "outputId": "469a3b01-d341-4585-86cb-34ef263a9b8d"
      },
      "execution_count": 62,
      "outputs": [
        {
          "output_type": "display_data",
          "data": {
            "text/plain": [
              "<Figure size 1000x1000 with 20 Axes>"
            ],
            "image/png": "[encoded data removed]"
          },
          "metadata": {}
        }
      ]
    },
    {
      "cell_type": "code",
      "source": [
        "ankle_idx[:6]\n"
      ],
      "metadata": {
        "colab": {
          "base_uri": "https://localhost:8080/"
        },
        "id": "-7a_kwY_MkSe",
        "outputId": "761f1574-3955-4ae3-f90d-28d3dd81e6ed"
      },
      "execution_count": 59,
      "outputs": [
        {
          "output_type": "execute_result",
          "data": {
            "text/plain": [
              "[0, 11, 15, 42, 44, 79]"
            ]
          },
          "metadata": {},
          "execution_count": 59
        }
      ]
    },
    {
      "cell_type": "code",
      "source": [
        "img=np.hstack(train_images[ankle_idx[:6]])\n",
        "plt.imshow(img,cmap='gray')"
      ],
      "metadata": {
        "colab": {
          "base_uri": "https://localhost:8080/",
          "height": 165
        },
        "id": "khcOkvCbPADn",
        "outputId": "fa7d17ab-559d-402e-925e-6b2ac69c8a35"
      },
      "execution_count": 61,
      "outputs": [
        {
          "output_type": "execute_result",
          "data": {
            "text/plain": [
              "<matplotlib.image.AxesImage at 0x78446e903ac0>"
            ]
          },
          "metadata": {},
          "execution_count": 61
        },
        {
          "output_type": "display_data",
          "data": {
            "text/plain": [
              "<Figure size 640x480 with 1 Axes>"
            ],
            "image/png": "[encoded data removed]"
          },
          "metadata": {}
        }
      ]
    },
    {
      "cell_type": "code",
      "source": [
        "from PIL import Image\n",
        "img=Image.open('boots.png').resize((28,28)).convert('L')\n",
        "img=255-np.array(img)\n",
        "plt.imshow(img,cmap='gray')\n",
        "\n"
      ],
      "metadata": {
        "colab": {
          "base_uri": "https://localhost:8080/",
          "height": 448
        },
        "id": "L-rH_XedP3og",
        "outputId": "6a92924d-5c7b-4533-e25a-bdec7b6ebb98"
      },
      "execution_count": 64,
      "outputs": [
        {
          "output_type": "execute_result",
          "data": {
            "text/plain": [
              "<matplotlib.image.AxesImage at 0x78446e84d270>"
            ]
          },
          "metadata": {},
          "execution_count": 64
        },
        {
          "output_type": "display_data",
          "data": {
            "text/plain": [
              "<Figure size 640x480 with 1 Axes>"
            ],
            "image/png": "[encoded data removed]"
          },
          "metadata": {}
        }
      ]
    },
    {
      "cell_type": "code",
      "source": [
        "img.shape"
      ],
      "metadata": {
        "colab": {
          "base_uri": "https://localhost:8080/"
        },
        "id": "_7J39LM7QVs4",
        "outputId": "4212122c-cf7c-4160-bc96-53fcf6e3a07c"
      },
      "execution_count": 68,
      "outputs": [
        {
          "output_type": "execute_result",
          "data": {
            "text/plain": [
              "(28, 28)"
            ]
          },
          "metadata": {},
          "execution_count": 68
        }
      ]
    },
    {
      "cell_type": "code",
      "source": [
        "img = (np.expand_dims(img,0))\n",
        "#img=np.reshape(img,(1,28,28))\n",
        "img.shape"
      ],
      "metadata": {
        "colab": {
          "base_uri": "https://localhost:8080/"
        },
        "id": "0UYVv34mQgC1",
        "outputId": "d6a181f8-b014-4d64-f418-6b27be055b5e"
      },
      "execution_count": 69,
      "outputs": [
        {
          "output_type": "execute_result",
          "data": {
            "text/plain": [
              "(1, 28, 28)"
            ]
          },
          "metadata": {},
          "execution_count": 69
        }
      ]
    },
    {
      "cell_type": "code",
      "source": [
        "result=probability_model.predict(img)\n",
        "result"
      ],
      "metadata": {
        "colab": {
          "base_uri": "https://localhost:8080/"
        },
        "id": "5eysLmguQnDF",
        "outputId": "0c444ba7-3062-47df-8ba4-9231770d99dc"
      },
      "execution_count": 71,
      "outputs": [
        {
          "output_type": "stream",
          "name": "stdout",
          "text": [
            "1/1 [==============================] - 0s 23ms/step\n"
          ]
        },
        {
          "output_type": "execute_result",
          "data": {
            "text/plain": [
              "array([[0., 0., 0., 0., 0., 0., 0., 0., 0., 1.]], dtype=float32)"
            ]
          },
          "metadata": {},
          "execution_count": 71
        }
      ]
    },
    {
      "cell_type": "code",
      "source": [
        "result.argmax(),class_names[result.argmax()]"
      ],
      "metadata": {
        "colab": {
          "base_uri": "https://localhost:8080/"
        },
        "id": "yFOcIgjmQvv5",
        "outputId": "f1dc530a-1408-422d-dcd7-fc1f55ed8def"
      },
      "execution_count": 73,
      "outputs": [
        {
          "output_type": "execute_result",
          "data": {
            "text/plain": [
              "(9, 'Ankle boot')"
            ]
          },
          "metadata": {},
          "execution_count": 73
        }
      ]
    },
    {
      "cell_type": "code",
      "source": [
        "hist.history"
      ],
      "metadata": {
        "colab": {
          "base_uri": "https://localhost:8080/"
        },
        "id": "sNoDKHBTcD7i",
        "outputId": "a2176089-c904-4627-f6d6-b8b2f0a331e4"
      },
      "execution_count": 74,
      "outputs": [
        {
          "output_type": "execute_result",
          "data": {
            "text/plain": [
              "{'loss': [0.4976707696914673, 0.37286168336868286, 0.3339258134365082],\n",
              " 'accuracy': [0.8252333402633667, 0.865066647529602, 0.8781833052635193],\n",
              " 'val_loss': [0.4410458505153656, 0.3909539580345154, 0.36183786392211914],\n",
              " 'val_accuracy': [0.8381999731063843, 0.8616999983787537, 0.8709999918937683]}"
            ]
          },
          "metadata": {},
          "execution_count": 74
        }
      ]
    },
    {
      "cell_type": "code",
      "source": [
        "plt.plot(hist.history['loss'],label='train Loss')\n",
        "plt.plot(hist.history['val_loss'],label='valid Loss')\n",
        "plt.xlabel('Epochs')\n",
        "#####################################################3333\n",
        "\n",
        "plt.plot(hist.history['accuracy'],label='training acc')\n",
        "plt.plot(hist.history['val_accuracy'],label='valid acc')\n",
        "plt.xlabel('Epochs')\n",
        "plt.title('acc & loss')\n",
        "plt.legend() # 범례 표시\n",
        "plt.show()"
      ],
      "metadata": {
        "colab": {
          "base_uri": "https://localhost:8080/",
          "height": 472
        },
        "id": "BnP7TudIcNii",
        "outputId": "95431f89-fadf-46e5-ecbc-126bcc98ea9b"
      },
      "execution_count": 83,
      "outputs": [
        {
          "output_type": "display_data",
          "data": {
            "text/plain": [
              "<Figure size 640x480 with 1 Axes>"
            ],
            "image/png": "[encoded data removed]"
          },
          "metadata": {}
        }
      ]
    },
    {
      "cell_type": "markdown",
      "source": [
        "# 정확도 평가\n",
        "- 다음으로, 모델이 테스트 데이터세트에서 작동하는 방식을 비교합니다\n",
        "- 만들어진 모델의 레이어당 w,b를 이용한 계산 결과의 최종값이 test_label값과 같은가( 그 갯수를 파악하고 전체 갯수에서 몇분의 몇인지 파악)\n",
        "- 지금 이 자료는 10개의 카테고리중 한개 카테고리 맞추기(softmax 활성화 함수: wx+b를 하고 시그모이드를 한 10개의 값을 다 더해서 각 값을 나눈값 (다 더하면 1이 나와야함))"
      ],
      "metadata": {
        "id": "2fyIENRAe2bD"
      }
    },
    {
      "cell_type": "code",
      "source": [
        "test_loss, test_acc = model.evaluate(test_images,  test_labels, verbose=2)\n",
        "\n",
        "print('\\nTest accuracy:', test_acc)"
      ],
      "metadata": {
        "colab": {
          "base_uri": "https://localhost:8080/"
        },
        "id": "ZBNQvj5ucncQ",
        "outputId": "6843d7e6-3b51-494b-97fc-6f61134ceaea"
      },
      "execution_count": 84,
      "outputs": [
        {
          "output_type": "stream",
          "name": "stdout",
          "text": [
            "313/313 - 0s - loss: 0.3618 - accuracy: 0.8710 - 493ms/epoch - 2ms/step\n",
            "\n",
            "Test accuracy: 0.8709999918937683\n"
          ]
        }
      ]
    },
    {
      "cell_type": "markdown",
      "source": [
        "# 예측하기\n",
        "- 훈련된 모델을 사용하여 일부 이미지에 대한 예측을 수행 할 수 있다.\n",
        "- y값을 원핫인코딩해서 넣으면 model.predict 하면 됨\n",
        "- y값을 원핫인코딩 안하고 넣으면  \n",
        "                    model.predict -> X\n",
        "                    tf.nn.softmax -> O\n",
        "    => 이 코드의 이슈는 최종레이어의 softmax 함수를 사용하지 않았기 떄문에 예측할때 아래 코드가 추가되어야 함 .\n",
        "    \n",
        "    probability_model=tf.keras.Sequential([model,tf.keras.layers.Softmax()])\n"
      ],
      "metadata": {
        "id": "tEwUH6v_feK5"
      }
    },
    {
      "cell_type": "code",
      "source": [
        "# 최종 레이어에 softmax가 없었기에 softmax를 추가하고 계산\n",
        "probability_model = tf.keras.Sequential([model,\n",
        "                                         tf.keras.layers.Softmax()])\n",
        "predictions = probability_model.predict(test_images)"
      ],
      "metadata": {
        "colab": {
          "base_uri": "https://localhost:8080/"
        },
        "id": "pzuq9DE9gC9G",
        "outputId": "a185877d-0916-4e7f-bb9d-68d2b9935f73"
      },
      "execution_count": 100,
      "outputs": [
        {
          "output_type": "stream",
          "name": "stdout",
          "text": [
            "313/313 [==============================] - 1s 3ms/step\n"
          ]
        }
      ]
    },
    {
      "cell_type": "code",
      "source": [
        "# 테스트 이미지의 첫번째 자료를 확인하기\n",
        "(predictions[0], np.sum(predictions[0]))\n",
        "\n",
        "bun=np.argmax(predictions[0])\n",
        "yhat=class_names[bun]\n",
        "print('yhat:',yhat,'/    Real:',class_names[test_labels[0]])\n",
        "\n",
        "plt.imshow(test_images[0],cmap='gray')"
      ],
      "metadata": {
        "colab": {
          "base_uri": "https://localhost:8080/",
          "height": 467
        },
        "id": "ok_FhmRLg2kv",
        "outputId": "d8aff2f0-7f3f-40bf-a2be-645b00ed9750"
      },
      "execution_count": 108,
      "outputs": [
        {
          "output_type": "stream",
          "name": "stdout",
          "text": [
            "yhat: Ankle boot /    Real: Ankle boot\n"
          ]
        },
        {
          "output_type": "execute_result",
          "data": {
            "text/plain": [
              "<matplotlib.image.AxesImage at 0x78446e3d0b80>"
            ]
          },
          "metadata": {},
          "execution_count": 108
        },
        {
          "output_type": "display_data",
          "data": {
            "text/plain": [
              "<Figure size 640x480 with 1 Axes>"
            ],
            "image/png": "[encoded data removed]"
          },
          "metadata": {}
        }
      ]
    },
    {
      "cell_type": "code",
      "source": [
        "# 원핫 인코딩으로 되어 있는 y값을 넣었을때는 이렇게 예측함\n",
        "#### 추가\n",
        "########################################################\n",
        "tmp=model.predict(img) ## 원핫 인코딩 이 적용된 img인 경우에는 가능\n",
        "tmp[0],np.sum(tmp[0])"
      ],
      "metadata": {
        "colab": {
          "base_uri": "https://localhost:8080/"
        },
        "id": "erWbCj3FhFCZ",
        "outputId": "d5b9075b-f841-4f94-d770-47ed6ecf3ee8"
      },
      "execution_count": 95,
      "outputs": [
        {
          "output_type": "stream",
          "name": "stdout",
          "text": [
            "1/1 [==============================] - 0s 37ms/step\n"
          ]
        },
        {
          "output_type": "execute_result",
          "data": {
            "text/plain": [
              "(array([-1096.819   , -1770.1296  , -1735.1575  , -1261.8735  ,\n",
              "        -1447.7666  ,  -691.5722  ,  -992.4306  ,  -688.63416 ,\n",
              "        -1723.6478  ,    95.947205], dtype=float32),\n",
              " -11312.083)"
            ]
          },
          "metadata": {},
          "execution_count": 95
        }
      ]
    },
    {
      "cell_type": "markdown",
      "source": [
        "우리는 원핫 인코딩으로 안넣었기에 이러면 X"
      ],
      "metadata": {
        "id": "ooZt9kL_iS-p"
      }
    },
    {
      "cell_type": "code",
      "source": [
        "bunList=[]\n",
        "yhatList=[]\n",
        "cnt=0\n",
        "for i in range(0,len(predictions)):\n",
        "  bunList.append(np.argmax(predictions[i]))\n",
        "  yhatList.append(class_names[bunList[i]])\n",
        "\n",
        "  if yhatList[i]!=class_names[test_labels[i]]:\n",
        "    print('yhat:',yhatList[i],'/    Real:',class_names[test_labels[i]])\n",
        "    cnt+=1\n",
        "print(cnt)\n",
        "\n"
      ],
      "metadata": {
        "colab": {
          "base_uri": "https://localhost:8080/"
        },
        "id": "WLIbFaMMiXx-",
        "outputId": "5a571202-bdba-4ad3-a5b9-bac890cd3936"
      },
      "execution_count": 118,
      "outputs": [
        {
          "output_type": "stream",
          "name": "stdout",
          "text": [
            "yhat: Pullover /    Real: Coat\n",
            "yhat: Sandal /    Real: Ankle boot\n",
            "yhat: Pullover /    Real: Coat\n",
            "yhat: Coat /    Real: Dress\n",
            "yhat: T-shirt/top /    Real: Shirt\n",
            "yhat: Shirt /    Real: Dress\n",
            "yhat: Shirt /    Real: Pullover\n",
            "yhat: Pullover /    Real: Coat\n",
            "yhat: Shirt /    Real: Coat\n",
            "yhat: T-shirt/top /    Real: Pullover\n",
            "yhat: Coat /    Real: Dress\n",
            "yhat: Sneaker /    Real: Ankle boot\n",
            "yhat: Pullover /    Real: Shirt\n",
            "yhat: Shirt /    Real: Pullover\n",
            "yhat: Sandal /    Real: Ankle boot\n",
            "yhat: Shirt /    Real: Coat\n",
            "yhat: Shirt /    Real: Pullover\n",
            "yhat: Shirt /    Real: T-shirt/top\n",
            "yhat: Dress /    Real: Shirt\n",
            "yhat: Dress /    Real: Coat\n",
            "yhat: Pullover /    Real: Coat\n",
            "yhat: Dress /    Real: Coat\n",
            "yhat: Sandal /    Real: Ankle boot\n",
            "yhat: Shirt /    Real: Pullover\n",
            "yhat: Coat /    Real: Pullover\n",
            "yhat: Dress /    Real: Pullover\n",
            "yhat: Shirt /    Real: Pullover\n",
            "yhat: Pullover /    Real: Coat\n",
            "yhat: Coat /    Real: Shirt\n",
            "yhat: Pullover /    Real: Shirt\n",
            "yhat: Shirt /    Real: Pullover\n",
            "yhat: Coat /    Real: Pullover\n",
            "yhat: Coat /    Real: Pullover\n",
            "yhat: Shirt /    Real: Pullover\n",
            "yhat: Coat /    Real: Pullover\n",
            "yhat: Pullover /    Real: Shirt\n",
            "yhat: Trouser /    Real: Dress\n",
            "yhat: Shirt /    Real: Coat\n",
            "yhat: Sneaker /    Real: Ankle boot\n",
            "yhat: Shirt /    Real: Coat\n",
            "yhat: Shirt /    Real: T-shirt/top\n",
            "yhat: T-shirt/top /    Real: Shirt\n",
            "yhat: Shirt /    Real: T-shirt/top\n",
            "yhat: Shirt /    Real: Pullover\n",
            "yhat: Coat /    Real: Pullover\n",
            "yhat: Shirt /    Real: Pullover\n",
            "yhat: Dress /    Real: Coat\n",
            "yhat: Shirt /    Real: T-shirt/top\n",
            "yhat: T-shirt/top /    Real: Pullover\n",
            "yhat: Shirt /    Real: Coat\n",
            "yhat: Pullover /    Real: Shirt\n",
            "yhat: Dress /    Real: Trouser\n",
            "yhat: T-shirt/top /    Real: Pullover\n",
            "yhat: Sneaker /    Real: Ankle boot\n",
            "yhat: Coat /    Real: Shirt\n",
            "yhat: Shirt /    Real: T-shirt/top\n",
            "yhat: Coat /    Real: Pullover\n",
            "yhat: T-shirt/top /    Real: Dress\n",
            "yhat: T-shirt/top /    Real: Shirt\n",
            "yhat: Ankle boot /    Real: Sneaker\n",
            "yhat: Shirt /    Real: Dress\n",
            "yhat: Shirt /    Real: Coat\n",
            "yhat: Coat /    Real: Pullover\n",
            "yhat: Shirt /    Real: Coat\n",
            "yhat: Shirt /    Real: Pullover\n",
            "yhat: T-shirt/top /    Real: Bag\n",
            "yhat: Coat /    Real: Pullover\n",
            "yhat: Coat /    Real: Shirt\n",
            "yhat: Pullover /    Real: Shirt\n",
            "yhat: T-shirt/top /    Real: Shirt\n",
            "yhat: T-shirt/top /    Real: Shirt\n",
            "yhat: T-shirt/top /    Real: Dress\n",
            "yhat: T-shirt/top /    Real: Shirt\n",
            "yhat: Shirt /    Real: Dress\n",
            "yhat: T-shirt/top /    Real: Shirt\n",
            "yhat: T-shirt/top /    Real: Shirt\n",
            "yhat: Pullover /    Real: Shirt\n",
            "yhat: T-shirt/top /    Real: Dress\n",
            "yhat: Coat /    Real: Pullover\n",
            "yhat: Sneaker /    Real: Ankle boot\n",
            "yhat: Coat /    Real: Shirt\n",
            "yhat: Trouser /    Real: Bag\n",
            "yhat: Pullover /    Real: Coat\n",
            "yhat: Dress /    Real: Trouser\n",
            "yhat: T-shirt/top /    Real: Bag\n",
            "yhat: Shirt /    Real: Pullover\n",
            "yhat: Sandal /    Real: Sneaker\n",
            "yhat: Coat /    Real: Pullover\n",
            "yhat: Shirt /    Real: Dress\n",
            "yhat: Shirt /    Real: Coat\n",
            "yhat: T-shirt/top /    Real: Bag\n",
            "yhat: Dress /    Real: Trouser\n",
            "yhat: Dress /    Real: Shirt\n",
            "yhat: Sneaker /    Real: Sandal\n",
            "yhat: Coat /    Real: Shirt\n",
            "yhat: T-shirt/top /    Real: Pullover\n",
            "yhat: T-shirt/top /    Real: Dress\n",
            "yhat: Dress /    Real: Pullover\n",
            "yhat: Dress /    Real: Trouser\n",
            "yhat: Ankle boot /    Real: Sneaker\n",
            "yhat: Pullover /    Real: Coat\n",
            "yhat: Pullover /    Real: Coat\n",
            "yhat: Shirt /    Real: Coat\n",
            "yhat: Coat /    Real: Pullover\n",
            "yhat: Trouser /    Real: Dress\n",
            "yhat: Coat /    Real: Pullover\n",
            "yhat: Bag /    Real: T-shirt/top\n",
            "yhat: Trouser /    Real: Dress\n",
            "yhat: Dress /    Real: T-shirt/top\n",
            "yhat: Ankle boot /    Real: Sandal\n",
            "yhat: Shirt /    Real: Coat\n",
            "yhat: Pullover /    Real: Shirt\n",
            "yhat: Shirt /    Real: Bag\n",
            "yhat: Coat /    Real: Shirt\n",
            "yhat: Shirt /    Real: T-shirt/top\n",
            "yhat: Shirt /    Real: T-shirt/top\n",
            "yhat: Shirt /    Real: Coat\n",
            "yhat: Shirt /    Real: T-shirt/top\n",
            "yhat: Coat /    Real: Shirt\n",
            "yhat: Shirt /    Real: T-shirt/top\n",
            "yhat: T-shirt/top /    Real: Shirt\n",
            "yhat: T-shirt/top /    Real: Shirt\n",
            "yhat: T-shirt/top /    Real: Shirt\n",
            "yhat: Coat /    Real: Pullover\n",
            "yhat: T-shirt/top /    Real: Shirt\n",
            "yhat: T-shirt/top /    Real: Dress\n",
            "yhat: Coat /    Real: Pullover\n",
            "yhat: Sneaker /    Real: Sandal\n",
            "yhat: Pullover /    Real: Coat\n",
            "yhat: Shirt /    Real: T-shirt/top\n",
            "yhat: Coat /    Real: T-shirt/top\n",
            "yhat: Coat /    Real: Shirt\n",
            "yhat: Shirt /    Real: Coat\n",
            "yhat: T-shirt/top /    Real: Shirt\n",
            "yhat: Coat /    Real: Shirt\n",
            "yhat: Shirt /    Real: Bag\n",
            "yhat: Dress /    Real: Trouser\n",
            "yhat: Shirt /    Real: Coat\n",
            "yhat: Shirt /    Real: Coat\n",
            "yhat: Ankle boot /    Real: Sandal\n",
            "yhat: Dress /    Real: T-shirt/top\n",
            "yhat: Shirt /    Real: Pullover\n",
            "yhat: T-shirt/top /    Real: Shirt\n",
            "yhat: Coat /    Real: Shirt\n",
            "yhat: Shirt /    Real: T-shirt/top\n",
            "yhat: T-shirt/top /    Real: Shirt\n",
            "yhat: Dress /    Real: Coat\n",
            "yhat: Coat /    Real: Shirt\n",
            "yhat: Pullover /    Real: Shirt\n",
            "yhat: Coat /    Real: Shirt\n",
            "yhat: Shirt /    Real: Coat\n",
            "yhat: Dress /    Real: T-shirt/top\n",
            "yhat: T-shirt/top /    Real: Shirt\n",
            "yhat: Shirt /    Real: Coat\n",
            "yhat: Shirt /    Real: T-shirt/top\n",
            "yhat: T-shirt/top /    Real: Shirt\n",
            "yhat: Shirt /    Real: T-shirt/top\n",
            "yhat: Coat /    Real: Pullover\n",
            "yhat: Coat /    Real: Pullover\n",
            "yhat: Coat /    Real: Pullover\n",
            "yhat: T-shirt/top /    Real: Shirt\n",
            "yhat: Sandal /    Real: Bag\n",
            "yhat: Shirt /    Real: T-shirt/top\n",
            "yhat: Coat /    Real: Pullover\n",
            "yhat: Coat /    Real: Pullover\n",
            "yhat: Shirt /    Real: Dress\n",
            "yhat: Pullover /    Real: Coat\n",
            "yhat: Dress /    Real: Pullover\n",
            "yhat: Coat /    Real: Pullover\n",
            "yhat: Shirt /    Real: Coat\n",
            "yhat: Coat /    Real: Pullover\n",
            "yhat: Coat /    Real: Pullover\n",
            "yhat: Shirt /    Real: Coat\n",
            "yhat: Pullover /    Real: Coat\n",
            "yhat: T-shirt/top /    Real: Shirt\n",
            "yhat: Shirt /    Real: T-shirt/top\n",
            "yhat: Shirt /    Real: Coat\n",
            "yhat: Shirt /    Real: Pullover\n",
            "yhat: Coat /    Real: Pullover\n",
            "yhat: Coat /    Real: Pullover\n",
            "yhat: Coat /    Real: Bag\n",
            "yhat: T-shirt/top /    Real: Shirt\n",
            "yhat: Shirt /    Real: Coat\n",
            "yhat: Dress /    Real: Trouser\n",
            "yhat: Coat /    Real: Shirt\n",
            "yhat: Shirt /    Real: T-shirt/top\n",
            "yhat: Pullover /    Real: Shirt\n",
            "yhat: Sneaker /    Real: Sandal\n",
            "yhat: Dress /    Real: T-shirt/top\n",
            "yhat: Shirt /    Real: Pullover\n",
            "yhat: Sneaker /    Real: Sandal\n",
            "yhat: Sneaker /    Real: Ankle boot\n",
            "yhat: Shirt /    Real: Pullover\n",
            "yhat: Shirt /    Real: Pullover\n",
            "yhat: Coat /    Real: Pullover\n",
            "yhat: Coat /    Real: Pullover\n",
            "yhat: T-shirt/top /    Real: Dress\n",
            "yhat: Shirt /    Real: T-shirt/top\n",
            "yhat: Sneaker /    Real: Sandal\n",
            "yhat: T-shirt/top /    Real: Shirt\n",
            "yhat: Shirt /    Real: Pullover\n",
            "yhat: Sneaker /    Real: Ankle boot\n",
            "yhat: Shirt /    Real: Pullover\n",
            "yhat: Coat /    Real: Shirt\n",
            "yhat: T-shirt/top /    Real: Shirt\n",
            "yhat: Coat /    Real: Pullover\n",
            "yhat: Dress /    Real: Trouser\n",
            "yhat: Coat /    Real: Pullover\n",
            "yhat: Coat /    Real: Dress\n",
            "yhat: Shirt /    Real: T-shirt/top\n",
            "yhat: Coat /    Real: Shirt\n",
            "yhat: Sandal /    Real: Ankle boot\n",
            "yhat: T-shirt/top /    Real: Shirt\n",
            "yhat: Coat /    Real: Pullover\n",
            "yhat: Shirt /    Real: T-shirt/top\n",
            "yhat: Coat /    Real: Pullover\n",
            "yhat: Coat /    Real: Pullover\n",
            "yhat: Pullover /    Real: Shirt\n",
            "yhat: T-shirt/top /    Real: Shirt\n",
            "yhat: Coat /    Real: Dress\n",
            "yhat: Pullover /    Real: Coat\n",
            "yhat: Dress /    Real: Coat\n",
            "yhat: Sneaker /    Real: Sandal\n",
            "yhat: Bag /    Real: Dress\n",
            "yhat: Shirt /    Real: Coat\n",
            "yhat: Shirt /    Real: T-shirt/top\n",
            "yhat: Coat /    Real: Pullover\n",
            "yhat: Pullover /    Real: Coat\n",
            "yhat: Pullover /    Real: Coat\n",
            "yhat: Coat /    Real: Shirt\n",
            "yhat: Coat /    Real: Pullover\n",
            "yhat: Coat /    Real: Dress\n",
            "yhat: T-shirt/top /    Real: Shirt\n",
            "yhat: Dress /    Real: T-shirt/top\n",
            "yhat: Shirt /    Real: Pullover\n",
            "yhat: Sneaker /    Real: Sandal\n",
            "yhat: Coat /    Real: Pullover\n",
            "yhat: Coat /    Real: Pullover\n",
            "yhat: Shirt /    Real: Dress\n",
            "yhat: Dress /    Real: Shirt\n",
            "yhat: Coat /    Real: Bag\n",
            "yhat: Dress /    Real: Bag\n",
            "yhat: Coat /    Real: Pullover\n",
            "yhat: T-shirt/top /    Real: Shirt\n",
            "yhat: T-shirt/top /    Real: Shirt\n",
            "yhat: Coat /    Real: Pullover\n",
            "yhat: T-shirt/top /    Real: Dress\n",
            "yhat: Ankle boot /    Real: Sneaker\n",
            "yhat: Sneaker /    Real: Sandal\n",
            "yhat: Coat /    Real: Pullover\n",
            "yhat: Pullover /    Real: Coat\n",
            "yhat: Sneaker /    Real: Sandal\n",
            "yhat: Shirt /    Real: Pullover\n",
            "yhat: Trouser /    Real: Dress\n",
            "yhat: Coat /    Real: Dress\n",
            "yhat: Dress /    Real: Coat\n",
            "yhat: Shirt /    Real: Bag\n",
            "yhat: Coat /    Real: Dress\n",
            "yhat: Coat /    Real: Pullover\n",
            "yhat: Shirt /    Real: Pullover\n",
            "yhat: Coat /    Real: Shirt\n",
            "yhat: Shirt /    Real: Coat\n",
            "yhat: Coat /    Real: Shirt\n",
            "yhat: Trouser /    Real: Bag\n",
            "yhat: Trouser /    Real: Dress\n",
            "yhat: Shirt /    Real: Coat\n",
            "yhat: T-shirt/top /    Real: Shirt\n",
            "yhat: Coat /    Real: Shirt\n",
            "yhat: Coat /    Real: Dress\n",
            "yhat: T-shirt/top /    Real: Shirt\n",
            "yhat: Coat /    Real: Pullover\n",
            "yhat: Coat /    Real: Pullover\n",
            "yhat: Shirt /    Real: Coat\n",
            "yhat: T-shirt/top /    Real: Shirt\n",
            "yhat: Coat /    Real: Pullover\n",
            "yhat: T-shirt/top /    Real: Shirt\n",
            "yhat: Sneaker /    Real: Sandal\n",
            "yhat: Shirt /    Real: Dress\n",
            "yhat: T-shirt/top /    Real: Shirt\n",
            "yhat: T-shirt/top /    Real: Dress\n",
            "yhat: Pullover /    Real: Dress\n",
            "yhat: Coat /    Real: Pullover\n",
            "yhat: Coat /    Real: Pullover\n",
            "yhat: Pullover /    Real: Shirt\n",
            "yhat: Pullover /    Real: Shirt\n",
            "yhat: Shirt /    Real: Coat\n",
            "yhat: Sandal /    Real: Bag\n",
            "yhat: Dress /    Real: Trouser\n",
            "yhat: T-shirt/top /    Real: Shirt\n",
            "yhat: Sandal /    Real: Ankle boot\n",
            "yhat: T-shirt/top /    Real: Shirt\n",
            "yhat: Pullover /    Real: Coat\n",
            "yhat: Sneaker /    Real: Sandal\n",
            "yhat: Coat /    Real: Shirt\n",
            "yhat: T-shirt/top /    Real: Shirt\n",
            "yhat: Shirt /    Real: Coat\n",
            "yhat: T-shirt/top /    Real: Shirt\n",
            "yhat: Pullover /    Real: Shirt\n",
            "yhat: Coat /    Real: Bag\n",
            "yhat: Dress /    Real: Trouser\n",
            "yhat: T-shirt/top /    Real: Shirt\n",
            "yhat: Shirt /    Real: Coat\n",
            "yhat: Pullover /    Real: Shirt\n",
            "yhat: T-shirt/top /    Real: Shirt\n",
            "yhat: Coat /    Real: Pullover\n",
            "yhat: Shirt /    Real: T-shirt/top\n",
            "yhat: Coat /    Real: Dress\n",
            "yhat: Pullover /    Real: Coat\n",
            "yhat: Shirt /    Real: T-shirt/top\n",
            "yhat: Sneaker /    Real: Ankle boot\n",
            "yhat: Ankle boot /    Real: Sneaker\n",
            "yhat: Coat /    Real: Shirt\n",
            "yhat: Shirt /    Real: Pullover\n",
            "yhat: Coat /    Real: Shirt\n",
            "yhat: Coat /    Real: Pullover\n",
            "yhat: Sneaker /    Real: Ankle boot\n",
            "yhat: Shirt /    Real: Coat\n",
            "yhat: Shirt /    Real: T-shirt/top\n",
            "yhat: T-shirt/top /    Real: Shirt\n",
            "yhat: Dress /    Real: Shirt\n",
            "yhat: Sandal /    Real: Ankle boot\n",
            "yhat: Shirt /    Real: Pullover\n",
            "yhat: Shirt /    Real: Pullover\n",
            "yhat: Bag /    Real: T-shirt/top\n",
            "yhat: Shirt /    Real: Coat\n",
            "yhat: Coat /    Real: Pullover\n",
            "yhat: Dress /    Real: Shirt\n",
            "yhat: Coat /    Real: Dress\n",
            "yhat: Shirt /    Real: T-shirt/top\n",
            "yhat: Shirt /    Real: T-shirt/top\n",
            "yhat: Pullover /    Real: Shirt\n",
            "yhat: Shirt /    Real: Coat\n",
            "yhat: Pullover /    Real: Dress\n",
            "yhat: T-shirt/top /    Real: Dress\n",
            "yhat: Coat /    Real: Shirt\n",
            "yhat: Shirt /    Real: Dress\n",
            "yhat: Shirt /    Real: T-shirt/top\n",
            "yhat: T-shirt/top /    Real: Dress\n",
            "yhat: Shirt /    Real: Pullover\n",
            "yhat: Pullover /    Real: Coat\n",
            "yhat: Sandal /    Real: Sneaker\n",
            "yhat: Pullover /    Real: Coat\n",
            "yhat: Dress /    Real: Coat\n",
            "yhat: Shirt /    Real: Pullover\n",
            "yhat: Bag /    Real: Dress\n",
            "yhat: Shirt /    Real: Pullover\n",
            "yhat: T-shirt/top /    Real: Shirt\n",
            "yhat: T-shirt/top /    Real: Shirt\n",
            "yhat: T-shirt/top /    Real: Shirt\n",
            "yhat: Coat /    Real: Shirt\n",
            "yhat: Pullover /    Real: Shirt\n",
            "yhat: Shirt /    Real: Coat\n",
            "yhat: T-shirt/top /    Real: Shirt\n",
            "yhat: Coat /    Real: Shirt\n",
            "yhat: Pullover /    Real: Shirt\n",
            "yhat: Pullover /    Real: Shirt\n",
            "yhat: Coat /    Real: Pullover\n",
            "yhat: Sandal /    Real: T-shirt/top\n",
            "yhat: Coat /    Real: Dress\n",
            "yhat: Coat /    Real: Dress\n",
            "yhat: Dress /    Real: Bag\n",
            "yhat: T-shirt/top /    Real: Pullover\n",
            "yhat: Shirt /    Real: T-shirt/top\n",
            "yhat: Ankle boot /    Real: Sneaker\n",
            "yhat: Shirt /    Real: Coat\n",
            "yhat: Coat /    Real: Pullover\n",
            "yhat: Coat /    Real: Pullover\n",
            "yhat: Sneaker /    Real: Ankle boot\n",
            "yhat: T-shirt/top /    Real: Shirt\n",
            "yhat: Pullover /    Real: Shirt\n",
            "yhat: Dress /    Real: Trouser\n",
            "yhat: Pullover /    Real: T-shirt/top\n",
            "yhat: Shirt /    Real: Pullover\n",
            "yhat: Trouser /    Real: Pullover\n",
            "yhat: Ankle boot /    Real: Sneaker\n",
            "yhat: Shirt /    Real: Pullover\n",
            "yhat: Pullover /    Real: Shirt\n",
            "yhat: T-shirt/top /    Real: Shirt\n",
            "yhat: Ankle boot /    Real: Sneaker\n",
            "yhat: Sandal /    Real: Sneaker\n",
            "yhat: T-shirt/top /    Real: Dress\n",
            "yhat: Dress /    Real: Bag\n",
            "yhat: Shirt /    Real: Dress\n",
            "yhat: Coat /    Real: Pullover\n",
            "yhat: Shirt /    Real: Pullover\n",
            "yhat: Dress /    Real: Shirt\n",
            "yhat: Shirt /    Real: T-shirt/top\n",
            "yhat: T-shirt/top /    Real: Shirt\n",
            "yhat: Pullover /    Real: Coat\n",
            "yhat: Shirt /    Real: Pullover\n",
            "yhat: Dress /    Real: Coat\n",
            "yhat: Sneaker /    Real: Ankle boot\n",
            "yhat: Coat /    Real: Dress\n",
            "yhat: Pullover /    Real: Shirt\n",
            "yhat: Coat /    Real: T-shirt/top\n",
            "yhat: Shirt /    Real: Coat\n",
            "yhat: Pullover /    Real: Shirt\n",
            "yhat: Coat /    Real: Pullover\n",
            "yhat: Pullover /    Real: Shirt\n",
            "yhat: Dress /    Real: T-shirt/top\n",
            "yhat: T-shirt/top /    Real: Dress\n",
            "yhat: Sneaker /    Real: Sandal\n",
            "yhat: Dress /    Real: Coat\n",
            "yhat: Shirt /    Real: Coat\n",
            "yhat: T-shirt/top /    Real: Shirt\n",
            "yhat: T-shirt/top /    Real: Shirt\n",
            "yhat: Coat /    Real: Pullover\n",
            "yhat: Shirt /    Real: Pullover\n",
            "yhat: Sneaker /    Real: Sandal\n",
            "yhat: T-shirt/top /    Real: Pullover\n",
            "yhat: Dress /    Real: Pullover\n",
            "yhat: Coat /    Real: Shirt\n",
            "yhat: Trouser /    Real: Dress\n",
            "yhat: Shirt /    Real: Pullover\n",
            "yhat: Ankle boot /    Real: Sneaker\n",
            "yhat: Pullover /    Real: Bag\n",
            "yhat: Shirt /    Real: Pullover\n",
            "yhat: Pullover /    Real: Coat\n",
            "yhat: Coat /    Real: Pullover\n",
            "yhat: Coat /    Real: Pullover\n",
            "yhat: Shirt /    Real: Pullover\n",
            "yhat: Shirt /    Real: T-shirt/top\n",
            "yhat: Shirt /    Real: Dress\n",
            "yhat: T-shirt/top /    Real: Dress\n",
            "yhat: T-shirt/top /    Real: Shirt\n",
            "yhat: Dress /    Real: Shirt\n",
            "yhat: Dress /    Real: Shirt\n",
            "yhat: Coat /    Real: Shirt\n",
            "yhat: Pullover /    Real: T-shirt/top\n",
            "yhat: Ankle boot /    Real: Sneaker\n",
            "yhat: Coat /    Real: Pullover\n",
            "yhat: Coat /    Real: Pullover\n",
            "yhat: Pullover /    Real: Shirt\n",
            "yhat: Dress /    Real: Shirt\n",
            "yhat: Shirt /    Real: T-shirt/top\n",
            "yhat: Coat /    Real: Pullover\n",
            "yhat: Shirt /    Real: T-shirt/top\n",
            "yhat: Shirt /    Real: Pullover\n",
            "yhat: Coat /    Real: Pullover\n",
            "yhat: Shirt /    Real: Pullover\n",
            "yhat: Sneaker /    Real: Bag\n",
            "yhat: Shirt /    Real: Coat\n",
            "yhat: T-shirt/top /    Real: Shirt\n",
            "yhat: Dress /    Real: Pullover\n",
            "yhat: Coat /    Real: Shirt\n",
            "yhat: Coat /    Real: Pullover\n",
            "yhat: T-shirt/top /    Real: Shirt\n",
            "yhat: Coat /    Real: Dress\n",
            "yhat: Shirt /    Real: Pullover\n",
            "yhat: Dress /    Real: T-shirt/top\n",
            "yhat: Shirt /    Real: Pullover\n",
            "yhat: Shirt /    Real: Pullover\n",
            "yhat: T-shirt/top /    Real: Pullover\n",
            "yhat: Shirt /    Real: T-shirt/top\n",
            "yhat: Coat /    Real: Shirt\n",
            "yhat: T-shirt/top /    Real: Pullover\n",
            "yhat: Coat /    Real: Pullover\n",
            "yhat: Pullover /    Real: Coat\n",
            "yhat: Shirt /    Real: Pullover\n",
            "yhat: Coat /    Real: Pullover\n",
            "yhat: Shirt /    Real: T-shirt/top\n",
            "yhat: T-shirt/top /    Real: Shirt\n",
            "yhat: Coat /    Real: Shirt\n",
            "yhat: Bag /    Real: Shirt\n",
            "yhat: Coat /    Real: Shirt\n",
            "yhat: T-shirt/top /    Real: Pullover\n",
            "yhat: Sneaker /    Real: Ankle boot\n",
            "yhat: Sneaker /    Real: Sandal\n",
            "yhat: T-shirt/top /    Real: Shirt\n",
            "yhat: Shirt /    Real: Dress\n",
            "yhat: Shirt /    Real: Pullover\n",
            "yhat: Coat /    Real: Dress\n",
            "yhat: Dress /    Real: Coat\n",
            "yhat: Pullover /    Real: Coat\n",
            "yhat: Sandal /    Real: Sneaker\n",
            "yhat: Trouser /    Real: Dress\n",
            "yhat: Bag /    Real: Shirt\n",
            "yhat: Shirt /    Real: T-shirt/top\n",
            "yhat: Coat /    Real: Pullover\n",
            "yhat: Shirt /    Real: Bag\n",
            "yhat: T-shirt/top /    Real: Dress\n",
            "yhat: Shirt /    Real: Pullover\n",
            "yhat: Pullover /    Real: Shirt\n",
            "yhat: Dress /    Real: Coat\n",
            "yhat: T-shirt/top /    Real: Dress\n",
            "yhat: Dress /    Real: Coat\n",
            "yhat: Coat /    Real: Pullover\n",
            "yhat: Trouser /    Real: Shirt\n",
            "yhat: Dress /    Real: Shirt\n",
            "yhat: Coat /    Real: Shirt\n",
            "yhat: Pullover /    Real: Shirt\n",
            "yhat: Ankle boot /    Real: Sandal\n",
            "yhat: Coat /    Real: Pullover\n",
            "yhat: Dress /    Real: Pullover\n",
            "yhat: Dress /    Real: T-shirt/top\n",
            "yhat: Sneaker /    Real: Ankle boot\n",
            "yhat: Sneaker /    Real: Ankle boot\n",
            "yhat: Bag /    Real: T-shirt/top\n",
            "yhat: Coat /    Real: Pullover\n",
            "yhat: Shirt /    Real: T-shirt/top\n",
            "yhat: Shirt /    Real: Pullover\n",
            "yhat: Coat /    Real: Dress\n",
            "yhat: Dress /    Real: T-shirt/top\n",
            "yhat: Pullover /    Real: T-shirt/top\n",
            "yhat: Shirt /    Real: T-shirt/top\n",
            "yhat: Shirt /    Real: Pullover\n",
            "yhat: Dress /    Real: Trouser\n",
            "yhat: Coat /    Real: Shirt\n",
            "yhat: Coat /    Real: Bag\n",
            "yhat: Sandal /    Real: Ankle boot\n",
            "yhat: Sandal /    Real: Sneaker\n",
            "yhat: Pullover /    Real: T-shirt/top\n",
            "yhat: T-shirt/top /    Real: Shirt\n",
            "yhat: Coat /    Real: Pullover\n",
            "yhat: Coat /    Real: Pullover\n",
            "yhat: Sneaker /    Real: Sandal\n",
            "yhat: Dress /    Real: Pullover\n",
            "yhat: Coat /    Real: Dress\n",
            "yhat: Sandal /    Real: Sneaker\n",
            "yhat: Shirt /    Real: Coat\n",
            "yhat: Shirt /    Real: T-shirt/top\n",
            "yhat: Shirt /    Real: Bag\n",
            "yhat: Coat /    Real: Shirt\n",
            "yhat: T-shirt/top /    Real: Shirt\n",
            "yhat: Shirt /    Real: Dress\n",
            "yhat: Sneaker /    Real: Ankle boot\n",
            "yhat: Ankle boot /    Real: Sneaker\n",
            "yhat: Coat /    Real: Shirt\n",
            "yhat: T-shirt/top /    Real: Shirt\n",
            "yhat: Coat /    Real: Pullover\n",
            "yhat: T-shirt/top /    Real: Shirt\n",
            "yhat: Shirt /    Real: Pullover\n",
            "yhat: T-shirt/top /    Real: Shirt\n",
            "yhat: Dress /    Real: Shirt\n",
            "yhat: Shirt /    Real: T-shirt/top\n",
            "yhat: Bag /    Real: Dress\n",
            "yhat: Coat /    Real: Shirt\n",
            "yhat: T-shirt/top /    Real: Shirt\n",
            "yhat: T-shirt/top /    Real: Pullover\n",
            "yhat: Coat /    Real: Pullover\n",
            "yhat: T-shirt/top /    Real: Shirt\n",
            "yhat: T-shirt/top /    Real: Shirt\n",
            "yhat: Trouser /    Real: T-shirt/top\n",
            "yhat: T-shirt/top /    Real: Shirt\n",
            "yhat: Coat /    Real: Pullover\n",
            "yhat: Shirt /    Real: T-shirt/top\n",
            "yhat: Shirt /    Real: Pullover\n",
            "yhat: Shirt /    Real: T-shirt/top\n",
            "yhat: T-shirt/top /    Real: Shirt\n",
            "yhat: Pullover /    Real: Coat\n",
            "yhat: Trouser /    Real: Dress\n",
            "yhat: Shirt /    Real: Coat\n",
            "yhat: Pullover /    Real: Shirt\n",
            "yhat: T-shirt/top /    Real: Shirt\n",
            "yhat: Shirt /    Real: Coat\n",
            "yhat: Shirt /    Real: Bag\n",
            "yhat: T-shirt/top /    Real: Shirt\n",
            "yhat: Coat /    Real: Pullover\n",
            "yhat: Pullover /    Real: Shirt\n",
            "yhat: Shirt /    Real: Pullover\n",
            "yhat: Dress /    Real: Coat\n",
            "yhat: Pullover /    Real: Shirt\n",
            "yhat: Shirt /    Real: Pullover\n",
            "yhat: Coat /    Real: Pullover\n",
            "yhat: Bag /    Real: Dress\n",
            "yhat: Coat /    Real: Shirt\n",
            "yhat: Sneaker /    Real: Ankle boot\n",
            "yhat: Sneaker /    Real: Sandal\n",
            "yhat: Pullover /    Real: Shirt\n",
            "yhat: Shirt /    Real: Coat\n",
            "yhat: Pullover /    Real: Shirt\n",
            "yhat: T-shirt/top /    Real: Shirt\n",
            "yhat: T-shirt/top /    Real: Bag\n",
            "yhat: Shirt /    Real: T-shirt/top\n",
            "yhat: Shirt /    Real: Pullover\n",
            "yhat: Dress /    Real: Coat\n",
            "yhat: T-shirt/top /    Real: Dress\n",
            "yhat: Shirt /    Real: Pullover\n",
            "yhat: Shirt /    Real: Coat\n",
            "yhat: Ankle boot /    Real: Sneaker\n",
            "yhat: Sandal /    Real: Ankle boot\n",
            "yhat: Dress /    Real: Shirt\n",
            "yhat: Shirt /    Real: Coat\n",
            "yhat: Shirt /    Real: T-shirt/top\n",
            "yhat: T-shirt/top /    Real: Shirt\n",
            "yhat: Dress /    Real: Shirt\n",
            "yhat: Ankle boot /    Real: Sandal\n",
            "yhat: Shirt /    Real: Coat\n",
            "yhat: Coat /    Real: Pullover\n",
            "yhat: Pullover /    Real: Coat\n",
            "yhat: Pullover /    Real: Coat\n",
            "yhat: Coat /    Real: Pullover\n",
            "yhat: Coat /    Real: Pullover\n",
            "yhat: Dress /    Real: T-shirt/top\n",
            "yhat: Shirt /    Real: Dress\n",
            "yhat: Shirt /    Real: Coat\n",
            "yhat: Coat /    Real: Pullover\n",
            "yhat: Dress /    Real: Shirt\n",
            "yhat: Shirt /    Real: Pullover\n",
            "yhat: Shirt /    Real: Pullover\n",
            "yhat: Shirt /    Real: Pullover\n",
            "yhat: T-shirt/top /    Real: Shirt\n",
            "yhat: Ankle boot /    Real: Sneaker\n",
            "yhat: Coat /    Real: Pullover\n",
            "yhat: Dress /    Real: T-shirt/top\n",
            "yhat: T-shirt/top /    Real: Shirt\n",
            "yhat: Coat /    Real: Pullover\n",
            "yhat: T-shirt/top /    Real: Bag\n",
            "yhat: Coat /    Real: Dress\n",
            "yhat: Shirt /    Real: Coat\n",
            "yhat: Shirt /    Real: Pullover\n",
            "yhat: Coat /    Real: Pullover\n",
            "yhat: Pullover /    Real: Shirt\n",
            "yhat: T-shirt/top /    Real: Shirt\n",
            "yhat: Coat /    Real: Shirt\n",
            "yhat: Coat /    Real: Pullover\n",
            "yhat: Shirt /    Real: Pullover\n",
            "yhat: Shirt /    Real: Pullover\n",
            "yhat: Sneaker /    Real: Bag\n",
            "yhat: T-shirt/top /    Real: Shirt\n",
            "yhat: T-shirt/top /    Real: Shirt\n",
            "yhat: Coat /    Real: Pullover\n",
            "yhat: Coat /    Real: Pullover\n",
            "yhat: Sneaker /    Real: Ankle boot\n",
            "yhat: T-shirt/top /    Real: Dress\n",
            "yhat: Sandal /    Real: Sneaker\n",
            "yhat: Pullover /    Real: Shirt\n",
            "yhat: Coat /    Real: Pullover\n",
            "yhat: Pullover /    Real: Coat\n",
            "yhat: Coat /    Real: Pullover\n",
            "yhat: T-shirt/top /    Real: Shirt\n",
            "yhat: T-shirt/top /    Real: Shirt\n",
            "yhat: T-shirt/top /    Real: Shirt\n",
            "yhat: Shirt /    Real: T-shirt/top\n",
            "yhat: Dress /    Real: Coat\n",
            "yhat: Dress /    Real: Coat\n",
            "yhat: Shirt /    Real: T-shirt/top\n",
            "yhat: Pullover /    Real: Dress\n",
            "yhat: Ankle boot /    Real: Sandal\n",
            "yhat: Coat /    Real: Pullover\n",
            "yhat: Shirt /    Real: T-shirt/top\n",
            "yhat: Shirt /    Real: Pullover\n",
            "yhat: Dress /    Real: Shirt\n",
            "yhat: Sneaker /    Real: Ankle boot\n",
            "yhat: T-shirt/top /    Real: Shirt\n",
            "yhat: Coat /    Real: Pullover\n",
            "yhat: Trouser /    Real: Dress\n",
            "yhat: Coat /    Real: Pullover\n",
            "yhat: Shirt /    Real: T-shirt/top\n",
            "yhat: Shirt /    Real: T-shirt/top\n",
            "yhat: Shirt /    Real: T-shirt/top\n",
            "yhat: Dress /    Real: Coat\n",
            "yhat: Coat /    Real: Shirt\n",
            "yhat: Pullover /    Real: Coat\n",
            "yhat: Coat /    Real: Shirt\n",
            "yhat: Bag /    Real: Shirt\n",
            "yhat: Shirt /    Real: Pullover\n",
            "yhat: Sneaker /    Real: Ankle boot\n",
            "yhat: Ankle boot /    Real: Sandal\n",
            "yhat: Shirt /    Real: T-shirt/top\n",
            "yhat: T-shirt/top /    Real: Shirt\n",
            "yhat: Trouser /    Real: Dress\n",
            "yhat: Coat /    Real: Pullover\n",
            "yhat: Bag /    Real: Shirt\n",
            "yhat: Shirt /    Real: Pullover\n",
            "yhat: Shirt /    Real: T-shirt/top\n",
            "yhat: Shirt /    Real: Bag\n",
            "yhat: Pullover /    Real: Shirt\n",
            "yhat: Coat /    Real: Pullover\n",
            "yhat: Coat /    Real: Shirt\n",
            "yhat: Dress /    Real: Coat\n",
            "yhat: Coat /    Real: Shirt\n",
            "yhat: Pullover /    Real: Shirt\n",
            "yhat: T-shirt/top /    Real: Shirt\n",
            "yhat: Coat /    Real: Shirt\n",
            "yhat: Shirt /    Real: Dress\n",
            "yhat: Sandal /    Real: Sneaker\n",
            "yhat: Pullover /    Real: Shirt\n",
            "yhat: Bag /    Real: Sandal\n",
            "yhat: Coat /    Real: Pullover\n",
            "yhat: T-shirt/top /    Real: Shirt\n",
            "yhat: Dress /    Real: Shirt\n",
            "yhat: Trouser /    Real: Dress\n",
            "yhat: Pullover /    Real: Coat\n",
            "yhat: Coat /    Real: Dress\n",
            "yhat: T-shirt/top /    Real: Shirt\n",
            "yhat: Shirt /    Real: Pullover\n",
            "yhat: Shirt /    Real: Pullover\n",
            "yhat: Sandal /    Real: T-shirt/top\n",
            "yhat: Shirt /    Real: T-shirt/top\n",
            "yhat: Ankle boot /    Real: Sneaker\n",
            "yhat: Shirt /    Real: T-shirt/top\n",
            "yhat: Dress /    Real: Trouser\n",
            "yhat: Dress /    Real: T-shirt/top\n",
            "yhat: Sandal /    Real: T-shirt/top\n",
            "yhat: Coat /    Real: Dress\n",
            "yhat: Coat /    Real: Pullover\n",
            "yhat: Pullover /    Real: Coat\n",
            "yhat: Shirt /    Real: Pullover\n",
            "yhat: Pullover /    Real: Coat\n",
            "yhat: Dress /    Real: Shirt\n",
            "yhat: Coat /    Real: Pullover\n",
            "yhat: Pullover /    Real: Coat\n",
            "yhat: Shirt /    Real: T-shirt/top\n",
            "yhat: Pullover /    Real: Coat\n",
            "yhat: T-shirt/top /    Real: Shirt\n",
            "yhat: Shirt /    Real: Pullover\n",
            "yhat: Trouser /    Real: Pullover\n",
            "yhat: Shirt /    Real: Pullover\n",
            "yhat: T-shirt/top /    Real: Shirt\n",
            "yhat: Coat /    Real: Bag\n",
            "yhat: Coat /    Real: Pullover\n",
            "yhat: Coat /    Real: Pullover\n",
            "yhat: Coat /    Real: Pullover\n",
            "yhat: T-shirt/top /    Real: Dress\n",
            "yhat: Coat /    Real: Shirt\n",
            "yhat: T-shirt/top /    Real: Shirt\n",
            "yhat: Shirt /    Real: Coat\n",
            "yhat: Shirt /    Real: Ankle boot\n",
            "yhat: Ankle boot /    Real: Sneaker\n",
            "yhat: Pullover /    Real: Shirt\n",
            "yhat: T-shirt/top /    Real: Shirt\n",
            "yhat: Sneaker /    Real: Ankle boot\n",
            "yhat: Dress /    Real: Trouser\n",
            "yhat: Pullover /    Real: Coat\n",
            "yhat: Dress /    Real: Sandal\n",
            "yhat: Sneaker /    Real: Sandal\n",
            "yhat: Coat /    Real: Pullover\n",
            "yhat: Dress /    Real: Shirt\n",
            "yhat: Coat /    Real: Dress\n",
            "yhat: Coat /    Real: Dress\n",
            "yhat: Shirt /    Real: Pullover\n",
            "yhat: Dress /    Real: Coat\n",
            "yhat: Coat /    Real: Pullover\n",
            "yhat: Coat /    Real: Dress\n",
            "yhat: Pullover /    Real: Shirt\n",
            "yhat: Coat /    Real: Shirt\n",
            "yhat: Coat /    Real: Trouser\n",
            "yhat: Shirt /    Real: T-shirt/top\n",
            "yhat: Pullover /    Real: Coat\n",
            "yhat: Pullover /    Real: Shirt\n",
            "yhat: T-shirt/top /    Real: Shirt\n",
            "yhat: Pullover /    Real: Shirt\n",
            "yhat: T-shirt/top /    Real: Shirt\n",
            "yhat: Coat /    Real: Pullover\n",
            "yhat: Shirt /    Real: T-shirt/top\n",
            "yhat: Bag /    Real: Coat\n",
            "yhat: Sneaker /    Real: Sandal\n",
            "yhat: T-shirt/top /    Real: Shirt\n",
            "yhat: T-shirt/top /    Real: Pullover\n",
            "yhat: Ankle boot /    Real: Sandal\n",
            "yhat: Shirt /    Real: Pullover\n",
            "yhat: Dress /    Real: T-shirt/top\n",
            "yhat: Shirt /    Real: Pullover\n",
            "yhat: Shirt /    Real: Coat\n",
            "yhat: Coat /    Real: Pullover\n",
            "yhat: Dress /    Real: T-shirt/top\n",
            "yhat: Dress /    Real: Trouser\n",
            "yhat: Coat /    Real: Pullover\n",
            "yhat: Trouser /    Real: Dress\n",
            "yhat: Shirt /    Real: Pullover\n",
            "yhat: Coat /    Real: Shirt\n",
            "yhat: Shirt /    Real: Pullover\n",
            "yhat: T-shirt/top /    Real: Shirt\n",
            "yhat: T-shirt/top /    Real: Pullover\n",
            "yhat: T-shirt/top /    Real: Shirt\n",
            "yhat: Shirt /    Real: Pullover\n",
            "yhat: Pullover /    Real: Coat\n",
            "yhat: Coat /    Real: Shirt\n",
            "yhat: Ankle boot /    Real: Sandal\n",
            "yhat: Coat /    Real: Shirt\n",
            "yhat: Coat /    Real: Dress\n",
            "yhat: Pullover /    Real: Coat\n",
            "yhat: Coat /    Real: Pullover\n",
            "yhat: Coat /    Real: Pullover\n",
            "yhat: Sneaker /    Real: Ankle boot\n",
            "yhat: Shirt /    Real: T-shirt/top\n",
            "yhat: Sandal /    Real: Ankle boot\n",
            "yhat: Coat /    Real: Pullover\n",
            "yhat: Coat /    Real: T-shirt/top\n",
            "yhat: Coat /    Real: Dress\n",
            "yhat: Coat /    Real: Dress\n",
            "yhat: Coat /    Real: Pullover\n",
            "yhat: T-shirt/top /    Real: Shirt\n",
            "yhat: Coat /    Real: Pullover\n",
            "yhat: Dress /    Real: Shirt\n",
            "yhat: Shirt /    Real: Coat\n",
            "yhat: T-shirt/top /    Real: Shirt\n",
            "yhat: Shirt /    Real: Dress\n",
            "yhat: T-shirt/top /    Real: Shirt\n",
            "yhat: T-shirt/top /    Real: Shirt\n",
            "yhat: T-shirt/top /    Real: Shirt\n",
            "yhat: Coat /    Real: Pullover\n",
            "yhat: Pullover /    Real: Shirt\n",
            "yhat: Coat /    Real: T-shirt/top\n",
            "yhat: Coat /    Real: Pullover\n",
            "yhat: Ankle boot /    Real: Sneaker\n",
            "yhat: Shirt /    Real: T-shirt/top\n",
            "yhat: Pullover /    Real: Shirt\n",
            "yhat: Shirt /    Real: Pullover\n",
            "yhat: Shirt /    Real: Coat\n",
            "yhat: Sneaker /    Real: Ankle boot\n",
            "yhat: Sneaker /    Real: Sandal\n",
            "yhat: Dress /    Real: Trouser\n",
            "yhat: Pullover /    Real: Shirt\n",
            "yhat: Ankle boot /    Real: Sneaker\n",
            "yhat: T-shirt/top /    Real: Dress\n",
            "yhat: Sneaker /    Real: Sandal\n",
            "yhat: Shirt /    Real: Coat\n",
            "yhat: Shirt /    Real: Coat\n",
            "yhat: Coat /    Real: Shirt\n",
            "yhat: T-shirt/top /    Real: Shirt\n",
            "yhat: Coat /    Real: Shirt\n",
            "yhat: Shirt /    Real: Coat\n",
            "yhat: Shirt /    Real: Bag\n",
            "yhat: Sneaker /    Real: Sandal\n",
            "yhat: Coat /    Real: Dress\n",
            "yhat: Pullover /    Real: Coat\n",
            "yhat: Coat /    Real: Pullover\n",
            "yhat: Bag /    Real: T-shirt/top\n",
            "yhat: Shirt /    Real: Pullover\n",
            "yhat: Coat /    Real: Dress\n",
            "yhat: Shirt /    Real: Bag\n",
            "yhat: Pullover /    Real: T-shirt/top\n",
            "yhat: Pullover /    Real: Coat\n",
            "yhat: Coat /    Real: Pullover\n",
            "yhat: Dress /    Real: Shirt\n",
            "yhat: Coat /    Real: Shirt\n",
            "yhat: T-shirt/top /    Real: Shirt\n",
            "yhat: Pullover /    Real: Coat\n",
            "yhat: Coat /    Real: Pullover\n",
            "yhat: Shirt /    Real: Pullover\n",
            "yhat: Shirt /    Real: T-shirt/top\n",
            "yhat: Ankle boot /    Real: Sneaker\n",
            "yhat: Pullover /    Real: Shirt\n",
            "yhat: Bag /    Real: Trouser\n",
            "yhat: T-shirt/top /    Real: Shirt\n",
            "yhat: Ankle boot /    Real: Sandal\n",
            "yhat: Shirt /    Real: Coat\n",
            "yhat: Pullover /    Real: T-shirt/top\n",
            "yhat: Pullover /    Real: Shirt\n",
            "yhat: Pullover /    Real: Coat\n",
            "yhat: Coat /    Real: Shirt\n",
            "yhat: Dress /    Real: Coat\n",
            "yhat: Shirt /    Real: Dress\n",
            "yhat: Dress /    Real: Bag\n",
            "yhat: Trouser /    Real: Dress\n",
            "yhat: Dress /    Real: Coat\n",
            "yhat: Sandal /    Real: Sneaker\n",
            "yhat: Dress /    Real: Pullover\n",
            "yhat: Sandal /    Real: Sneaker\n",
            "yhat: Shirt /    Real: Coat\n",
            "yhat: Shirt /    Real: T-shirt/top\n",
            "yhat: Sneaker /    Real: Ankle boot\n",
            "yhat: Shirt /    Real: Dress\n",
            "yhat: Pullover /    Real: Coat\n",
            "yhat: Coat /    Real: Pullover\n",
            "yhat: Pullover /    Real: Coat\n",
            "yhat: Coat /    Real: Pullover\n",
            "yhat: Coat /    Real: Shirt\n",
            "yhat: Coat /    Real: Shirt\n",
            "yhat: Coat /    Real: Pullover\n",
            "yhat: Coat /    Real: Shirt\n",
            "yhat: T-shirt/top /    Real: Shirt\n",
            "yhat: Shirt /    Real: Coat\n",
            "yhat: Coat /    Real: Pullover\n",
            "yhat: Sneaker /    Real: Bag\n",
            "yhat: Coat /    Real: Dress\n",
            "yhat: T-shirt/top /    Real: Shirt\n",
            "yhat: Bag /    Real: Shirt\n",
            "yhat: Sneaker /    Real: Sandal\n",
            "yhat: Shirt /    Real: Dress\n",
            "yhat: Coat /    Real: Shirt\n",
            "yhat: Sneaker /    Real: Sandal\n",
            "yhat: T-shirt/top /    Real: Shirt\n",
            "yhat: Dress /    Real: Trouser\n",
            "yhat: Pullover /    Real: Shirt\n",
            "yhat: T-shirt/top /    Real: Shirt\n",
            "yhat: Coat /    Real: Shirt\n",
            "yhat: Coat /    Real: Dress\n",
            "yhat: Shirt /    Real: T-shirt/top\n",
            "yhat: Dress /    Real: T-shirt/top\n",
            "yhat: Ankle boot /    Real: Sneaker\n",
            "yhat: Shirt /    Real: T-shirt/top\n",
            "yhat: T-shirt/top /    Real: Dress\n",
            "yhat: Ankle boot /    Real: Sneaker\n",
            "yhat: Pullover /    Real: Coat\n",
            "yhat: Trouser /    Real: T-shirt/top\n",
            "yhat: Shirt /    Real: Coat\n",
            "yhat: Sneaker /    Real: Sandal\n",
            "yhat: Coat /    Real: Pullover\n",
            "yhat: Sneaker /    Real: Sandal\n",
            "yhat: Shirt /    Real: T-shirt/top\n",
            "yhat: Shirt /    Real: T-shirt/top\n",
            "yhat: T-shirt/top /    Real: Shirt\n",
            "yhat: Dress /    Real: Shirt\n",
            "yhat: Sneaker /    Real: Ankle boot\n",
            "yhat: Dress /    Real: Coat\n",
            "yhat: Coat /    Real: Pullover\n",
            "yhat: Coat /    Real: Pullover\n",
            "yhat: Shirt /    Real: Pullover\n",
            "yhat: Shirt /    Real: Coat\n",
            "yhat: Coat /    Real: Shirt\n",
            "yhat: Pullover /    Real: T-shirt/top\n",
            "yhat: Pullover /    Real: Coat\n",
            "yhat: Pullover /    Real: Coat\n",
            "yhat: Dress /    Real: Shirt\n",
            "yhat: Shirt /    Real: Pullover\n",
            "yhat: Ankle boot /    Real: Sneaker\n",
            "yhat: T-shirt/top /    Real: Pullover\n",
            "yhat: Shirt /    Real: Pullover\n",
            "yhat: Ankle boot /    Real: Sandal\n",
            "yhat: Shirt /    Real: Coat\n",
            "yhat: Coat /    Real: Dress\n",
            "yhat: Shirt /    Real: Pullover\n",
            "yhat: Shirt /    Real: Coat\n",
            "yhat: Coat /    Real: Pullover\n",
            "yhat: Shirt /    Real: T-shirt/top\n",
            "yhat: T-shirt/top /    Real: Shirt\n",
            "yhat: T-shirt/top /    Real: Shirt\n",
            "yhat: Coat /    Real: Pullover\n",
            "yhat: Shirt /    Real: Coat\n",
            "yhat: Shirt /    Real: Coat\n",
            "yhat: T-shirt/top /    Real: Dress\n",
            "yhat: Coat /    Real: Dress\n",
            "yhat: Coat /    Real: Shirt\n",
            "yhat: Shirt /    Real: Pullover\n",
            "yhat: T-shirt/top /    Real: Shirt\n",
            "yhat: Coat /    Real: Shirt\n",
            "yhat: Coat /    Real: Pullover\n",
            "yhat: Pullover /    Real: Shirt\n",
            "yhat: Sneaker /    Real: Ankle boot\n",
            "yhat: Coat /    Real: Pullover\n",
            "yhat: Coat /    Real: Pullover\n",
            "yhat: Pullover /    Real: Coat\n",
            "yhat: Coat /    Real: Pullover\n",
            "yhat: Coat /    Real: Pullover\n",
            "yhat: Sandal /    Real: Sneaker\n",
            "yhat: T-shirt/top /    Real: Dress\n",
            "yhat: T-shirt/top /    Real: Shirt\n",
            "yhat: Ankle boot /    Real: Sandal\n",
            "yhat: Sneaker /    Real: Ankle boot\n",
            "yhat: Pullover /    Real: Shirt\n",
            "yhat: Sneaker /    Real: Sandal\n",
            "yhat: Coat /    Real: Pullover\n",
            "yhat: Dress /    Real: Shirt\n",
            "yhat: Dress /    Real: Pullover\n",
            "yhat: T-shirt/top /    Real: Shirt\n",
            "yhat: Coat /    Real: Shirt\n",
            "yhat: T-shirt/top /    Real: Shirt\n",
            "yhat: T-shirt/top /    Real: Shirt\n",
            "yhat: T-shirt/top /    Real: Dress\n",
            "yhat: Shirt /    Real: Coat\n",
            "yhat: Shirt /    Real: Coat\n",
            "yhat: Shirt /    Real: Pullover\n",
            "yhat: Pullover /    Real: Shirt\n",
            "yhat: Sandal /    Real: Ankle boot\n",
            "yhat: T-shirt/top /    Real: Shirt\n",
            "yhat: Pullover /    Real: T-shirt/top\n",
            "yhat: Coat /    Real: Shirt\n",
            "yhat: Coat /    Real: Shirt\n",
            "yhat: Coat /    Real: Pullover\n",
            "yhat: Shirt /    Real: Pullover\n",
            "yhat: Shirt /    Real: Coat\n",
            "yhat: Pullover /    Real: Coat\n",
            "yhat: Trouser /    Real: Dress\n",
            "yhat: T-shirt/top /    Real: Shirt\n",
            "yhat: Coat /    Real: Pullover\n",
            "yhat: Pullover /    Real: Dress\n",
            "yhat: T-shirt/top /    Real: Shirt\n",
            "yhat: Coat /    Real: Shirt\n",
            "yhat: Dress /    Real: T-shirt/top\n",
            "yhat: Shirt /    Real: Pullover\n",
            "yhat: Coat /    Real: Dress\n",
            "yhat: T-shirt/top /    Real: Pullover\n",
            "yhat: Coat /    Real: Dress\n",
            "yhat: T-shirt/top /    Real: Shirt\n",
            "yhat: Coat /    Real: Pullover\n",
            "yhat: Pullover /    Real: Coat\n",
            "yhat: T-shirt/top /    Real: Pullover\n",
            "yhat: T-shirt/top /    Real: Shirt\n",
            "yhat: Ankle boot /    Real: Sandal\n",
            "yhat: Bag /    Real: Sneaker\n",
            "yhat: Coat /    Real: Shirt\n",
            "yhat: Shirt /    Real: Dress\n",
            "yhat: Dress /    Real: Trouser\n",
            "yhat: T-shirt/top /    Real: Shirt\n",
            "yhat: T-shirt/top /    Real: Dress\n",
            "yhat: Shirt /    Real: Dress\n",
            "yhat: T-shirt/top /    Real: Shirt\n",
            "yhat: Shirt /    Real: Coat\n",
            "yhat: Shirt /    Real: T-shirt/top\n",
            "yhat: Shirt /    Real: Pullover\n",
            "yhat: Shirt /    Real: Dress\n",
            "yhat: Pullover /    Real: Dress\n",
            "yhat: Coat /    Real: Dress\n",
            "yhat: Shirt /    Real: Pullover\n",
            "yhat: T-shirt/top /    Real: Shirt\n",
            "yhat: Sandal /    Real: Sneaker\n",
            "yhat: Ankle boot /    Real: Sneaker\n",
            "yhat: Coat /    Real: Dress\n",
            "yhat: Shirt /    Real: Coat\n",
            "yhat: Shirt /    Real: Pullover\n",
            "yhat: T-shirt/top /    Real: Shirt\n",
            "yhat: Ankle boot /    Real: Sneaker\n",
            "yhat: Ankle boot /    Real: Sneaker\n",
            "yhat: T-shirt/top /    Real: Shirt\n",
            "yhat: T-shirt/top /    Real: Shirt\n",
            "yhat: Sneaker /    Real: Sandal\n",
            "yhat: T-shirt/top /    Real: Shirt\n",
            "yhat: Shirt /    Real: T-shirt/top\n",
            "yhat: Shirt /    Real: T-shirt/top\n",
            "yhat: Trouser /    Real: Dress\n",
            "yhat: T-shirt/top /    Real: Shirt\n",
            "yhat: Shirt /    Real: T-shirt/top\n",
            "yhat: T-shirt/top /    Real: Shirt\n",
            "yhat: Coat /    Real: Trouser\n",
            "yhat: T-shirt/top /    Real: Shirt\n",
            "yhat: Coat /    Real: Pullover\n",
            "yhat: Sandal /    Real: Sneaker\n",
            "yhat: Bag /    Real: T-shirt/top\n",
            "yhat: Dress /    Real: Coat\n",
            "yhat: T-shirt/top /    Real: Shirt\n",
            "yhat: Sneaker /    Real: Ankle boot\n",
            "yhat: Coat /    Real: Dress\n",
            "yhat: Coat /    Real: Pullover\n",
            "yhat: T-shirt/top /    Real: Shirt\n",
            "yhat: Ankle boot /    Real: Sneaker\n",
            "yhat: Coat /    Real: Shirt\n",
            "yhat: Pullover /    Real: Shirt\n",
            "yhat: Coat /    Real: Dress\n",
            "yhat: Coat /    Real: Pullover\n",
            "yhat: Dress /    Real: T-shirt/top\n",
            "yhat: Coat /    Real: Shirt\n",
            "yhat: Coat /    Real: Pullover\n",
            "yhat: Coat /    Real: Shirt\n",
            "yhat: Coat /    Real: Pullover\n",
            "yhat: Shirt /    Real: T-shirt/top\n",
            "yhat: Shirt /    Real: Pullover\n",
            "yhat: Ankle boot /    Real: Sneaker\n",
            "yhat: Shirt /    Real: Pullover\n",
            "yhat: Dress /    Real: T-shirt/top\n",
            "yhat: T-shirt/top /    Real: Shirt\n",
            "yhat: Shirt /    Real: Pullover\n",
            "yhat: Dress /    Real: Coat\n",
            "yhat: Shirt /    Real: Pullover\n",
            "yhat: Shirt /    Real: Dress\n",
            "yhat: Coat /    Real: Pullover\n",
            "yhat: Shirt /    Real: T-shirt/top\n",
            "yhat: Coat /    Real: Pullover\n",
            "yhat: Dress /    Real: Trouser\n",
            "yhat: Shirt /    Real: Coat\n",
            "yhat: Pullover /    Real: Coat\n",
            "yhat: Ankle boot /    Real: Sandal\n",
            "yhat: T-shirt/top /    Real: Dress\n",
            "yhat: Coat /    Real: Pullover\n",
            "yhat: Shirt /    Real: Coat\n",
            "yhat: Shirt /    Real: T-shirt/top\n",
            "yhat: Coat /    Real: Pullover\n",
            "yhat: Pullover /    Real: Shirt\n",
            "yhat: Pullover /    Real: Coat\n",
            "yhat: Pullover /    Real: Coat\n",
            "yhat: Pullover /    Real: Trouser\n",
            "yhat: T-shirt/top /    Real: Shirt\n",
            "yhat: Coat /    Real: Pullover\n",
            "yhat: Coat /    Real: Shirt\n",
            "yhat: T-shirt/top /    Real: Dress\n",
            "yhat: Sneaker /    Real: Ankle boot\n",
            "yhat: Bag /    Real: Shirt\n",
            "yhat: Coat /    Real: Shirt\n",
            "yhat: T-shirt/top /    Real: Shirt\n",
            "yhat: T-shirt/top /    Real: Dress\n",
            "yhat: Coat /    Real: Shirt\n",
            "yhat: Pullover /    Real: Shirt\n",
            "yhat: Sneaker /    Real: Sandal\n",
            "yhat: Shirt /    Real: Coat\n",
            "yhat: Dress /    Real: T-shirt/top\n",
            "yhat: Coat /    Real: Dress\n",
            "yhat: Shirt /    Real: T-shirt/top\n",
            "yhat: Pullover /    Real: Shirt\n",
            "yhat: Coat /    Real: Shirt\n",
            "yhat: Dress /    Real: T-shirt/top\n",
            "yhat: Shirt /    Real: Coat\n",
            "yhat: Shirt /    Real: Pullover\n",
            "yhat: Shirt /    Real: T-shirt/top\n",
            "yhat: T-shirt/top /    Real: Shirt\n",
            "yhat: Coat /    Real: Pullover\n",
            "yhat: Shirt /    Real: T-shirt/top\n",
            "yhat: Shirt /    Real: Coat\n",
            "yhat: Shirt /    Real: Coat\n",
            "yhat: Sneaker /    Real: Sandal\n",
            "yhat: Shirt /    Real: Pullover\n",
            "yhat: Shirt /    Real: Coat\n",
            "yhat: Ankle boot /    Real: Sneaker\n",
            "yhat: Shirt /    Real: Coat\n",
            "yhat: Pullover /    Real: Shirt\n",
            "yhat: Sneaker /    Real: Ankle boot\n",
            "yhat: Sneaker /    Real: Sandal\n",
            "yhat: Pullover /    Real: Coat\n",
            "yhat: T-shirt/top /    Real: Shirt\n",
            "yhat: Sandal /    Real: Ankle boot\n",
            "yhat: Bag /    Real: Shirt\n",
            "yhat: Shirt /    Real: Coat\n",
            "yhat: T-shirt/top /    Real: Dress\n",
            "yhat: T-shirt/top /    Real: Shirt\n",
            "yhat: Shirt /    Real: Pullover\n",
            "yhat: T-shirt/top /    Real: Pullover\n",
            "yhat: Sneaker /    Real: Ankle boot\n",
            "yhat: T-shirt/top /    Real: Shirt\n",
            "yhat: Shirt /    Real: Pullover\n",
            "yhat: Trouser /    Real: Coat\n",
            "yhat: Coat /    Real: Dress\n",
            "yhat: T-shirt/top /    Real: Shirt\n",
            "yhat: T-shirt/top /    Real: Shirt\n",
            "yhat: T-shirt/top /    Real: Pullover\n",
            "yhat: Shirt /    Real: T-shirt/top\n",
            "yhat: T-shirt/top /    Real: Shirt\n",
            "yhat: Pullover /    Real: Shirt\n",
            "yhat: Coat /    Real: Dress\n",
            "yhat: Sandal /    Real: Bag\n",
            "yhat: Shirt /    Real: Pullover\n",
            "yhat: Sandal /    Real: Sneaker\n",
            "yhat: Shirt /    Real: T-shirt/top\n",
            "yhat: Coat /    Real: Pullover\n",
            "yhat: Shirt /    Real: Coat\n",
            "yhat: Shirt /    Real: T-shirt/top\n",
            "yhat: T-shirt/top /    Real: Shirt\n",
            "yhat: T-shirt/top /    Real: Shirt\n",
            "yhat: T-shirt/top /    Real: Shirt\n",
            "yhat: Coat /    Real: Pullover\n",
            "yhat: Ankle boot /    Real: Sneaker\n",
            "yhat: T-shirt/top /    Real: Trouser\n",
            "yhat: Coat /    Real: Pullover\n",
            "yhat: Dress /    Real: Shirt\n",
            "yhat: Bag /    Real: T-shirt/top\n",
            "yhat: Coat /    Real: Dress\n",
            "yhat: Shirt /    Real: Trouser\n",
            "yhat: Shirt /    Real: Pullover\n",
            "yhat: Shirt /    Real: T-shirt/top\n",
            "yhat: Coat /    Real: Shirt\n",
            "yhat: Shirt /    Real: Coat\n",
            "yhat: T-shirt/top /    Real: Dress\n",
            "yhat: Shirt /    Real: Coat\n",
            "yhat: Sandal /    Real: Ankle boot\n",
            "yhat: Dress /    Real: Coat\n",
            "yhat: Shirt /    Real: T-shirt/top\n",
            "yhat: Shirt /    Real: Coat\n",
            "yhat: T-shirt/top /    Real: Pullover\n",
            "yhat: Shirt /    Real: Pullover\n",
            "yhat: T-shirt/top /    Real: Dress\n",
            "yhat: T-shirt/top /    Real: Shirt\n",
            "yhat: T-shirt/top /    Real: Pullover\n",
            "yhat: Pullover /    Real: T-shirt/top\n",
            "yhat: Shirt /    Real: Coat\n",
            "yhat: T-shirt/top /    Real: Shirt\n",
            "yhat: Coat /    Real: Shirt\n",
            "yhat: Shirt /    Real: T-shirt/top\n",
            "yhat: Shirt /    Real: Pullover\n",
            "yhat: Sneaker /    Real: Ankle boot\n",
            "yhat: Pullover /    Real: Coat\n",
            "yhat: Ankle boot /    Real: Sneaker\n",
            "yhat: T-shirt/top /    Real: Shirt\n",
            "yhat: Shirt /    Real: T-shirt/top\n",
            "yhat: Dress /    Real: T-shirt/top\n",
            "yhat: Coat /    Real: Shirt\n",
            "yhat: Coat /    Real: Shirt\n",
            "yhat: Shirt /    Real: Coat\n",
            "yhat: Pullover /    Real: Shirt\n",
            "yhat: Trouser /    Real: Dress\n",
            "yhat: Pullover /    Real: Coat\n",
            "yhat: Shirt /    Real: Pullover\n",
            "yhat: Sneaker /    Real: Sandal\n",
            "yhat: Shirt /    Real: T-shirt/top\n",
            "yhat: T-shirt/top /    Real: Shirt\n",
            "yhat: Pullover /    Real: Shirt\n",
            "yhat: Dress /    Real: Trouser\n",
            "yhat: Shirt /    Real: T-shirt/top\n",
            "yhat: T-shirt/top /    Real: Shirt\n",
            "yhat: Sneaker /    Real: Sandal\n",
            "yhat: T-shirt/top /    Real: Shirt\n",
            "yhat: Bag /    Real: Shirt\n",
            "yhat: Pullover /    Real: Shirt\n",
            "yhat: Shirt /    Real: Pullover\n",
            "yhat: T-shirt/top /    Real: Dress\n",
            "yhat: Coat /    Real: Pullover\n",
            "yhat: Coat /    Real: Pullover\n",
            "yhat: T-shirt/top /    Real: Dress\n",
            "yhat: T-shirt/top /    Real: Shirt\n",
            "yhat: Bag /    Real: Shirt\n",
            "yhat: Shirt /    Real: T-shirt/top\n",
            "yhat: Dress /    Real: Shirt\n",
            "yhat: Dress /    Real: Shirt\n",
            "yhat: T-shirt/top /    Real: Shirt\n",
            "yhat: Bag /    Real: Shirt\n",
            "yhat: Pullover /    Real: T-shirt/top\n",
            "yhat: Pullover /    Real: Shirt\n",
            "yhat: Shirt /    Real: Pullover\n",
            "yhat: Coat /    Real: T-shirt/top\n",
            "yhat: Coat /    Real: Pullover\n",
            "yhat: Coat /    Real: Dress\n",
            "yhat: Coat /    Real: Pullover\n",
            "yhat: Shirt /    Real: Pullover\n",
            "yhat: Sneaker /    Real: Sandal\n",
            "yhat: Shirt /    Real: T-shirt/top\n",
            "yhat: T-shirt/top /    Real: Shirt\n",
            "yhat: Coat /    Real: Shirt\n",
            "yhat: Shirt /    Real: Pullover\n",
            "yhat: Shirt /    Real: Dress\n",
            "yhat: Coat /    Real: Pullover\n",
            "yhat: Shirt /    Real: T-shirt/top\n",
            "yhat: Dress /    Real: Shirt\n",
            "yhat: T-shirt/top /    Real: Shirt\n",
            "yhat: Sneaker /    Real: Ankle boot\n",
            "yhat: Shirt /    Real: Pullover\n",
            "yhat: Sneaker /    Real: Sandal\n",
            "yhat: Coat /    Real: Dress\n",
            "yhat: Shirt /    Real: T-shirt/top\n",
            "yhat: T-shirt/top /    Real: Shirt\n",
            "yhat: Coat /    Real: Pullover\n",
            "yhat: Coat /    Real: Shirt\n",
            "yhat: Coat /    Real: Pullover\n",
            "yhat: T-shirt/top /    Real: Shirt\n",
            "yhat: Coat /    Real: Pullover\n",
            "yhat: Coat /    Real: Trouser\n",
            "yhat: Coat /    Real: Shirt\n",
            "yhat: Dress /    Real: Shirt\n",
            "yhat: Dress /    Real: T-shirt/top\n",
            "yhat: Coat /    Real: Pullover\n",
            "yhat: T-shirt/top /    Real: Shirt\n",
            "yhat: Sandal /    Real: Ankle boot\n",
            "yhat: Sneaker /    Real: Bag\n",
            "yhat: Shirt /    Real: Pullover\n",
            "yhat: Coat /    Real: Pullover\n",
            "yhat: Coat /    Real: Pullover\n",
            "yhat: Shirt /    Real: Dress\n",
            "yhat: T-shirt/top /    Real: Shirt\n",
            "yhat: Shirt /    Real: Pullover\n",
            "yhat: Shirt /    Real: T-shirt/top\n",
            "yhat: T-shirt/top /    Real: Shirt\n",
            "yhat: Coat /    Real: Pullover\n",
            "yhat: T-shirt/top /    Real: Dress\n",
            "yhat: Pullover /    Real: Bag\n",
            "yhat: Coat /    Real: Pullover\n",
            "yhat: Dress /    Real: Shirt\n",
            "yhat: T-shirt/top /    Real: Shirt\n",
            "yhat: Shirt /    Real: Pullover\n",
            "yhat: T-shirt/top /    Real: Dress\n",
            "yhat: Pullover /    Real: Coat\n",
            "yhat: T-shirt/top /    Real: Shirt\n",
            "yhat: Shirt /    Real: T-shirt/top\n",
            "yhat: T-shirt/top /    Real: Shirt\n",
            "yhat: Dress /    Real: Trouser\n",
            "yhat: Shirt /    Real: T-shirt/top\n",
            "yhat: Shirt /    Real: Coat\n",
            "yhat: Coat /    Real: Shirt\n",
            "yhat: Pullover /    Real: Shirt\n",
            "yhat: Pullover /    Real: Shirt\n",
            "yhat: Dress /    Real: Shirt\n",
            "yhat: Shirt /    Real: Coat\n",
            "yhat: Coat /    Real: Pullover\n",
            "yhat: Dress /    Real: T-shirt/top\n",
            "yhat: Coat /    Real: Pullover\n",
            "yhat: Shirt /    Real: T-shirt/top\n",
            "yhat: Shirt /    Real: Pullover\n",
            "yhat: Ankle boot /    Real: Sandal\n",
            "yhat: Shirt /    Real: Pullover\n",
            "yhat: T-shirt/top /    Real: Shirt\n",
            "yhat: Shirt /    Real: T-shirt/top\n",
            "yhat: Sandal /    Real: Sneaker\n",
            "yhat: Dress /    Real: T-shirt/top\n",
            "yhat: Sneaker /    Real: Ankle boot\n",
            "yhat: Shirt /    Real: Pullover\n",
            "yhat: Bag /    Real: Shirt\n",
            "yhat: Trouser /    Real: Dress\n",
            "yhat: Ankle boot /    Real: Sandal\n",
            "yhat: Dress /    Real: T-shirt/top\n",
            "yhat: Shirt /    Real: T-shirt/top\n",
            "yhat: Coat /    Real: Shirt\n",
            "yhat: Ankle boot /    Real: Sneaker\n",
            "yhat: Shirt /    Real: Pullover\n",
            "yhat: Shirt /    Real: Pullover\n",
            "yhat: Pullover /    Real: Shirt\n",
            "yhat: Sneaker /    Real: Sandal\n",
            "yhat: Pullover /    Real: Shirt\n",
            "yhat: T-shirt/top /    Real: Shirt\n",
            "yhat: T-shirt/top /    Real: Shirt\n",
            "yhat: Pullover /    Real: Shirt\n",
            "yhat: T-shirt/top /    Real: Pullover\n",
            "yhat: T-shirt/top /    Real: Shirt\n",
            "yhat: T-shirt/top /    Real: Shirt\n",
            "1290\n"
          ]
        }
      ]
    },
    {
      "cell_type": "code",
      "source": [
        "\n",
        "import numpy as np\n",
        "\n",
        "\n",
        "arr = np.array([[3, 2],\n",
        "                [1, 6],\n",
        "                [5, 4],\n",
        "                [9, 7]])\n",
        "\n",
        "\n",
        "max_indices = np.argmax(arr, axis=0)\n",
        "\n",
        "print(\"배열:\")\n",
        "print(arr)\n",
        "print(\"각 행에서 최대값이 있는 열의 인덱스:\")\n",
        "print(max_indices)\n"
      ],
      "metadata": {
        "colab": {
          "base_uri": "https://localhost:8080/"
        },
        "id": "iPfmSI2RpUmr",
        "outputId": "63173c55-f8c7-4f1c-ef8f-6357d164f7ae"
      },
      "execution_count": 124,
      "outputs": [
        {
          "output_type": "stream",
          "name": "stdout",
          "text": [
            "배열:\n",
            "[[3 2]\n",
            " [1 6]\n",
            " [5 4]\n",
            " [9 7]]\n",
            "각 행에서 최대값이 있는 열의 인덱스:\n",
            "[3 3]\n"
          ]
        }
      ]
    }
  ]
}