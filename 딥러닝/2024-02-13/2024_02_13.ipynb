{
  "nbformat": 4,
  "nbformat_minor": 0,
  "metadata": {
    "colab": {
      "provenance": []
    },
    "kernelspec": {
      "name": "python3",
      "display_name": "Python 3"
    },
    "language_info": {
      "name": "python"
    },
    "accelerator": "TPU"
  },
  "cells": [
    {
      "cell_type": "code",
      "source": [
        "#### 데이터 준비\n",
        "import numpy as np\n",
        "x = np.array([1,2,1,1,1,2,2,1,1])\n",
        "y = np.array([100,200,100,50,10,20,20,10,10])\n",
        "len(x),len(y)"
      ],
      "metadata": {
        "colab": {
          "base_uri": "https://localhost:8080/"
        },
        "id": "YALqCrMLBPHe",
        "outputId": "a0b0e973-7c26-4e1a-e808-64fefc3359a0"
      },
      "execution_count": 5,
      "outputs": [
        {
          "output_type": "execute_result",
          "data": {
            "text/plain": [
              "(9, 9)"
            ]
          },
          "metadata": {},
          "execution_count": 5
        }
      ]
    },
    {
      "cell_type": "code",
      "execution_count": 9,
      "metadata": {
        "colab": {
          "base_uri": "https://localhost:8080/"
        },
        "id": "2ggCq85f09rT",
        "outputId": "f4ffd908-68af-4745-d779-dbe66be51e38"
      },
      "outputs": [
        {
          "output_type": "execute_result",
          "data": {
            "text/plain": [
              "(array([33.33333333]), 13.333333333333336)"
            ]
          },
          "metadata": {},
          "execution_count": 9
        }
      ],
      "source": [
        "from sklearn.linear_model import LinearRegression\n",
        "model=LinearRegression() # 추정기 함수 활성화\n",
        "model.fit(np.reshape(x,(-1,1)),y) # w,b가 생성\n",
        "model.coef_,model.intercept_  # w- coef_  ,   b-intercept_"
      ]
    },
    {
      "cell_type": "code",
      "source": [
        "newX=3\n",
        "newX=np.reshape(newX,(-1,1))\n",
        "newY=newX*model.coef_ + model.intercept_\n",
        "newY"
      ],
      "metadata": {
        "colab": {
          "base_uri": "https://localhost:8080/"
        },
        "id": "WOEp6Wu_Clle",
        "outputId": "9056c2be-b9c3-4237-ac2b-68cff50170d2"
      },
      "execution_count": 17,
      "outputs": [
        {
          "output_type": "execute_result",
          "data": {
            "text/plain": [
              "array([[113.33333333]])"
            ]
          },
          "metadata": {},
          "execution_count": 17
        }
      ]
    },
    {
      "cell_type": "code",
      "source": [
        "model.predict(newX)"
      ],
      "metadata": {
        "colab": {
          "base_uri": "https://localhost:8080/"
        },
        "id": "-4F-7F8jC1X4",
        "outputId": "8ab22591-9537-41d6-9f1e-55b5a4f8f82b"
      },
      "execution_count": 18,
      "outputs": [
        {
          "output_type": "execute_result",
          "data": {
            "text/plain": [
              "array([113.33333333])"
            ]
          },
          "metadata": {},
          "execution_count": 18
        }
      ]
    },
    {
      "cell_type": "code",
      "source": [
        "import pandas as pd\n",
        "from sklearn.preprocessing import OneHotEncoder\n",
        "from sklearn.compose import make_column_transformer\n",
        "from sklearn.linear_model import LogisticRegression # 사망 또는 생존 0,1 둘 중 한개 출력\n",
        "import numpy as np"
      ],
      "metadata": {
        "id": "FiQeeL2tTix-"
      },
      "execution_count": 20,
      "outputs": []
    },
    {
      "cell_type": "code",
      "source": [
        "##########데이터 로드\n",
        "\n",
        "train_df = pd.read_excel('https://github.com/cranberryai/todak_todak_python/blob/master/machine_learning/binary_classification/%E1%84%90%E1%85%A1%E1%84%8B%E1%85%B5%E1%84%90%E1%85%A1%E1%84%82%E1%85%B5%E1%86%A8_b0fdSDZ.xlsx?raw=true', sheet_name='train')\n",
        "test_df = pd.read_excel('https://github.com/cranberryai/todak_todak_python/blob/master/machine_learning/binary_classification/%E1%84%90%E1%85%A1%E1%84%8B%E1%85%B5%E1%84%90%E1%85%A1%E1%84%82%E1%85%B5%E1%86%A8_b0fdSDZ.xlsx?raw=true', sheet_name='test')"
      ],
      "metadata": {
        "id": "9ElMZZkKUEFe"
      },
      "execution_count": 21,
      "outputs": []
    },
    {
      "cell_type": "code",
      "source": [
        "train_df.head()"
      ],
      "metadata": {
        "colab": {
          "base_uri": "https://localhost:8080/",
          "height": 206
        },
        "id": "G1hVr4dTUF6X",
        "outputId": "827713c4-42d2-45f8-8d9e-a951fbc9d4b5"
      },
      "execution_count": 22,
      "outputs": [
        {
          "output_type": "execute_result",
          "data": {
            "text/plain": [
              "   pclass                            name     sex  age  sibsp  parch   ticket  \\\n",
              "0       2           Lehmann, Miss. Bertha  Female   17      0      0  SC 1748   \n",
              "1       3  Laitinen, Miss. Kristina Sofia  Female   37      0      0     4135   \n",
              "2       3     Rosblom, Mr. Viktor Richard    Male   18      1      1   370129   \n",
              "3       3               Karaic, Mr. Milan    Male   30      0      0   349246   \n",
              "4       3         Moen, Mr. Sigurd Hansen    Male   25      0      0   348123   \n",
              "\n",
              "    fare embarked  survival  \n",
              "0  12.00        C         1  \n",
              "1   9.59        S         0  \n",
              "2  20.21        S         0  \n",
              "3   7.90        S         0  \n",
              "4   7.65        S         0  "
            ],
            "text/html": [
              "\n",
              "  <div id=\"df-5960ef34-3160-4802-94cc-e92a5463b9d5\" class=\"colab-df-container\">\n",
              "    <div>\n",
              "<style scoped>\n",
              "    .dataframe tbody tr th:only-of-type {\n",
              "        vertical-align: middle;\n",
              "    }\n",
              "\n",
              "    .dataframe tbody tr th {\n",
              "        vertical-align: top;\n",
              "    }\n",
              "\n",
              "    .dataframe thead th {\n",
              "        text-align: right;\n",
              "    }\n",
              "</style>\n",
              "<table border=\"1\" class=\"dataframe\">\n",
              "  <thead>\n",
              "    <tr style=\"text-align: right;\">\n",
              "      <th></th>\n",
              "      <th>pclass</th>\n",
              "      <th>name</th>\n",
              "      <th>sex</th>\n",
              "      <th>age</th>\n",
              "      <th>sibsp</th>\n",
              "      <th>parch</th>\n",
              "      <th>ticket</th>\n",
              "      <th>fare</th>\n",
              "      <th>embarked</th>\n",
              "      <th>survival</th>\n",
              "    </tr>\n",
              "  </thead>\n",
              "  <tbody>\n",
              "    <tr>\n",
              "      <th>0</th>\n",
              "      <td>2</td>\n",
              "      <td>Lehmann, Miss. Bertha</td>\n",
              "      <td>Female</td>\n",
              "      <td>17</td>\n",
              "      <td>0</td>\n",
              "      <td>0</td>\n",
              "      <td>SC 1748</td>\n",
              "      <td>12.00</td>\n",
              "      <td>C</td>\n",
              "      <td>1</td>\n",
              "    </tr>\n",
              "    <tr>\n",
              "      <th>1</th>\n",
              "      <td>3</td>\n",
              "      <td>Laitinen, Miss. Kristina Sofia</td>\n",
              "      <td>Female</td>\n",
              "      <td>37</td>\n",
              "      <td>0</td>\n",
              "      <td>0</td>\n",
              "      <td>4135</td>\n",
              "      <td>9.59</td>\n",
              "      <td>S</td>\n",
              "      <td>0</td>\n",
              "    </tr>\n",
              "    <tr>\n",
              "      <th>2</th>\n",
              "      <td>3</td>\n",
              "      <td>Rosblom, Mr. Viktor Richard</td>\n",
              "      <td>Male</td>\n",
              "      <td>18</td>\n",
              "      <td>1</td>\n",
              "      <td>1</td>\n",
              "      <td>370129</td>\n",
              "      <td>20.21</td>\n",
              "      <td>S</td>\n",
              "      <td>0</td>\n",
              "    </tr>\n",
              "    <tr>\n",
              "      <th>3</th>\n",
              "      <td>3</td>\n",
              "      <td>Karaic, Mr. Milan</td>\n",
              "      <td>Male</td>\n",
              "      <td>30</td>\n",
              "      <td>0</td>\n",
              "      <td>0</td>\n",
              "      <td>349246</td>\n",
              "      <td>7.90</td>\n",
              "      <td>S</td>\n",
              "      <td>0</td>\n",
              "    </tr>\n",
              "    <tr>\n",
              "      <th>4</th>\n",
              "      <td>3</td>\n",
              "      <td>Moen, Mr. Sigurd Hansen</td>\n",
              "      <td>Male</td>\n",
              "      <td>25</td>\n",
              "      <td>0</td>\n",
              "      <td>0</td>\n",
              "      <td>348123</td>\n",
              "      <td>7.65</td>\n",
              "      <td>S</td>\n",
              "      <td>0</td>\n",
              "    </tr>\n",
              "  </tbody>\n",
              "</table>\n",
              "</div>\n",
              "    <div class=\"colab-df-buttons\">\n",
              "\n",
              "  <div class=\"colab-df-container\">\n",
              "    <button class=\"colab-df-convert\" onclick=\"convertToInteractive('df-5960ef34-3160-4802-94cc-e92a5463b9d5')\"\n",
              "            title=\"Convert this dataframe to an interactive table.\"\n",
              "            style=\"display:none;\">\n",
              "\n",
              "  <svg xmlns=\"http://www.w3.org/2000/svg\" height=\"24px\" viewBox=\"0 -960 960 960\">\n",
              "    <path d=\"M120-120v-720h720v720H120Zm60-500h600v-160H180v160Zm220 220h160v-160H400v160Zm0 220h160v-160H400v160ZM180-400h160v-160H180v160Zm440 0h160v-160H620v160ZM180-180h160v-160H180v160Zm440 0h160v-160H620v160Z\"/>\n",
              "  </svg>\n",
              "    </button>\n",
              "\n",
              "  <style>\n",
              "    .colab-df-container {\n",
              "      display:flex;\n",
              "      gap: 12px;\n",
              "    }\n",
              "\n",
              "    .colab-df-convert {\n",
              "      background-color: #E8F0FE;\n",
              "      border: none;\n",
              "      border-radius: 50%;\n",
              "      cursor: pointer;\n",
              "      display: none;\n",
              "      fill: #1967D2;\n",
              "      height: 32px;\n",
              "      padding: 0 0 0 0;\n",
              "      width: 32px;\n",
              "    }\n",
              "\n",
              "    .colab-df-convert:hover {\n",
              "      background-color: #E2EBFA;\n",
              "      box-shadow: 0px 1px 2px rgba(60, 64, 67, 0.3), 0px 1px 3px 1px rgba(60, 64, 67, 0.15);\n",
              "      fill: #174EA6;\n",
              "    }\n",
              "\n",
              "    .colab-df-buttons div {\n",
              "      margin-bottom: 4px;\n",
              "    }\n",
              "\n",
              "    [theme=dark] .colab-df-convert {\n",
              "      background-color: #3B4455;\n",
              "      fill: #D2E3FC;\n",
              "    }\n",
              "\n",
              "    [theme=dark] .colab-df-convert:hover {\n",
              "      background-color: #434B5C;\n",
              "      box-shadow: 0px 1px 3px 1px rgba(0, 0, 0, 0.15);\n",
              "      filter: drop-shadow(0px 1px 2px rgba(0, 0, 0, 0.3));\n",
              "      fill: #FFFFFF;\n",
              "    }\n",
              "  </style>\n",
              "\n",
              "    <script>\n",
              "      const buttonEl =\n",
              "        document.querySelector('#df-5960ef34-3160-4802-94cc-e92a5463b9d5 button.colab-df-convert');\n",
              "      buttonEl.style.display =\n",
              "        google.colab.kernel.accessAllowed ? 'block' : 'none';\n",
              "\n",
              "      async function convertToInteractive(key) {\n",
              "        const element = document.querySelector('#df-5960ef34-3160-4802-94cc-e92a5463b9d5');\n",
              "        const dataTable =\n",
              "          await google.colab.kernel.invokeFunction('convertToInteractive',\n",
              "                                                    [key], {});\n",
              "        if (!dataTable) return;\n",
              "\n",
              "        const docLinkHtml = 'Like what you see? Visit the ' +\n",
              "          '<a target=\"_blank\" href=https://colab.research.google.com/notebooks/data_table.ipynb>data table notebook</a>'\n",
              "          + ' to learn more about interactive tables.';\n",
              "        element.innerHTML = '';\n",
              "        dataTable['output_type'] = 'display_data';\n",
              "        await google.colab.output.renderOutput(dataTable, element);\n",
              "        const docLink = document.createElement('div');\n",
              "        docLink.innerHTML = docLinkHtml;\n",
              "        element.appendChild(docLink);\n",
              "      }\n",
              "    </script>\n",
              "  </div>\n",
              "\n",
              "\n",
              "<div id=\"df-223ac9e4-b892-45de-a154-cfc54ba434b2\">\n",
              "  <button class=\"colab-df-quickchart\" onclick=\"quickchart('df-223ac9e4-b892-45de-a154-cfc54ba434b2')\"\n",
              "            title=\"Suggest charts\"\n",
              "            style=\"display:none;\">\n",
              "\n",
              "<svg xmlns=\"http://www.w3.org/2000/svg\" height=\"24px\"viewBox=\"0 0 24 24\"\n",
              "     width=\"24px\">\n",
              "    <g>\n",
              "        <path d=\"M19 3H5c-1.1 0-2 .9-2 2v14c0 1.1.9 2 2 2h14c1.1 0 2-.9 2-2V5c0-1.1-.9-2-2-2zM9 17H7v-7h2v7zm4 0h-2V7h2v10zm4 0h-2v-4h2v4z\"/>\n",
              "    </g>\n",
              "</svg>\n",
              "  </button>\n",
              "\n",
              "<style>\n",
              "  .colab-df-quickchart {\n",
              "      --bg-color: #E8F0FE;\n",
              "      --fill-color: #1967D2;\n",
              "      --hover-bg-color: #E2EBFA;\n",
              "      --hover-fill-color: #174EA6;\n",
              "      --disabled-fill-color: #AAA;\n",
              "      --disabled-bg-color: #DDD;\n",
              "  }\n",
              "\n",
              "  [theme=dark] .colab-df-quickchart {\n",
              "      --bg-color: #3B4455;\n",
              "      --fill-color: #D2E3FC;\n",
              "      --hover-bg-color: #434B5C;\n",
              "      --hover-fill-color: #FFFFFF;\n",
              "      --disabled-bg-color: #3B4455;\n",
              "      --disabled-fill-color: #666;\n",
              "  }\n",
              "\n",
              "  .colab-df-quickchart {\n",
              "    background-color: var(--bg-color);\n",
              "    border: none;\n",
              "    border-radius: 50%;\n",
              "    cursor: pointer;\n",
              "    display: none;\n",
              "    fill: var(--fill-color);\n",
              "    height: 32px;\n",
              "    padding: 0;\n",
              "    width: 32px;\n",
              "  }\n",
              "\n",
              "  .colab-df-quickchart:hover {\n",
              "    background-color: var(--hover-bg-color);\n",
              "    box-shadow: 0 1px 2px rgba(60, 64, 67, 0.3), 0 1px 3px 1px rgba(60, 64, 67, 0.15);\n",
              "    fill: var(--button-hover-fill-color);\n",
              "  }\n",
              "\n",
              "  .colab-df-quickchart-complete:disabled,\n",
              "  .colab-df-quickchart-complete:disabled:hover {\n",
              "    background-color: var(--disabled-bg-color);\n",
              "    fill: var(--disabled-fill-color);\n",
              "    box-shadow: none;\n",
              "  }\n",
              "\n",
              "  .colab-df-spinner {\n",
              "    border: 2px solid var(--fill-color);\n",
              "    border-color: transparent;\n",
              "    border-bottom-color: var(--fill-color);\n",
              "    animation:\n",
              "      spin 1s steps(1) infinite;\n",
              "  }\n",
              "\n",
              "  @keyframes spin {\n",
              "    0% {\n",
              "      border-color: transparent;\n",
              "      border-bottom-color: var(--fill-color);\n",
              "      border-left-color: var(--fill-color);\n",
              "    }\n",
              "    20% {\n",
              "      border-color: transparent;\n",
              "      border-left-color: var(--fill-color);\n",
              "      border-top-color: var(--fill-color);\n",
              "    }\n",
              "    30% {\n",
              "      border-color: transparent;\n",
              "      border-left-color: var(--fill-color);\n",
              "      border-top-color: var(--fill-color);\n",
              "      border-right-color: var(--fill-color);\n",
              "    }\n",
              "    40% {\n",
              "      border-color: transparent;\n",
              "      border-right-color: var(--fill-color);\n",
              "      border-top-color: var(--fill-color);\n",
              "    }\n",
              "    60% {\n",
              "      border-color: transparent;\n",
              "      border-right-color: var(--fill-color);\n",
              "    }\n",
              "    80% {\n",
              "      border-color: transparent;\n",
              "      border-right-color: var(--fill-color);\n",
              "      border-bottom-color: var(--fill-color);\n",
              "    }\n",
              "    90% {\n",
              "      border-color: transparent;\n",
              "      border-bottom-color: var(--fill-color);\n",
              "    }\n",
              "  }\n",
              "</style>\n",
              "\n",
              "  <script>\n",
              "    async function quickchart(key) {\n",
              "      const quickchartButtonEl =\n",
              "        document.querySelector('#' + key + ' button');\n",
              "      quickchartButtonEl.disabled = true;  // To prevent multiple clicks.\n",
              "      quickchartButtonEl.classList.add('colab-df-spinner');\n",
              "      try {\n",
              "        const charts = await google.colab.kernel.invokeFunction(\n",
              "            'suggestCharts', [key], {});\n",
              "      } catch (error) {\n",
              "        console.error('Error during call to suggestCharts:', error);\n",
              "      }\n",
              "      quickchartButtonEl.classList.remove('colab-df-spinner');\n",
              "      quickchartButtonEl.classList.add('colab-df-quickchart-complete');\n",
              "    }\n",
              "    (() => {\n",
              "      let quickchartButtonEl =\n",
              "        document.querySelector('#df-223ac9e4-b892-45de-a154-cfc54ba434b2 button');\n",
              "      quickchartButtonEl.style.display =\n",
              "        google.colab.kernel.accessAllowed ? 'block' : 'none';\n",
              "    })();\n",
              "  </script>\n",
              "</div>\n",
              "\n",
              "    </div>\n",
              "  </div>\n"
            ]
          },
          "metadata": {},
          "execution_count": 22
        }
      ]
    },
    {
      "cell_type": "code",
      "source": [
        "test_df.head()"
      ],
      "metadata": {
        "colab": {
          "base_uri": "https://localhost:8080/",
          "height": 241
        },
        "id": "JCgK46kiUImP",
        "outputId": "15bab48d-4a84-4668-c6f3-923892ec2740"
      },
      "execution_count": 23,
      "outputs": [
        {
          "output_type": "execute_result",
          "data": {
            "text/plain": [
              "   pclass                                               name     sex  age  \\\n",
              "0       2               Phillips, Miss. Alice Frances Louisa  Female   21   \n",
              "1       3                                    Asim, Mr. Adola    Male   35   \n",
              "2       1                       Spedden, Mr. Frederic Oakley    Male   45   \n",
              "3       2                          Maybery, Mr. Frank Hubert    Male   40   \n",
              "4       1  Cornell, Mrs. Robert Clifford (Malvina Helen L...  Female   55   \n",
              "\n",
              "   sibsp  parch              ticket    fare embarked  survival  \n",
              "0      0      1         S.O./P.P. 2   21.00        S         1  \n",
              "1      0      0  SOTON/O.Q. 3101310    7.05        S         0  \n",
              "2      1      1               16966  134.50        C         1  \n",
              "3      0      0              239059   16.00        S         0  \n",
              "4      2      0               11770   25.70        S         1  "
            ],
            "text/html": [
              "\n",
              "  <div id=\"df-da6f2536-75bb-4972-a8d3-a3c216911d55\" class=\"colab-df-container\">\n",
              "    <div>\n",
              "<style scoped>\n",
              "    .dataframe tbody tr th:only-of-type {\n",
              "        vertical-align: middle;\n",
              "    }\n",
              "\n",
              "    .dataframe tbody tr th {\n",
              "        vertical-align: top;\n",
              "    }\n",
              "\n",
              "    .dataframe thead th {\n",
              "        text-align: right;\n",
              "    }\n",
              "</style>\n",
              "<table border=\"1\" class=\"dataframe\">\n",
              "  <thead>\n",
              "    <tr style=\"text-align: right;\">\n",
              "      <th></th>\n",
              "      <th>pclass</th>\n",
              "      <th>name</th>\n",
              "      <th>sex</th>\n",
              "      <th>age</th>\n",
              "      <th>sibsp</th>\n",
              "      <th>parch</th>\n",
              "      <th>ticket</th>\n",
              "      <th>fare</th>\n",
              "      <th>embarked</th>\n",
              "      <th>survival</th>\n",
              "    </tr>\n",
              "  </thead>\n",
              "  <tbody>\n",
              "    <tr>\n",
              "      <th>0</th>\n",
              "      <td>2</td>\n",
              "      <td>Phillips, Miss. Alice Frances Louisa</td>\n",
              "      <td>Female</td>\n",
              "      <td>21</td>\n",
              "      <td>0</td>\n",
              "      <td>1</td>\n",
              "      <td>S.O./P.P. 2</td>\n",
              "      <td>21.00</td>\n",
              "      <td>S</td>\n",
              "      <td>1</td>\n",
              "    </tr>\n",
              "    <tr>\n",
              "      <th>1</th>\n",
              "      <td>3</td>\n",
              "      <td>Asim, Mr. Adola</td>\n",
              "      <td>Male</td>\n",
              "      <td>35</td>\n",
              "      <td>0</td>\n",
              "      <td>0</td>\n",
              "      <td>SOTON/O.Q. 3101310</td>\n",
              "      <td>7.05</td>\n",
              "      <td>S</td>\n",
              "      <td>0</td>\n",
              "    </tr>\n",
              "    <tr>\n",
              "      <th>2</th>\n",
              "      <td>1</td>\n",
              "      <td>Spedden, Mr. Frederic Oakley</td>\n",
              "      <td>Male</td>\n",
              "      <td>45</td>\n",
              "      <td>1</td>\n",
              "      <td>1</td>\n",
              "      <td>16966</td>\n",
              "      <td>134.50</td>\n",
              "      <td>C</td>\n",
              "      <td>1</td>\n",
              "    </tr>\n",
              "    <tr>\n",
              "      <th>3</th>\n",
              "      <td>2</td>\n",
              "      <td>Maybery, Mr. Frank Hubert</td>\n",
              "      <td>Male</td>\n",
              "      <td>40</td>\n",
              "      <td>0</td>\n",
              "      <td>0</td>\n",
              "      <td>239059</td>\n",
              "      <td>16.00</td>\n",
              "      <td>S</td>\n",
              "      <td>0</td>\n",
              "    </tr>\n",
              "    <tr>\n",
              "      <th>4</th>\n",
              "      <td>1</td>\n",
              "      <td>Cornell, Mrs. Robert Clifford (Malvina Helen L...</td>\n",
              "      <td>Female</td>\n",
              "      <td>55</td>\n",
              "      <td>2</td>\n",
              "      <td>0</td>\n",
              "      <td>11770</td>\n",
              "      <td>25.70</td>\n",
              "      <td>S</td>\n",
              "      <td>1</td>\n",
              "    </tr>\n",
              "  </tbody>\n",
              "</table>\n",
              "</div>\n",
              "    <div class=\"colab-df-buttons\">\n",
              "\n",
              "  <div class=\"colab-df-container\">\n",
              "    <button class=\"colab-df-convert\" onclick=\"convertToInteractive('df-da6f2536-75bb-4972-a8d3-a3c216911d55')\"\n",
              "            title=\"Convert this dataframe to an interactive table.\"\n",
              "            style=\"display:none;\">\n",
              "\n",
              "  <svg xmlns=\"http://www.w3.org/2000/svg\" height=\"24px\" viewBox=\"0 -960 960 960\">\n",
              "    <path d=\"M120-120v-720h720v720H120Zm60-500h600v-160H180v160Zm220 220h160v-160H400v160Zm0 220h160v-160H400v160ZM180-400h160v-160H180v160Zm440 0h160v-160H620v160ZM180-180h160v-160H180v160Zm440 0h160v-160H620v160Z\"/>\n",
              "  </svg>\n",
              "    </button>\n",
              "\n",
              "  <style>\n",
              "    .colab-df-container {\n",
              "      display:flex;\n",
              "      gap: 12px;\n",
              "    }\n",
              "\n",
              "    .colab-df-convert {\n",
              "      background-color: #E8F0FE;\n",
              "      border: none;\n",
              "      border-radius: 50%;\n",
              "      cursor: pointer;\n",
              "      display: none;\n",
              "      fill: #1967D2;\n",
              "      height: 32px;\n",
              "      padding: 0 0 0 0;\n",
              "      width: 32px;\n",
              "    }\n",
              "\n",
              "    .colab-df-convert:hover {\n",
              "      background-color: #E2EBFA;\n",
              "      box-shadow: 0px 1px 2px rgba(60, 64, 67, 0.3), 0px 1px 3px 1px rgba(60, 64, 67, 0.15);\n",
              "      fill: #174EA6;\n",
              "    }\n",
              "\n",
              "    .colab-df-buttons div {\n",
              "      margin-bottom: 4px;\n",
              "    }\n",
              "\n",
              "    [theme=dark] .colab-df-convert {\n",
              "      background-color: #3B4455;\n",
              "      fill: #D2E3FC;\n",
              "    }\n",
              "\n",
              "    [theme=dark] .colab-df-convert:hover {\n",
              "      background-color: #434B5C;\n",
              "      box-shadow: 0px 1px 3px 1px rgba(0, 0, 0, 0.15);\n",
              "      filter: drop-shadow(0px 1px 2px rgba(0, 0, 0, 0.3));\n",
              "      fill: #FFFFFF;\n",
              "    }\n",
              "  </style>\n",
              "\n",
              "    <script>\n",
              "      const buttonEl =\n",
              "        document.querySelector('#df-da6f2536-75bb-4972-a8d3-a3c216911d55 button.colab-df-convert');\n",
              "      buttonEl.style.display =\n",
              "        google.colab.kernel.accessAllowed ? 'block' : 'none';\n",
              "\n",
              "      async function convertToInteractive(key) {\n",
              "        const element = document.querySelector('#df-da6f2536-75bb-4972-a8d3-a3c216911d55');\n",
              "        const dataTable =\n",
              "          await google.colab.kernel.invokeFunction('convertToInteractive',\n",
              "                                                    [key], {});\n",
              "        if (!dataTable) return;\n",
              "\n",
              "        const docLinkHtml = 'Like what you see? Visit the ' +\n",
              "          '<a target=\"_blank\" href=https://colab.research.google.com/notebooks/data_table.ipynb>data table notebook</a>'\n",
              "          + ' to learn more about interactive tables.';\n",
              "        element.innerHTML = '';\n",
              "        dataTable['output_type'] = 'display_data';\n",
              "        await google.colab.output.renderOutput(dataTable, element);\n",
              "        const docLink = document.createElement('div');\n",
              "        docLink.innerHTML = docLinkHtml;\n",
              "        element.appendChild(docLink);\n",
              "      }\n",
              "    </script>\n",
              "  </div>\n",
              "\n",
              "\n",
              "<div id=\"df-f8f79ac7-48f3-4923-9135-974eb0c1ba8e\">\n",
              "  <button class=\"colab-df-quickchart\" onclick=\"quickchart('df-f8f79ac7-48f3-4923-9135-974eb0c1ba8e')\"\n",
              "            title=\"Suggest charts\"\n",
              "            style=\"display:none;\">\n",
              "\n",
              "<svg xmlns=\"http://www.w3.org/2000/svg\" height=\"24px\"viewBox=\"0 0 24 24\"\n",
              "     width=\"24px\">\n",
              "    <g>\n",
              "        <path d=\"M19 3H5c-1.1 0-2 .9-2 2v14c0 1.1.9 2 2 2h14c1.1 0 2-.9 2-2V5c0-1.1-.9-2-2-2zM9 17H7v-7h2v7zm4 0h-2V7h2v10zm4 0h-2v-4h2v4z\"/>\n",
              "    </g>\n",
              "</svg>\n",
              "  </button>\n",
              "\n",
              "<style>\n",
              "  .colab-df-quickchart {\n",
              "      --bg-color: #E8F0FE;\n",
              "      --fill-color: #1967D2;\n",
              "      --hover-bg-color: #E2EBFA;\n",
              "      --hover-fill-color: #174EA6;\n",
              "      --disabled-fill-color: #AAA;\n",
              "      --disabled-bg-color: #DDD;\n",
              "  }\n",
              "\n",
              "  [theme=dark] .colab-df-quickchart {\n",
              "      --bg-color: #3B4455;\n",
              "      --fill-color: #D2E3FC;\n",
              "      --hover-bg-color: #434B5C;\n",
              "      --hover-fill-color: #FFFFFF;\n",
              "      --disabled-bg-color: #3B4455;\n",
              "      --disabled-fill-color: #666;\n",
              "  }\n",
              "\n",
              "  .colab-df-quickchart {\n",
              "    background-color: var(--bg-color);\n",
              "    border: none;\n",
              "    border-radius: 50%;\n",
              "    cursor: pointer;\n",
              "    display: none;\n",
              "    fill: var(--fill-color);\n",
              "    height: 32px;\n",
              "    padding: 0;\n",
              "    width: 32px;\n",
              "  }\n",
              "\n",
              "  .colab-df-quickchart:hover {\n",
              "    background-color: var(--hover-bg-color);\n",
              "    box-shadow: 0 1px 2px rgba(60, 64, 67, 0.3), 0 1px 3px 1px rgba(60, 64, 67, 0.15);\n",
              "    fill: var(--button-hover-fill-color);\n",
              "  }\n",
              "\n",
              "  .colab-df-quickchart-complete:disabled,\n",
              "  .colab-df-quickchart-complete:disabled:hover {\n",
              "    background-color: var(--disabled-bg-color);\n",
              "    fill: var(--disabled-fill-color);\n",
              "    box-shadow: none;\n",
              "  }\n",
              "\n",
              "  .colab-df-spinner {\n",
              "    border: 2px solid var(--fill-color);\n",
              "    border-color: transparent;\n",
              "    border-bottom-color: var(--fill-color);\n",
              "    animation:\n",
              "      spin 1s steps(1) infinite;\n",
              "  }\n",
              "\n",
              "  @keyframes spin {\n",
              "    0% {\n",
              "      border-color: transparent;\n",
              "      border-bottom-color: var(--fill-color);\n",
              "      border-left-color: var(--fill-color);\n",
              "    }\n",
              "    20% {\n",
              "      border-color: transparent;\n",
              "      border-left-color: var(--fill-color);\n",
              "      border-top-color: var(--fill-color);\n",
              "    }\n",
              "    30% {\n",
              "      border-color: transparent;\n",
              "      border-left-color: var(--fill-color);\n",
              "      border-top-color: var(--fill-color);\n",
              "      border-right-color: var(--fill-color);\n",
              "    }\n",
              "    40% {\n",
              "      border-color: transparent;\n",
              "      border-right-color: var(--fill-color);\n",
              "      border-top-color: var(--fill-color);\n",
              "    }\n",
              "    60% {\n",
              "      border-color: transparent;\n",
              "      border-right-color: var(--fill-color);\n",
              "    }\n",
              "    80% {\n",
              "      border-color: transparent;\n",
              "      border-right-color: var(--fill-color);\n",
              "      border-bottom-color: var(--fill-color);\n",
              "    }\n",
              "    90% {\n",
              "      border-color: transparent;\n",
              "      border-bottom-color: var(--fill-color);\n",
              "    }\n",
              "  }\n",
              "</style>\n",
              "\n",
              "  <script>\n",
              "    async function quickchart(key) {\n",
              "      const quickchartButtonEl =\n",
              "        document.querySelector('#' + key + ' button');\n",
              "      quickchartButtonEl.disabled = true;  // To prevent multiple clicks.\n",
              "      quickchartButtonEl.classList.add('colab-df-spinner');\n",
              "      try {\n",
              "        const charts = await google.colab.kernel.invokeFunction(\n",
              "            'suggestCharts', [key], {});\n",
              "      } catch (error) {\n",
              "        console.error('Error during call to suggestCharts:', error);\n",
              "      }\n",
              "      quickchartButtonEl.classList.remove('colab-df-spinner');\n",
              "      quickchartButtonEl.classList.add('colab-df-quickchart-complete');\n",
              "    }\n",
              "    (() => {\n",
              "      let quickchartButtonEl =\n",
              "        document.querySelector('#df-f8f79ac7-48f3-4923-9135-974eb0c1ba8e button');\n",
              "      quickchartButtonEl.style.display =\n",
              "        google.colab.kernel.accessAllowed ? 'block' : 'none';\n",
              "    })();\n",
              "  </script>\n",
              "</div>\n",
              "\n",
              "    </div>\n",
              "  </div>\n"
            ]
          },
          "metadata": {},
          "execution_count": 23
        }
      ]
    },
    {
      "cell_type": "code",
      "source": [
        "labels = ['사망', '생존'] #  0 , 1"
      ],
      "metadata": {
        "id": "1tizbaQdURSW"
      },
      "execution_count": 24,
      "outputs": []
    },
    {
      "cell_type": "code",
      "source": [
        "# EDA 후에 아래 작업을 실행\n",
        "\n",
        "##########데이터 전처리\n",
        "\n",
        "x_train = train_df.drop(['name', 'ticket', 'survival'], axis=1)\n",
        "x_test = test_df.drop(['name', 'ticket', 'survival'], axis=1)\n",
        "y_train = train_df['survival']\n",
        "y_test = test_df['survival']"
      ],
      "metadata": {
        "id": "mp7Hu4MLUUpw"
      },
      "execution_count": 25,
      "outputs": []
    },
    {
      "cell_type": "code",
      "source": [
        "x_train.head()"
      ],
      "metadata": {
        "colab": {
          "base_uri": "https://localhost:8080/",
          "height": 206
        },
        "id": "5wRNA8MQUe35",
        "outputId": "a7964e2c-4890-43a4-d4c8-1b4f3e2e57bd"
      },
      "execution_count": 27,
      "outputs": [
        {
          "output_type": "execute_result",
          "data": {
            "text/plain": [
              "   pclass     sex  age  sibsp  parch   fare embarked\n",
              "0       2  Female   17      0      0  12.00        C\n",
              "1       3  Female   37      0      0   9.59        S\n",
              "2       3    Male   18      1      1  20.21        S\n",
              "3       3    Male   30      0      0   7.90        S\n",
              "4       3    Male   25      0      0   7.65        S"
            ],
            "text/html": [
              "\n",
              "  <div id=\"df-78fda674-32b0-4c64-8e00-90a26a65a0ae\" class=\"colab-df-container\">\n",
              "    <div>\n",
              "<style scoped>\n",
              "    .dataframe tbody tr th:only-of-type {\n",
              "        vertical-align: middle;\n",
              "    }\n",
              "\n",
              "    .dataframe tbody tr th {\n",
              "        vertical-align: top;\n",
              "    }\n",
              "\n",
              "    .dataframe thead th {\n",
              "        text-align: right;\n",
              "    }\n",
              "</style>\n",
              "<table border=\"1\" class=\"dataframe\">\n",
              "  <thead>\n",
              "    <tr style=\"text-align: right;\">\n",
              "      <th></th>\n",
              "      <th>pclass</th>\n",
              "      <th>sex</th>\n",
              "      <th>age</th>\n",
              "      <th>sibsp</th>\n",
              "      <th>parch</th>\n",
              "      <th>fare</th>\n",
              "      <th>embarked</th>\n",
              "    </tr>\n",
              "  </thead>\n",
              "  <tbody>\n",
              "    <tr>\n",
              "      <th>0</th>\n",
              "      <td>2</td>\n",
              "      <td>Female</td>\n",
              "      <td>17</td>\n",
              "      <td>0</td>\n",
              "      <td>0</td>\n",
              "      <td>12.00</td>\n",
              "      <td>C</td>\n",
              "    </tr>\n",
              "    <tr>\n",
              "      <th>1</th>\n",
              "      <td>3</td>\n",
              "      <td>Female</td>\n",
              "      <td>37</td>\n",
              "      <td>0</td>\n",
              "      <td>0</td>\n",
              "      <td>9.59</td>\n",
              "      <td>S</td>\n",
              "    </tr>\n",
              "    <tr>\n",
              "      <th>2</th>\n",
              "      <td>3</td>\n",
              "      <td>Male</td>\n",
              "      <td>18</td>\n",
              "      <td>1</td>\n",
              "      <td>1</td>\n",
              "      <td>20.21</td>\n",
              "      <td>S</td>\n",
              "    </tr>\n",
              "    <tr>\n",
              "      <th>3</th>\n",
              "      <td>3</td>\n",
              "      <td>Male</td>\n",
              "      <td>30</td>\n",
              "      <td>0</td>\n",
              "      <td>0</td>\n",
              "      <td>7.90</td>\n",
              "      <td>S</td>\n",
              "    </tr>\n",
              "    <tr>\n",
              "      <th>4</th>\n",
              "      <td>3</td>\n",
              "      <td>Male</td>\n",
              "      <td>25</td>\n",
              "      <td>0</td>\n",
              "      <td>0</td>\n",
              "      <td>7.65</td>\n",
              "      <td>S</td>\n",
              "    </tr>\n",
              "  </tbody>\n",
              "</table>\n",
              "</div>\n",
              "    <div class=\"colab-df-buttons\">\n",
              "\n",
              "  <div class=\"colab-df-container\">\n",
              "    <button class=\"colab-df-convert\" onclick=\"convertToInteractive('df-78fda674-32b0-4c64-8e00-90a26a65a0ae')\"\n",
              "            title=\"Convert this dataframe to an interactive table.\"\n",
              "            style=\"display:none;\">\n",
              "\n",
              "  <svg xmlns=\"http://www.w3.org/2000/svg\" height=\"24px\" viewBox=\"0 -960 960 960\">\n",
              "    <path d=\"M120-120v-720h720v720H120Zm60-500h600v-160H180v160Zm220 220h160v-160H400v160Zm0 220h160v-160H400v160ZM180-400h160v-160H180v160Zm440 0h160v-160H620v160ZM180-180h160v-160H180v160Zm440 0h160v-160H620v160Z\"/>\n",
              "  </svg>\n",
              "    </button>\n",
              "\n",
              "  <style>\n",
              "    .colab-df-container {\n",
              "      display:flex;\n",
              "      gap: 12px;\n",
              "    }\n",
              "\n",
              "    .colab-df-convert {\n",
              "      background-color: #E8F0FE;\n",
              "      border: none;\n",
              "      border-radius: 50%;\n",
              "      cursor: pointer;\n",
              "      display: none;\n",
              "      fill: #1967D2;\n",
              "      height: 32px;\n",
              "      padding: 0 0 0 0;\n",
              "      width: 32px;\n",
              "    }\n",
              "\n",
              "    .colab-df-convert:hover {\n",
              "      background-color: #E2EBFA;\n",
              "      box-shadow: 0px 1px 2px rgba(60, 64, 67, 0.3), 0px 1px 3px 1px rgba(60, 64, 67, 0.15);\n",
              "      fill: #174EA6;\n",
              "    }\n",
              "\n",
              "    .colab-df-buttons div {\n",
              "      margin-bottom: 4px;\n",
              "    }\n",
              "\n",
              "    [theme=dark] .colab-df-convert {\n",
              "      background-color: #3B4455;\n",
              "      fill: #D2E3FC;\n",
              "    }\n",
              "\n",
              "    [theme=dark] .colab-df-convert:hover {\n",
              "      background-color: #434B5C;\n",
              "      box-shadow: 0px 1px 3px 1px rgba(0, 0, 0, 0.15);\n",
              "      filter: drop-shadow(0px 1px 2px rgba(0, 0, 0, 0.3));\n",
              "      fill: #FFFFFF;\n",
              "    }\n",
              "  </style>\n",
              "\n",
              "    <script>\n",
              "      const buttonEl =\n",
              "        document.querySelector('#df-78fda674-32b0-4c64-8e00-90a26a65a0ae button.colab-df-convert');\n",
              "      buttonEl.style.display =\n",
              "        google.colab.kernel.accessAllowed ? 'block' : 'none';\n",
              "\n",
              "      async function convertToInteractive(key) {\n",
              "        const element = document.querySelector('#df-78fda674-32b0-4c64-8e00-90a26a65a0ae');\n",
              "        const dataTable =\n",
              "          await google.colab.kernel.invokeFunction('convertToInteractive',\n",
              "                                                    [key], {});\n",
              "        if (!dataTable) return;\n",
              "\n",
              "        const docLinkHtml = 'Like what you see? Visit the ' +\n",
              "          '<a target=\"_blank\" href=https://colab.research.google.com/notebooks/data_table.ipynb>data table notebook</a>'\n",
              "          + ' to learn more about interactive tables.';\n",
              "        element.innerHTML = '';\n",
              "        dataTable['output_type'] = 'display_data';\n",
              "        await google.colab.output.renderOutput(dataTable, element);\n",
              "        const docLink = document.createElement('div');\n",
              "        docLink.innerHTML = docLinkHtml;\n",
              "        element.appendChild(docLink);\n",
              "      }\n",
              "    </script>\n",
              "  </div>\n",
              "\n",
              "\n",
              "<div id=\"df-c68fe146-d818-4ba8-aeda-c8c357ded587\">\n",
              "  <button class=\"colab-df-quickchart\" onclick=\"quickchart('df-c68fe146-d818-4ba8-aeda-c8c357ded587')\"\n",
              "            title=\"Suggest charts\"\n",
              "            style=\"display:none;\">\n",
              "\n",
              "<svg xmlns=\"http://www.w3.org/2000/svg\" height=\"24px\"viewBox=\"0 0 24 24\"\n",
              "     width=\"24px\">\n",
              "    <g>\n",
              "        <path d=\"M19 3H5c-1.1 0-2 .9-2 2v14c0 1.1.9 2 2 2h14c1.1 0 2-.9 2-2V5c0-1.1-.9-2-2-2zM9 17H7v-7h2v7zm4 0h-2V7h2v10zm4 0h-2v-4h2v4z\"/>\n",
              "    </g>\n",
              "</svg>\n",
              "  </button>\n",
              "\n",
              "<style>\n",
              "  .colab-df-quickchart {\n",
              "      --bg-color: #E8F0FE;\n",
              "      --fill-color: #1967D2;\n",
              "      --hover-bg-color: #E2EBFA;\n",
              "      --hover-fill-color: #174EA6;\n",
              "      --disabled-fill-color: #AAA;\n",
              "      --disabled-bg-color: #DDD;\n",
              "  }\n",
              "\n",
              "  [theme=dark] .colab-df-quickchart {\n",
              "      --bg-color: #3B4455;\n",
              "      --fill-color: #D2E3FC;\n",
              "      --hover-bg-color: #434B5C;\n",
              "      --hover-fill-color: #FFFFFF;\n",
              "      --disabled-bg-color: #3B4455;\n",
              "      --disabled-fill-color: #666;\n",
              "  }\n",
              "\n",
              "  .colab-df-quickchart {\n",
              "    background-color: var(--bg-color);\n",
              "    border: none;\n",
              "    border-radius: 50%;\n",
              "    cursor: pointer;\n",
              "    display: none;\n",
              "    fill: var(--fill-color);\n",
              "    height: 32px;\n",
              "    padding: 0;\n",
              "    width: 32px;\n",
              "  }\n",
              "\n",
              "  .colab-df-quickchart:hover {\n",
              "    background-color: var(--hover-bg-color);\n",
              "    box-shadow: 0 1px 2px rgba(60, 64, 67, 0.3), 0 1px 3px 1px rgba(60, 64, 67, 0.15);\n",
              "    fill: var(--button-hover-fill-color);\n",
              "  }\n",
              "\n",
              "  .colab-df-quickchart-complete:disabled,\n",
              "  .colab-df-quickchart-complete:disabled:hover {\n",
              "    background-color: var(--disabled-bg-color);\n",
              "    fill: var(--disabled-fill-color);\n",
              "    box-shadow: none;\n",
              "  }\n",
              "\n",
              "  .colab-df-spinner {\n",
              "    border: 2px solid var(--fill-color);\n",
              "    border-color: transparent;\n",
              "    border-bottom-color: var(--fill-color);\n",
              "    animation:\n",
              "      spin 1s steps(1) infinite;\n",
              "  }\n",
              "\n",
              "  @keyframes spin {\n",
              "    0% {\n",
              "      border-color: transparent;\n",
              "      border-bottom-color: var(--fill-color);\n",
              "      border-left-color: var(--fill-color);\n",
              "    }\n",
              "    20% {\n",
              "      border-color: transparent;\n",
              "      border-left-color: var(--fill-color);\n",
              "      border-top-color: var(--fill-color);\n",
              "    }\n",
              "    30% {\n",
              "      border-color: transparent;\n",
              "      border-left-color: var(--fill-color);\n",
              "      border-top-color: var(--fill-color);\n",
              "      border-right-color: var(--fill-color);\n",
              "    }\n",
              "    40% {\n",
              "      border-color: transparent;\n",
              "      border-right-color: var(--fill-color);\n",
              "      border-top-color: var(--fill-color);\n",
              "    }\n",
              "    60% {\n",
              "      border-color: transparent;\n",
              "      border-right-color: var(--fill-color);\n",
              "    }\n",
              "    80% {\n",
              "      border-color: transparent;\n",
              "      border-right-color: var(--fill-color);\n",
              "      border-bottom-color: var(--fill-color);\n",
              "    }\n",
              "    90% {\n",
              "      border-color: transparent;\n",
              "      border-bottom-color: var(--fill-color);\n",
              "    }\n",
              "  }\n",
              "</style>\n",
              "\n",
              "  <script>\n",
              "    async function quickchart(key) {\n",
              "      const quickchartButtonEl =\n",
              "        document.querySelector('#' + key + ' button');\n",
              "      quickchartButtonEl.disabled = true;  // To prevent multiple clicks.\n",
              "      quickchartButtonEl.classList.add('colab-df-spinner');\n",
              "      try {\n",
              "        const charts = await google.colab.kernel.invokeFunction(\n",
              "            'suggestCharts', [key], {});\n",
              "      } catch (error) {\n",
              "        console.error('Error during call to suggestCharts:', error);\n",
              "      }\n",
              "      quickchartButtonEl.classList.remove('colab-df-spinner');\n",
              "      quickchartButtonEl.classList.add('colab-df-quickchart-complete');\n",
              "    }\n",
              "    (() => {\n",
              "      let quickchartButtonEl =\n",
              "        document.querySelector('#df-c68fe146-d818-4ba8-aeda-c8c357ded587 button');\n",
              "      quickchartButtonEl.style.display =\n",
              "        google.colab.kernel.accessAllowed ? 'block' : 'none';\n",
              "    })();\n",
              "  </script>\n",
              "</div>\n",
              "\n",
              "    </div>\n",
              "  </div>\n"
            ]
          },
          "metadata": {},
          "execution_count": 27
        }
      ]
    },
    {
      "cell_type": "code",
      "source": [
        "# 머신러닝에 들어가는 x데이터는 문자데이터는 안됨\n",
        "# 벡터 데이터야 함.\n",
        "# 성별의 경우에는 Male = 0 , Female = 1\n",
        "# embarked는 0,1,2,3,.....로 줬을때 이 값이 순서대로 값의 크기가 의미가 있는가를 고민\n",
        "# 문자를 단순하게 숫자 0,1,2,3.... 로 작성을 하지 않음. -> 원핫인코딩 작업을 진행.\n",
        "# x 데이터는 더미변수화, y변수는 원 핫 인코딩\n"
      ],
      "metadata": {
        "id": "aWTuSPIPUp43"
      },
      "execution_count": null,
      "outputs": []
    },
    {
      "cell_type": "code",
      "source": [
        "transformer = make_column_transformer(\n",
        "    (OneHotEncoder(), ['pclass', 'sex', 'embarked']),\n",
        "    remainder='passthrough')\n",
        "transformer.fit(x_train)\n",
        "x_train = transformer.transform(x_train)\n",
        "x_test = transformer.transform(x_test)\n"
      ],
      "metadata": {
        "id": "6bNcUeQEWY-g"
      },
      "execution_count": 28,
      "outputs": []
    },
    {
      "cell_type": "code",
      "source": [
        "x_train[0]"
      ],
      "metadata": {
        "colab": {
          "base_uri": "https://localhost:8080/"
        },
        "id": "zZQ9J8ULWbD0",
        "outputId": "102dd549-0527-46ee-ffe4-78adc3ad1002"
      },
      "execution_count": 30,
      "outputs": [
        {
          "output_type": "execute_result",
          "data": {
            "text/plain": [
              "array([ 0.,  1.,  0.,  1.,  0.,  1.,  0.,  0., 17.,  0.,  0., 12.])"
            ]
          },
          "metadata": {},
          "execution_count": 30
        }
      ]
    },
    {
      "cell_type": "code",
      "source": [
        "##########모델 생성\n",
        "\n",
        "model = LogisticRegression()\n",
        "\n",
        "##########모델 학습\n",
        "\n",
        "model.fit(x_train, y_train)\n",
        "\n",
        "##########모델 검증\n",
        "\n",
        "print(model.score(x_train, y_train)) #\n",
        "\n",
        "print(model.score(x_test, y_test)) #"
      ],
      "metadata": {
        "colab": {
          "base_uri": "https://localhost:8080/"
        },
        "id": "TDQeklpuXN2A",
        "outputId": "3b449e68-1b01-4ac6-827e-446f10ebc061"
      },
      "execution_count": 39,
      "outputs": [
        {
          "output_type": "stream",
          "name": "stdout",
          "text": [
            "0.7945205479452054\n",
            "0.7763578274760383\n"
          ]
        },
        {
          "output_type": "stream",
          "name": "stderr",
          "text": [
            "/usr/local/lib/python3.10/dist-packages/sklearn/linear_model/_logistic.py:458: ConvergenceWarning: lbfgs failed to converge (status=1):\n",
            "STOP: TOTAL NO. of ITERATIONS REACHED LIMIT.\n",
            "\n",
            "Increase the number of iterations (max_iter) or scale the data as shown in:\n",
            "    https://scikit-learn.org/stable/modules/preprocessing.html\n",
            "Please also refer to the documentation for alternative solver options:\n",
            "    https://scikit-learn.org/stable/modules/linear_model.html#logistic-regression\n",
            "  n_iter_i = _check_optimize_result(\n"
          ]
        }
      ]
    },
    {
      "cell_type": "code",
      "source": [],
      "metadata": {
        "id": "NQGbfGvvYE8u"
      },
      "execution_count": 41,
      "outputs": []
    },
    {
      "cell_type": "code",
      "source": [
        "##########모델 예측\n",
        "\n",
        "x_test = [\n",
        "    [2, 'Female', 21, 0, 1, 21.00, 'S']  # 새로운 데이터를 넣어서 한번 테스트\n",
        "]\n",
        "x_test = pd.DataFrame(x_test, columns=['pclass', 'sex', 'age', 'sibsp', 'parch', 'fare', 'embarked'])\n",
        "x_test = transformer.transform(x_test)\n",
        "\n",
        "y_predict = model.predict(x_test)\n",
        "label = labels[y_predict[0]]\n",
        "y_predict = model.predict_proba(x_test)\n",
        "confidence = y_predict[0][y_predict[0].argmax()]\n",
        "\n",
        "print(label, confidence) #"
      ],
      "metadata": {
        "colab": {
          "base_uri": "https://localhost:8080/"
        },
        "id": "n8zr3tfkXakk",
        "outputId": "bb102d1c-e044-4f4b-dec8-83c20d0bfab5"
      },
      "execution_count": 40,
      "outputs": [
        {
          "output_type": "stream",
          "name": "stdout",
          "text": [
            "생존 0.867532641303584\n"
          ]
        }
      ]
    },
    {
      "cell_type": "code",
      "source": [
        "# 사이킷런에서 제공하는 당뇨병데이터셋 샘플 (x값한개 넣기위한 작업임, 의미없음)\n",
        "from sklearn.datasets import load_diabetes\n",
        "import numpy as np\n",
        "diabetes = load_diabetes()\n",
        "diabetes.keys() # 구성항목 확인가능"
      ],
      "metadata": {
        "colab": {
          "base_uri": "https://localhost:8080/"
        },
        "id": "ZIxCxrrmYybZ",
        "outputId": "6709233e-c7d9-4a60-d368-a4d9e8e0ec3f"
      },
      "execution_count": 12,
      "outputs": [
        {
          "output_type": "execute_result",
          "data": {
            "text/plain": [
              "dict_keys(['data', 'target', 'frame', 'DESCR', 'feature_names', 'data_filename', 'target_filename', 'data_module'])"
            ]
          },
          "metadata": {},
          "execution_count": 12
        }
      ]
    },
    {
      "cell_type": "code",
      "source": [
        "diabetes.DESCR #설명"
      ],
      "metadata": {
        "colab": {
          "base_uri": "https://localhost:8080/",
          "height": 164
        },
        "id": "TlZYxEuf4qNx",
        "outputId": "d08d9b58-a2e9-40c6-b131-be3b761ff090"
      },
      "execution_count": 13,
      "outputs": [
        {
          "output_type": "execute_result",
          "data": {
            "text/plain": [
              "'.. _diabetes_dataset:\\n\\nDiabetes dataset\\n----------------\\n\\nTen baseline variables, age, sex, body mass index, average blood\\npressure, and six blood serum measurements were obtained for each of n =\\n442 diabetes patients, as well as the response of interest, a\\nquantitative measure of disease progression one year after baseline.\\n\\n**Data Set Characteristics:**\\n\\n  :Number of Instances: 442\\n\\n  :Number of Attributes: First 10 columns are numeric predictive values\\n\\n  :Target: Column 11 is a quantitative measure of disease progression one year after baseline\\n\\n  :Attribute Information:\\n      - age     age in years\\n      - sex\\n      - bmi     body mass index\\n      - bp      average blood pressure\\n      - s1      tc, total serum cholesterol\\n      - s2      ldl, low-density lipoproteins\\n      - s3      hdl, high-density lipoproteins\\n      - s4      tch, total cholesterol / HDL\\n      - s5      ltg, possibly log of serum triglycerides level\\n      - s6      glu, blood sugar level\\n\\nNote: Each of these 10 feature variables have been mean centered and scaled by the standard deviation times the square root of `n_samples` (i.e. the sum of squares of each column totals 1).\\n\\nSource URL:\\nhttps://www4.stat.ncsu.edu/~boos/var.select/diabetes.html\\n\\nFor more information see:\\nBradley Efron, Trevor Hastie, Iain Johnstone and Robert Tibshirani (2004) \"Least Angle Regression,\" Annals of Statistics (with discussion), 407-499.\\n(https://web.stanford.edu/~hastie/Papers/LARS/LeastAngle_2002.pdf)\\n'"
            ],
            "application/vnd.google.colaboratory.intrinsic+json": {
              "type": "string"
            }
          },
          "metadata": {},
          "execution_count": 13
        }
      ]
    },
    {
      "cell_type": "code",
      "source": [
        "diabetes.target\n",
        "len(diabetes)"
      ],
      "metadata": {
        "colab": {
          "base_uri": "https://localhost:8080/"
        },
        "id": "1dmxhukI4_Ed",
        "outputId": "80bd9b82-546a-421e-ffad-d9c2ea3faf6e"
      },
      "execution_count": 16,
      "outputs": [
        {
          "output_type": "execute_result",
          "data": {
            "text/plain": [
              "8"
            ]
          },
          "metadata": {},
          "execution_count": 16
        }
      ]
    },
    {
      "cell_type": "code",
      "source": [
        "# 한개의 x값을 갖는 인공신경망을 만들기위하여 임의로 3번째의 변수를 x값으로 할당함, 3번째변수 의미없는 값임\n",
        "x = diabetes.data[:, 2]\n",
        "y = diabetes.target\n",
        "\n",
        "np.shape(x), np.shape(y)  # x,y 데이터갯수 같아야함."
      ],
      "metadata": {
        "colab": {
          "base_uri": "https://localhost:8080/"
        },
        "id": "hJreHmSk4bHj",
        "outputId": "32f20d7c-1cab-4128-c34d-739f6a9f5f8a"
      },
      "execution_count": 9,
      "outputs": [
        {
          "output_type": "execute_result",
          "data": {
            "text/plain": [
              "((442,), (442,))"
            ]
          },
          "metadata": {},
          "execution_count": 9
        }
      ]
    },
    {
      "cell_type": "code",
      "source": [
        "#사이킷런 머신러닝이라면 모델만 결정하면 됨\n",
        "## 전처리 필요없음. x값의 숫자화(벡터화), 정규화(표준화) 다 되어 있음\n",
        "# 예측(회귀분석) wx+b를 계산하는 회귀분석 모델만 선택하면 됨\n",
        "# 어떤 모델을 사용할 것인가, 그 모델의 설명력만"
      ],
      "metadata": {
        "id": "H1G5y8eh6xW0"
      },
      "execution_count": null,
      "outputs": []
    },
    {
      "cell_type": "code",
      "source": [
        "xx=[[1,2,3],\n",
        "    [2,2,3],\n",
        "    [2,2,3],\n",
        "    [2,3,4]]\n",
        "w=[[10,11,12,13,14],\n",
        "    [20,21,22,23,24],\n",
        "    [30,31,32,33,34]]\n",
        "b=[100,0,0,0,0]\n",
        "\n",
        "xx=np.array(xx); w=np.array(w)\n",
        "np.shape(xx),np.shape(w),np.dot(xx,w) # 내적 곱\n",
        "\n",
        "yhat=[]\n",
        "for x in range(5):\n",
        "  yhat.append(np.dot(xx,w[:,x])+b[x])\n",
        "\n",
        "# yhat1=np.dot(xx,w[:,0])+b[0]\n",
        "yhat"
      ],
      "metadata": {
        "colab": {
          "base_uri": "https://localhost:8080/"
        },
        "id": "tGsNWDfW77GF",
        "outputId": "2029078d-a9ad-42cc-eb5c-10d53849b6d7"
      },
      "execution_count": 30,
      "outputs": [
        {
          "output_type": "execute_result",
          "data": {
            "text/plain": [
              "[array([240, 250, 250, 300]),\n",
              " array([146, 157, 157, 209]),\n",
              " array([152, 164, 164, 218]),\n",
              " array([158, 171, 171, 227]),\n",
              " array([164, 178, 178, 236])]"
            ]
          },
          "metadata": {},
          "execution_count": 30
        }
      ]
    },
    {
      "cell_type": "code",
      "source": [
        "import tensorflow as tf\n",
        "mnist = tf.keras.datasets.mnist\n"
      ],
      "metadata": {
        "id": "WeL3Kt3QO0EV"
      },
      "execution_count": 5,
      "outputs": []
    },
    {
      "cell_type": "code",
      "source": [
        "type(mnist)"
      ],
      "metadata": {
        "colab": {
          "base_uri": "https://localhost:8080/"
        },
        "id": "l_ncoPd1O8ZS",
        "outputId": "513b8b0a-a104-4b02-8ad2-9b5a07cd4098"
      },
      "execution_count": 6,
      "outputs": [
        {
          "output_type": "execute_result",
          "data": {
            "text/plain": [
              "module"
            ]
          },
          "metadata": {},
          "execution_count": 6
        }
      ]
    },
    {
      "cell_type": "code",
      "source": [
        "mnist = tf.keras.datasets.mnist\n",
        "(x_train, y_train), (x_test, y_test) = mnist.load_data()\n",
        "x_train, x_test = x_train / 255.0, x_test / 255.0"
      ],
      "metadata": {
        "colab": {
          "base_uri": "https://localhost:8080/"
        },
        "id": "vd9Ji6stO945",
        "outputId": "52761e0b-055f-4452-c467-44444b165a0b"
      },
      "execution_count": 7,
      "outputs": [
        {
          "output_type": "stream",
          "name": "stdout",
          "text": [
            "Downloading data from https://storage.googleapis.com/tensorflow/tf-keras-datasets/mnist.npz\n",
            "11490434/11490434 [==============================] - 1s 0us/step\n"
          ]
        }
      ]
    },
    {
      "cell_type": "code",
      "source": [
        "import matplotlib.pyplot as plt\n",
        "import numpy as np\n",
        "img=np.hstack(x_train[:10])\n",
        "plt.imshow(img,cmap='gray')\n",
        "print(y_train[:10])"
      ],
      "metadata": {
        "colab": {
          "base_uri": "https://localhost:8080/",
          "height": 132
        },
        "id": "83LXvTVOPBD6",
        "outputId": "93c12192-d3ee-483e-f94c-5c71d3449e2f"
      },
      "execution_count": 5,
      "outputs": [
        {
          "output_type": "stream",
          "name": "stdout",
          "text": [
            "[5 0 4 1 9 2 1 3 1 4]\n"
          ]
        },
        {
          "output_type": "display_data",
          "data": {
            "text/plain": [
              "<Figure size 640x480 with 1 Axes>"
            ],
            "image/png": "[encoded data removed]"
          },
          "metadata": {}
        }
      ]
    },
    {
      "cell_type": "code",
      "source": [
        "len(y_train),len(y_test),np.unique(y_train,return_counts=True)"
      ],
      "metadata": {
        "colab": {
          "base_uri": "https://localhost:8080/"
        },
        "id": "9YtLM-vAP7na",
        "outputId": "e74f2f7a-6f9c-4c28-aa9b-b25a43e5fac1"
      },
      "execution_count": 14,
      "outputs": [
        {
          "output_type": "execute_result",
          "data": {
            "text/plain": [
              "(60000,\n",
              " 10000,\n",
              " (array([0, 1, 2, 3, 4, 5, 6, 7, 8, 9], dtype=uint8),\n",
              "  array([5923, 6742, 5958, 6131, 5842, 5421, 5918, 6265, 5851, 5949])))"
            ]
          },
          "metadata": {},
          "execution_count": 14
        }
      ]
    },
    {
      "cell_type": "code",
      "source": [
        "np.shape(x_train),np.shape(x_test)\n",
        "# 28행,28열의 흑백이미지 60000장"
      ],
      "metadata": {
        "colab": {
          "base_uri": "https://localhost:8080/"
        },
        "id": "DwraYgC4Qyy_",
        "outputId": "401d5ff3-6656-4345-c119-9f3a8fed9bef"
      },
      "execution_count": 16,
      "outputs": [
        {
          "output_type": "execute_result",
          "data": {
            "text/plain": [
              "((60000, 28, 28), (10000, 28, 28))"
            ]
          },
          "metadata": {},
          "execution_count": 16
        }
      ]
    },
    {
      "cell_type": "code",
      "source": [
        "####################\n",
        "## x,y 데이터 훈련,테스트 로 나누어진 데이터를 array로 받음\n",
        "## 사진데이터를 로드, array로 변환, 사이즈를 통일, label 변환 X  -> 이런 작업을 안했음\n",
        "## 지도학습, 사진을 넣으면 0,1,2,3,4,5,6,7,8,9 의 10개중 어떤 카테고리 인가를 맞추는\n",
        "## 다항분류 문제 -> 이 다항문제는 무조건 원핫인코딩 되어 있거나\n",
        "## 아니면 모델에서 원핫인코딩 시켜야 함\n",
        "## 이 자료에서    원핫 인코딩 => 0은 [1,0,0,0,0,0,0,0,0,0]\n",
        "#                                9는 [0,0,0,0,0,0,0,0,0,1]\n"
      ],
      "metadata": {
        "id": "KEVwgBekRKsJ"
      },
      "execution_count": 17,
      "outputs": []
    },
    {
      "cell_type": "code",
      "source": [
        "model = tf.keras.models.Sequential([\n",
        "  tf.keras.layers.Flatten(input_shape=(28,28)),\n",
        "  tf.keras.layers.Dense(100, activation='relu'),\n",
        "  tf.keras.layers.Dropout(0.2), # 과적합없애기 w 값을 20% 정도 0으로 변경\n",
        "  tf.keras.layers.Dense(10, activation='softmax') #softmax는 다항분류 계산식(활성화 함수)\n",
        "])                    # 0부터 9 10개라서\n",
        "\n",
        "# 원래는 categorical_crossentropy인데\n",
        "# y입력값이 원핫 인코딩이 안되어 있으면 sparse_categorical_crossentropy 라고 지정하면\n",
        "# 알아서 원핫 인코딩함\n",
        "\n",
        "model.compile(optimizer='adam',\n",
        "              loss='sparse_categorical_crossentropy',\n",
        "              metrics=['accuracy'])"
      ],
      "metadata": {
        "id": "v2KylY4EPVSW"
      },
      "execution_count": 34,
      "outputs": []
    },
    {
      "cell_type": "code",
      "source": [
        "model.summary()"
      ],
      "metadata": {
        "colab": {
          "base_uri": "https://localhost:8080/"
        },
        "id": "P5M4KkWwTgNX",
        "outputId": "cc1f13bc-6ac5-4874-df31-71721225a76d"
      },
      "execution_count": 27,
      "outputs": [
        {
          "output_type": "stream",
          "name": "stdout",
          "text": [
            "Model: \"sequential_5\"\n",
            "_________________________________________________________________\n",
            " Layer (type)                Output Shape              Param #   \n",
            "=================================================================\n",
            " flatten_5 (Flatten)         (None, 784)               0         \n",
            "                                                                 \n",
            " dense_10 (Dense)            (None, 100)               78500     \n",
            "                                                                 \n",
            " dense_11 (Dense)            (None, 10)                1010      \n",
            "                                                                 \n",
            "=================================================================\n",
            "Total params: 79,510\n",
            "Trainable params: 79,510\n",
            "Non-trainable params: 0\n",
            "_________________________________________________________________\n"
          ]
        }
      ]
    },
    {
      "cell_type": "code",
      "source": [
        "model.weights[:3] # 이 숫자값들이 위의 Param이다"
      ],
      "metadata": {
        "colab": {
          "base_uri": "https://localhost:8080/"
        },
        "id": "8u4muNBVWndw",
        "outputId": "f49dc279-152b-480b-c84d-b42e407a0289"
      },
      "execution_count": 33,
      "outputs": [
        {
          "output_type": "execute_result",
          "data": {
            "text/plain": [
              "[<tf.Variable 'dense_10/kernel:0' shape=(784, 100) dtype=float32, numpy=\n",
              " array([[-0.02046815,  0.07029878, -0.07852688, ...,  0.07356028,\n",
              "          0.0625338 , -0.00505873],\n",
              "        [ 0.01511646,  0.08109699,  0.01529352, ...,  0.05833872,\n",
              "         -0.0773064 , -0.0507885 ],\n",
              "        [ 0.05749066,  0.0255833 , -0.00434426, ..., -0.03766018,\n",
              "         -0.05207096, -0.04716407],\n",
              "        ...,\n",
              "        [ 0.01721168, -0.04590262, -0.08030356, ...,  0.00247847,\n",
              "         -0.01735726,  0.06664816],\n",
              "        [ 0.07849453, -0.06081414,  0.07023121, ..., -0.05496176,\n",
              "         -0.02290105, -0.02672068],\n",
              "        [ 0.04349515, -0.00484522, -0.0775534 , ...,  0.03914833,\n",
              "         -0.05240383, -0.0572902 ]], dtype=float32)>,\n",
              " <tf.Variable 'dense_10/bias:0' shape=(100,) dtype=float32, numpy=\n",
              " array([0., 0., 0., 0., 0., 0., 0., 0., 0., 0., 0., 0., 0., 0., 0., 0., 0.,\n",
              "        0., 0., 0., 0., 0., 0., 0., 0., 0., 0., 0., 0., 0., 0., 0., 0., 0.,\n",
              "        0., 0., 0., 0., 0., 0., 0., 0., 0., 0., 0., 0., 0., 0., 0., 0., 0.,\n",
              "        0., 0., 0., 0., 0., 0., 0., 0., 0., 0., 0., 0., 0., 0., 0., 0., 0.,\n",
              "        0., 0., 0., 0., 0., 0., 0., 0., 0., 0., 0., 0., 0., 0., 0., 0., 0.,\n",
              "        0., 0., 0., 0., 0., 0., 0., 0., 0., 0., 0., 0., 0., 0., 0.],\n",
              "       dtype=float32)>,\n",
              " <tf.Variable 'dense_11/kernel:0' shape=(100, 10) dtype=float32, numpy=\n",
              " array([[-1.86149776e-01, -1.97871625e-01,  3.87740135e-03,\n",
              "          1.39567673e-01,  1.95822954e-01,  7.04021156e-02,\n",
              "          1.40994787e-04, -1.55669853e-01,  1.04182184e-01,\n",
              "          1.22979373e-01],\n",
              "        [-1.47027194e-01, -1.95729285e-02,  8.69049728e-02,\n",
              "         -1.56692624e-01, -1.67938843e-01, -1.29815876e-01,\n",
              "         -3.08070630e-02,  1.28765523e-01, -2.30707198e-01,\n",
              "         -1.65645778e-01],\n",
              "        [ 1.86018586e-01,  1.40476912e-01,  1.09415233e-01,\n",
              "         -9.64527577e-02, -2.07769766e-01, -1.98409185e-01,\n",
              "         -2.04562172e-01, -9.29579586e-02,  1.83413655e-01,\n",
              "         -1.59063205e-01],\n",
              "        [-8.10926557e-02, -2.49989182e-02, -1.24413490e-01,\n",
              "         -6.36395663e-02, -1.49740219e-01,  2.10485160e-02,\n",
              "         -1.52649581e-01,  2.18469292e-01, -6.30796850e-02,\n",
              "         -7.09608197e-03],\n",
              "        [ 3.48502696e-02, -9.73233581e-02, -2.18209192e-01,\n",
              "          5.13310432e-02,  1.57252789e-01,  6.44348860e-02,\n",
              "          9.39897001e-02,  5.93128204e-02, -1.78225145e-01,\n",
              "         -6.18590564e-02],\n",
              "        [-1.94072455e-01,  1.74645126e-01, -7.09819794e-03,\n",
              "         -2.14920074e-01,  1.30613029e-01, -2.76199579e-02,\n",
              "          1.83118969e-01, -2.00978607e-01,  6.14475012e-02,\n",
              "          1.28259659e-01],\n",
              "        [-1.64726675e-01,  7.51846433e-02, -4.97335643e-02,\n",
              "          2.07757115e-01, -1.40891373e-02, -2.92674303e-02,\n",
              "          1.75952911e-01, -3.72695774e-02, -1.95858806e-01,\n",
              "         -3.42661142e-02],\n",
              "        [ 1.60699815e-01, -1.26643330e-02, -5.63806742e-02,\n",
              "         -1.82735533e-01,  1.49473995e-01, -1.07925206e-01,\n",
              "         -4.87445295e-02,  3.51781845e-02,  1.37257725e-01,\n",
              "         -1.39292479e-01],\n",
              "        [-8.57974440e-02,  5.90945780e-02, -1.44593030e-01,\n",
              "         -1.99724689e-01, -1.09746419e-01,  8.69357586e-02,\n",
              "         -3.23822051e-02,  1.72454476e-01, -2.23612964e-01,\n",
              "          2.13041902e-03],\n",
              "        [-1.84833318e-01,  2.17184842e-01,  7.70078301e-02,\n",
              "          1.54462308e-02,  6.57722652e-02, -6.82342798e-02,\n",
              "          1.32028431e-01, -9.07526463e-02, -1.96034163e-01,\n",
              "          1.42269403e-01],\n",
              "        [-6.97024018e-02, -2.20606938e-01, -1.85503125e-01,\n",
              "          1.86189979e-01, -2.28178099e-01, -1.34169638e-01,\n",
              "         -3.13352048e-02, -1.62807405e-01,  1.97130591e-01,\n",
              "         -2.18719244e-04],\n",
              "        [-1.08155951e-01, -2.06180081e-01,  5.20157814e-02,\n",
              "         -8.36270005e-02, -5.16260564e-02, -4.83315885e-02,\n",
              "          1.71138585e-01,  1.80168808e-01,  9.85741019e-02,\n",
              "          1.18903518e-02],\n",
              "        [ 9.88067389e-02, -3.27098966e-02, -1.71729103e-01,\n",
              "          1.42207593e-01,  1.62866980e-01,  4.03863490e-02,\n",
              "          1.26354128e-01, -1.44267440e-01,  1.82696670e-01,\n",
              "         -2.27123410e-01],\n",
              "        [ 1.28287703e-01, -1.59272015e-01,  1.06134802e-01,\n",
              "         -1.20664552e-01,  2.07144171e-01,  2.15837121e-01,\n",
              "          2.01525837e-01,  1.17784411e-01, -1.36668444e-01,\n",
              "         -5.03890663e-02],\n",
              "        [ 3.65817547e-03, -8.22771490e-02,  9.62276459e-02,\n",
              "         -1.75778165e-01,  1.66703910e-01,  1.61383212e-01,\n",
              "         -2.11858749e-01,  1.44741356e-01,  7.09317625e-02,\n",
              "         -8.49128813e-02],\n",
              "        [-8.31285119e-03, -1.35483593e-02, -4.73323613e-02,\n",
              "         -2.09786296e-02, -2.27279708e-01,  3.07970345e-02,\n",
              "          1.68533742e-01,  1.79960668e-01,  5.11795878e-02,\n",
              "          6.85560703e-02],\n",
              "        [ 4.88101244e-02, -1.01913154e-01, -4.76486981e-02,\n",
              "          1.65136397e-01,  3.68090868e-02, -8.23807716e-02,\n",
              "          3.48389149e-02, -7.45887160e-02,  1.24947816e-01,\n",
              "          1.81341857e-01],\n",
              "        [ 4.83556986e-02,  8.23523104e-02, -3.99235189e-02,\n",
              "          2.04498231e-01, -2.22047508e-01,  6.86366856e-02,\n",
              "          2.23392546e-02,  2.30376840e-01, -1.41167611e-01,\n",
              "         -1.79688260e-01],\n",
              "        [ 2.72337496e-02, -1.16167679e-01,  1.50168806e-01,\n",
              "          1.61226034e-01, -1.63083494e-01,  3.43595445e-03,\n",
              "         -9.39326733e-02,  4.23765481e-02,  6.68059587e-02,\n",
              "         -2.24380210e-01],\n",
              "        [ 2.22843319e-01,  1.77027851e-01,  1.87581033e-01,\n",
              "          2.28678972e-01,  1.56888396e-01, -8.75152647e-03,\n",
              "          1.18299305e-01, -8.51225257e-02,  2.09941268e-01,\n",
              "         -3.17399651e-02],\n",
              "        [-3.24080437e-02, -1.90070212e-01,  1.19357914e-01,\n",
              "          2.09614128e-01, -1.91542745e-01, -1.35965228e-01,\n",
              "         -1.71274394e-01,  1.46950692e-01, -1.09926939e-01,\n",
              "         -2.28564426e-01],\n",
              "        [-1.40051499e-01, -1.07845470e-01,  1.73841208e-01,\n",
              "         -9.18415189e-02, -2.31687039e-01, -1.47651449e-01,\n",
              "          1.40829772e-01,  8.35382938e-03,  1.25188768e-01,\n",
              "          6.44680560e-02],\n",
              "        [ 4.45288718e-02, -1.61680281e-01, -1.53727800e-01,\n",
              "         -1.97784930e-01,  2.01304078e-01,  7.19016492e-02,\n",
              "         -5.48690110e-02,  1.03207082e-02,  4.73744571e-02,\n",
              "         -1.42892361e-01],\n",
              "        [-8.28356445e-02, -1.39805675e-02, -6.24613762e-02,\n",
              "         -1.98530465e-01, -3.80413979e-02, -1.45025790e-01,\n",
              "          1.29684836e-01, -6.49684370e-02, -9.45983678e-02,\n",
              "         -1.93007082e-01],\n",
              "        [-1.09909028e-02, -1.53318107e-01,  2.36859918e-02,\n",
              "          1.48609698e-01,  1.07112199e-01,  9.59886312e-02,\n",
              "          2.28337944e-03, -6.44320250e-03, -2.23861918e-01,\n",
              "          9.80902612e-02],\n",
              "        [ 2.27536142e-01,  1.40064418e-01, -2.08437458e-01,\n",
              "          7.15729594e-02,  5.88506460e-04, -4.73193973e-02,\n",
              "         -1.20761156e-01, -3.20458263e-02, -1.14602052e-01,\n",
              "          4.43271697e-02],\n",
              "        [-5.37559390e-03, -6.23707920e-02, -2.25437343e-01,\n",
              "          1.56428695e-01,  5.57790697e-02, -1.72544405e-01,\n",
              "         -3.70377153e-02, -2.03048274e-01, -1.03995800e-01,\n",
              "         -3.35174650e-02],\n",
              "        [-3.44118327e-02,  1.08127445e-01,  2.82911062e-02,\n",
              "          1.86609775e-01, -4.02769893e-02, -1.02351099e-01,\n",
              "          2.10754007e-01, -1.98827296e-01,  1.98392570e-02,\n",
              "          1.36250228e-01],\n",
              "        [-9.46159512e-02, -9.98091400e-02, -1.28014982e-01,\n",
              "         -5.24023175e-03,  6.54183626e-02,  1.85994595e-01,\n",
              "         -4.06812131e-03,  2.31360257e-01,  6.93634748e-02,\n",
              "          1.68436527e-01],\n",
              "        [-2.86127180e-02,  1.10371858e-02, -1.09962970e-01,\n",
              "          1.98557138e-01, -1.27004683e-02, -8.60958546e-02,\n",
              "         -7.78477639e-02,  9.52539146e-02,  4.27293777e-02,\n",
              "         -1.44093052e-01],\n",
              "        [ 2.30733752e-01, -1.80270076e-01, -2.03425735e-01,\n",
              "         -2.98130512e-03, -1.64128363e-01,  1.92617297e-01,\n",
              "          1.40234262e-01, -1.73491120e-01, -2.34746039e-02,\n",
              "          1.54650509e-02],\n",
              "        [-4.42143083e-02,  2.69965827e-03, -2.09779352e-01,\n",
              "          5.47159910e-02,  1.37412697e-01,  1.07988954e-01,\n",
              "          9.05891061e-02, -7.64331967e-02, -6.35709614e-02,\n",
              "         -1.77765429e-01],\n",
              "        [-1.85034007e-01, -1.36778250e-01,  1.73251808e-01,\n",
              "          1.55743003e-01,  1.11384600e-01,  1.65373832e-01,\n",
              "          1.26479715e-02,  8.47629309e-02,  1.47268295e-01,\n",
              "         -1.82524055e-01],\n",
              "        [ 1.88721985e-01, -1.81867614e-01,  1.24987692e-01,\n",
              "         -6.21850342e-02,  6.37094080e-02, -2.24064603e-01,\n",
              "         -8.23437423e-02, -8.33589435e-02, -7.85915107e-02,\n",
              "          2.28116244e-01],\n",
              "        [ 1.69793844e-01, -1.16299480e-01,  1.77254260e-01,\n",
              "         -2.30046749e-01, -1.64655000e-02, -3.00479382e-02,\n",
              "         -1.91227749e-01,  2.16570169e-01, -1.64106488e-01,\n",
              "         -9.43926722e-02],\n",
              "        [-7.77757019e-02,  7.44030774e-02, -4.25107628e-02,\n",
              "          2.01187134e-01, -2.09340394e-01, -6.38634712e-02,\n",
              "         -1.40286088e-02,  1.94417536e-02, -1.03924468e-01,\n",
              "         -1.36857271e-01],\n",
              "        [-1.14132367e-01,  1.34250104e-01,  6.16029799e-02,\n",
              "         -1.20349772e-01,  5.23302257e-02,  2.17648149e-02,\n",
              "          1.49775356e-01,  2.23408431e-01, -6.02659881e-02,\n",
              "         -2.95671672e-02],\n",
              "        [ 1.74535662e-01,  2.25001067e-01, -3.89853865e-02,\n",
              "          3.70476842e-02,  2.15218991e-01,  1.93707973e-01,\n",
              "         -1.36225820e-02, -1.02474332e-01,  7.39437938e-02,\n",
              "          4.73127067e-02],\n",
              "        [ 6.12013340e-02, -1.86929166e-01,  4.56943512e-02,\n",
              "          2.89384723e-02, -7.04689771e-02,  1.35743618e-02,\n",
              "          1.43667638e-01, -6.07228577e-02,  1.77091151e-01,\n",
              "         -3.25510353e-02],\n",
              "        [ 9.89674032e-03,  1.70636564e-01, -7.21603483e-02,\n",
              "         -1.81402162e-01, -1.55047372e-01,  1.65983051e-01,\n",
              "         -2.00364038e-01, -1.98079214e-01,  2.08604485e-01,\n",
              "         -9.83042568e-02],\n",
              "        [-1.43478960e-02, -2.39418447e-03,  5.62476516e-02,\n",
              "          1.04396820e-01, -4.16000187e-02,  1.07482910e-01,\n",
              "          1.67510599e-01,  7.84445107e-02, -5.70991486e-02,\n",
              "          8.05069506e-02],\n",
              "        [ 3.09099555e-02,  4.91645336e-02, -1.98550567e-01,\n",
              "          2.04948187e-02,  3.78658772e-02, -1.06969640e-01,\n",
              "          1.08528763e-01, -5.16996086e-02,  1.98229671e-01,\n",
              "         -1.72741681e-01],\n",
              "        [ 1.60061806e-01,  1.14539266e-03, -1.38523459e-01,\n",
              "         -3.19491029e-02,  1.88323051e-01, -2.20298350e-01,\n",
              "         -2.08994001e-02,  1.03811771e-02, -7.44820237e-02,\n",
              "          1.07039958e-01],\n",
              "        [-1.14827953e-01,  1.79802507e-01, -2.25148126e-01,\n",
              "         -1.32513404e-01,  1.95919067e-01,  7.93200135e-02,\n",
              "         -1.61001235e-01,  2.28731126e-01, -3.64164114e-02,\n",
              "         -1.33232608e-01],\n",
              "        [ 5.81365824e-02,  9.81319249e-02, -2.26665139e-01,\n",
              "         -8.66828561e-02, -9.34672803e-02, -5.34851849e-02,\n",
              "         -1.48358494e-01,  7.51804411e-02, -3.39493304e-02,\n",
              "         -4.97448742e-02],\n",
              "        [ 5.01341522e-02,  1.00327760e-01,  1.33559793e-01,\n",
              "         -2.27467924e-01, -1.97212517e-01, -2.04630643e-02,\n",
              "          1.78128481e-01, -5.74620813e-02, -9.63557065e-02,\n",
              "         -1.51890844e-01],\n",
              "        [ 6.42696619e-02,  8.83314013e-02,  1.31422579e-01,\n",
              "          8.10946822e-02, -5.00371009e-02,  9.32035744e-02,\n",
              "         -9.50899869e-02,  1.09709293e-01,  1.87324941e-01,\n",
              "          1.89445674e-01],\n",
              "        [-5.62314540e-02,  2.19791532e-01,  7.07804859e-02,\n",
              "          1.06867284e-01, -1.76210880e-01, -5.22190183e-02,\n",
              "          8.54636431e-02,  1.85562104e-01,  1.31932706e-01,\n",
              "         -2.06128910e-01],\n",
              "        [-1.91132143e-01,  9.06428695e-03, -4.97626960e-02,\n",
              "         -2.31199384e-01, -5.08521795e-02,  2.09078848e-01,\n",
              "         -4.52799648e-02,  9.18264687e-02, -2.21910462e-01,\n",
              "         -5.71215898e-02],\n",
              "        [ 2.51733661e-02,  1.44252926e-02,  1.21519119e-01,\n",
              "         -5.74713796e-02, -1.56541735e-01, -5.46602905e-03,\n",
              "          2.24743307e-01,  1.71494722e-01, -1.29772156e-01,\n",
              "         -2.12231874e-02],\n",
              "        [-1.76083252e-01,  4.67477739e-03,  1.79410219e-01,\n",
              "          1.94691598e-01,  5.97713888e-03, -2.86743045e-03,\n",
              "         -1.29077241e-01,  1.62816256e-01, -2.30632916e-01,\n",
              "          1.45347297e-01],\n",
              "        [ 1.32774621e-01,  1.66360855e-01, -1.11772038e-01,\n",
              "         -1.45536959e-02,  7.69408047e-02,  1.34278446e-01,\n",
              "          1.79497719e-01,  1.10749990e-01,  2.02762127e-01,\n",
              "          1.78248405e-01],\n",
              "        [ 2.19540566e-01, -2.74991840e-02, -2.11495146e-01,\n",
              "         -8.46846402e-02,  1.92767203e-01, -1.74807519e-01,\n",
              "          1.38608664e-01,  2.16933280e-01, -1.61075413e-01,\n",
              "          1.42573237e-01],\n",
              "        [ 1.09248608e-01,  6.71120584e-02, -4.38105017e-02,\n",
              "          4.17295992e-02,  1.42798275e-01,  7.77907670e-03,\n",
              "          5.16996682e-02, -1.37832314e-01, -1.36872143e-01,\n",
              "         -1.84506088e-01],\n",
              "        [ 3.00086737e-02,  2.04679281e-01,  8.19771290e-02,\n",
              "          1.51227057e-01,  6.39979541e-02, -8.26835632e-02,\n",
              "         -1.25005722e-01,  1.23380184e-01, -1.30799785e-01,\n",
              "         -5.51353395e-02],\n",
              "        [-2.71585733e-02, -8.93314630e-02, -4.51804101e-02,\n",
              "         -9.53810960e-02, -1.49531066e-02,  2.07574546e-01,\n",
              "          1.80253148e-01, -3.20144296e-02,  1.51513696e-01,\n",
              "          1.88097596e-01],\n",
              "        [-9.68773365e-02,  7.45678246e-02,  2.11710691e-01,\n",
              "         -2.24643424e-01, -5.55981696e-02,  3.81186604e-03,\n",
              "         -2.35335231e-02, -2.25051969e-01, -4.57946360e-02,\n",
              "         -1.22613996e-01],\n",
              "        [ 1.09884471e-01, -1.71756104e-01,  1.90651715e-02,\n",
              "          1.87195152e-01, -5.97268343e-03,  2.76740789e-02,\n",
              "          8.37881863e-02,  3.96504402e-02, -1.29909024e-01,\n",
              "          1.65709019e-01],\n",
              "        [ 4.69320118e-02,  1.14191830e-01,  1.25784397e-01,\n",
              "         -1.45298749e-01,  7.02725351e-03,  1.53060496e-01,\n",
              "          1.12895280e-01, -6.93704784e-02, -1.93597764e-01,\n",
              "          2.09606409e-01],\n",
              "        [ 1.37754232e-02,  1.72326893e-01, -8.23734701e-02,\n",
              "          1.42335027e-01, -6.01166487e-02, -2.08403602e-01,\n",
              "          1.95952088e-01,  2.11711079e-01,  1.23072922e-01,\n",
              "          2.03243315e-01],\n",
              "        [ 1.46555573e-01, -7.05444813e-02, -2.26244688e-01,\n",
              "         -1.49922788e-01, -4.39656377e-02, -1.03362694e-01,\n",
              "         -2.59686857e-02,  1.08035237e-01,  1.64298087e-01,\n",
              "          1.91457331e-01],\n",
              "        [ 1.51165247e-01,  8.53118300e-03,  7.64693320e-02,\n",
              "          1.58438325e-01, -7.43434280e-02,  2.17367947e-01,\n",
              "          6.11479878e-02, -6.57925308e-02, -9.56419706e-02,\n",
              "          8.84130895e-02],\n",
              "        [-1.21999383e-02,  1.78530991e-01, -3.87667120e-02,\n",
              "          2.19545692e-01,  5.55323660e-02, -2.15679973e-01,\n",
              "         -8.07602406e-02,  2.28905380e-01, -2.19453141e-01,\n",
              "          8.02414417e-02],\n",
              "        [-2.30280399e-01,  1.58129692e-01,  1.47702962e-01,\n",
              "          4.43404913e-02, -1.13458611e-01, -5.23930192e-02,\n",
              "          7.92808533e-02,  9.81749594e-02,  1.03638887e-01,\n",
              "          1.14277601e-01],\n",
              "        [-1.34409070e-01,  2.31810153e-01,  1.87972605e-01,\n",
              "         -2.12220252e-02,  3.01396549e-02,  4.53262031e-03,\n",
              "          1.47912949e-02, -2.22527653e-01, -1.18727855e-01,\n",
              "         -2.24076465e-01],\n",
              "        [ 2.28861392e-01, -5.35214245e-02,  3.61711979e-02,\n",
              "         -1.92751274e-01,  4.84818220e-02,  2.12517381e-01,\n",
              "         -1.27815813e-01, -1.38885438e-01, -8.53463709e-02,\n",
              "         -1.00676224e-01],\n",
              "        [-1.27648532e-01, -1.88755825e-01,  2.28971750e-01,\n",
              "         -2.19973549e-01,  2.02633709e-01,  1.50735766e-01,\n",
              "         -3.29402089e-03,  2.16918677e-01, -7.26744086e-02,\n",
              "          2.06404328e-02],\n",
              "        [ 1.88702047e-01,  1.93669587e-01,  1.55599415e-01,\n",
              "         -2.17087850e-01,  1.41751260e-01,  4.29852903e-02,\n",
              "          1.24481857e-01, -2.04182416e-01,  5.47372103e-02,\n",
              "          1.94490522e-01],\n",
              "        [-5.56050688e-02, -1.32347971e-01,  2.13689715e-01,\n",
              "          9.52818692e-02,  4.50815558e-02, -2.09953412e-01,\n",
              "          1.73428208e-01, -1.46267354e-01,  1.12970561e-01,\n",
              "         -2.27650389e-01],\n",
              "        [-1.01263016e-01, -1.87058449e-02,  1.04434848e-01,\n",
              "         -1.43569693e-01,  1.50536537e-01, -1.69346496e-01,\n",
              "         -8.93018395e-02,  1.60172164e-01, -4.74164486e-02,\n",
              "          5.79004288e-02],\n",
              "        [ 7.60937631e-02,  1.64662153e-01,  6.97147548e-02,\n",
              "         -1.75187647e-01, -1.94843113e-01, -1.14203922e-01,\n",
              "          2.24887967e-01, -2.01586992e-01,  2.31754303e-01,\n",
              "         -1.96671665e-01],\n",
              "        [ 2.69516408e-02, -5.00533581e-02,  2.19664514e-01,\n",
              "          9.43780839e-02,  2.19309092e-01,  1.10353023e-01,\n",
              "         -2.19127730e-01, -2.19432309e-01,  6.49012327e-02,\n",
              "          1.79705858e-01],\n",
              "        [-1.88464284e-01,  8.40947926e-02, -2.18121380e-01,\n",
              "         -2.05732733e-01,  2.20768929e-01, -8.44796747e-02,\n",
              "         -2.12557301e-01,  9.09869075e-02,  1.28131807e-01,\n",
              "         -1.34179100e-01],\n",
              "        [-1.47725895e-01,  2.17688322e-01, -5.13539910e-02,\n",
              "         -1.85053214e-01, -8.93728435e-03,  5.87177277e-02,\n",
              "         -1.01658076e-01, -6.72890246e-03,  6.62161112e-02,\n",
              "          1.92076355e-01],\n",
              "        [ 1.32356226e-01, -4.04706001e-02,  6.71760142e-02,\n",
              "         -1.11474469e-01,  1.81012601e-01, -9.30687636e-02,\n",
              "         -1.89046547e-01, -1.44179463e-01,  1.26539797e-01,\n",
              "         -1.07339144e-01],\n",
              "        [ 2.30203569e-02,  1.61228031e-01,  4.55963612e-02,\n",
              "          2.20110625e-01,  1.26661658e-02,  2.07132697e-01,\n",
              "          1.00095570e-02, -1.96809024e-02, -2.10870221e-01,\n",
              "          9.66905653e-02],\n",
              "        [ 2.72471607e-02, -1.94232434e-01, -1.26781389e-01,\n",
              "          5.17636538e-03, -4.60966527e-02,  8.20544362e-03,\n",
              "          4.97099459e-02, -1.15854189e-01, -1.58953279e-01,\n",
              "          6.06906414e-03],\n",
              "        [-1.06069148e-02, -1.04473054e-01,  1.44892156e-01,\n",
              "         -9.64772105e-02, -3.97364348e-02,  5.92353642e-02,\n",
              "         -6.73871785e-02,  2.03208357e-01, -2.05567852e-01,\n",
              "         -7.28899986e-02],\n",
              "        [ 1.62506610e-01, -2.07650602e-01,  1.60101354e-02,\n",
              "          1.02446556e-01, -1.77859813e-01, -1.27762079e-01,\n",
              "          5.68829775e-02, -2.21269116e-01,  5.88181317e-02,\n",
              "          5.12253642e-02],\n",
              "        [ 2.93936729e-02, -9.16454047e-02,  6.60006106e-02,\n",
              "         -9.56545472e-02,  3.00738215e-02, -2.27546260e-01,\n",
              "         -7.18876570e-02,  1.33724838e-01,  1.68010384e-01,\n",
              "         -7.95046985e-03],\n",
              "        [-2.27489576e-01, -8.61316025e-02, -1.92783579e-01,\n",
              "          1.02816820e-02, -5.11820316e-02,  3.84588540e-02,\n",
              "         -1.65060833e-01, -1.61507279e-02,  2.09333509e-01,\n",
              "         -1.18184336e-01],\n",
              "        [-1.32770836e-01,  1.69445574e-02,  1.08408600e-01,\n",
              "         -2.29129434e-01,  1.53790742e-01, -1.19263016e-01,\n",
              "          1.00122243e-01, -2.05363601e-01,  1.90524429e-01,\n",
              "          1.68622017e-01],\n",
              "        [ 6.60453439e-02, -2.16980219e-01,  1.54657364e-01,\n",
              "          4.22756076e-02,  1.86166465e-02,  1.06825978e-01,\n",
              "          6.45116270e-02,  2.23634630e-01,  7.13241994e-02,\n",
              "         -1.41567230e-01],\n",
              "        [ 1.27915978e-01, -1.78816602e-01,  2.05084920e-01,\n",
              "          1.92995936e-01,  7.02176988e-02, -9.80103612e-02,\n",
              "          1.86679065e-02,  7.02221394e-02,  7.38798678e-02,\n",
              "          1.48726165e-01],\n",
              "        [-1.23031557e-01,  1.31282210e-03, -1.88891530e-01,\n",
              "          1.53467208e-01, -2.27383509e-01,  1.79548711e-01,\n",
              "          9.69624221e-02,  2.81489491e-02,  9.39515233e-03,\n",
              "         -6.47141933e-02],\n",
              "        [ 1.13494873e-01, -6.85591996e-03, -2.21552089e-01,\n",
              "         -9.61682200e-02, -1.19995922e-02,  4.44518626e-02,\n",
              "         -6.16951287e-03, -1.28464848e-01, -6.05803728e-02,\n",
              "         -1.83507860e-01],\n",
              "        [-4.10681963e-03,  1.09472394e-01,  1.95945799e-02,\n",
              "         -1.32438183e-01,  8.92384648e-02, -9.24117565e-02,\n",
              "          2.15517879e-02,  1.56114191e-01,  1.93242162e-01,\n",
              "         -1.07305914e-01],\n",
              "        [ 1.62342012e-01,  1.51712537e-01, -5.39314151e-02,\n",
              "          9.26879048e-02,  1.80313081e-01, -2.32427567e-01,\n",
              "          2.19480991e-01,  1.38363868e-01,  2.25757748e-01,\n",
              "         -2.14159012e-01],\n",
              "        [ 4.06319201e-02,  2.02188373e-01,  1.81341529e-01,\n",
              "          1.38910353e-01,  5.90013266e-02, -6.34257495e-02,\n",
              "          1.82776481e-01, -1.72647089e-01, -1.29256546e-01,\n",
              "          9.39128995e-02],\n",
              "        [-8.45178068e-02, -8.03366005e-02,  9.15059745e-02,\n",
              "         -1.68466374e-01,  2.19471157e-02, -1.88400626e-01,\n",
              "          1.35670573e-01,  1.11165196e-02,  1.88451350e-01,\n",
              "          4.20443714e-02],\n",
              "        [ 1.70721471e-01, -1.12264454e-02, -1.75664023e-01,\n",
              "         -2.03165427e-01,  1.10563934e-02,  6.59380257e-02,\n",
              "         -1.44079804e-01, -1.21554472e-01,  1.26082420e-01,\n",
              "         -1.28651991e-01],\n",
              "        [-4.77469862e-02,  1.23530686e-01, -1.62038654e-01,\n",
              "          1.38177454e-01, -1.86803102e-01, -2.25465357e-01,\n",
              "          9.72951353e-02, -1.36211455e-01, -1.33421317e-01,\n",
              "          1.63351595e-02],\n",
              "        [ 1.63450599e-01,  9.47487652e-02, -2.13410124e-01,\n",
              "         -7.16433227e-02, -7.99000263e-03,  2.15256125e-01,\n",
              "         -2.08356321e-01, -1.55292779e-01,  1.70432866e-01,\n",
              "         -1.08118817e-01],\n",
              "        [-1.35839611e-01,  1.21416152e-01,  4.53909338e-02,\n",
              "         -2.26119295e-01,  6.13851547e-02, -4.37270850e-02,\n",
              "         -6.32449985e-02, -1.43774986e-01,  8.95509124e-03,\n",
              "         -1.73374519e-01],\n",
              "        [ 2.30331331e-01,  1.63828731e-01, -1.94768608e-01,\n",
              "         -1.87365487e-01, -5.43597937e-02,  1.14894658e-01,\n",
              "         -1.40420169e-01, -1.93280593e-01,  8.47955048e-02,\n",
              "          1.07960165e-01],\n",
              "        [ 2.23769307e-01,  8.70317221e-04,  1.13321245e-01,\n",
              "          1.61682189e-01, -5.09946048e-02, -1.49022132e-01,\n",
              "         -6.72471821e-02, -1.31055310e-01, -7.25481659e-02,\n",
              "         -7.56461322e-02],\n",
              "        [-2.33201385e-02,  2.31030226e-01, -1.47328049e-01,\n",
              "         -1.48486346e-01,  3.70684266e-03,  1.83189869e-01,\n",
              "          1.45404041e-03,  1.36380047e-02, -7.42585212e-02,\n",
              "         -1.60212383e-01],\n",
              "        [ 1.35185272e-01, -8.07155222e-02,  6.29910827e-02,\n",
              "          2.06142873e-01,  9.00062621e-02, -1.85270771e-01,\n",
              "          2.44329572e-02, -1.98163450e-01,  2.05651939e-01,\n",
              "         -7.10641742e-02],\n",
              "        [-1.08976498e-01,  9.09303129e-02, -1.64681405e-01,\n",
              "         -7.21482038e-02, -1.46695659e-01,  1.98291302e-01,\n",
              "         -1.85246050e-01,  4.14376557e-02, -2.12425709e-01,\n",
              "         -1.34421542e-01],\n",
              "        [ 1.00887150e-01,  1.97072178e-01, -1.23687170e-01,\n",
              "         -7.04949796e-02, -4.17227894e-02,  1.75991952e-02,\n",
              "          7.89320767e-02,  3.79905105e-02,  1.25451684e-02,\n",
              "          1.40348911e-01]], dtype=float32)>]"
            ]
          },
          "metadata": {},
          "execution_count": 33
        }
      ]
    },
    {
      "cell_type": "code",
      "source": [
        "hist=model.fit(x_train,y_train,epochs=50,\n",
        "          validation_data=(x_train,y_train),batch_size=100)"
      ],
      "metadata": {
        "colab": {
          "base_uri": "https://localhost:8080/"
        },
        "id": "O71lnU0sPfWS",
        "outputId": "2dbd2d97-81ae-4ef9-85af-c492c537ca9f"
      },
      "execution_count": 37,
      "outputs": [
        {
          "output_type": "stream",
          "name": "stdout",
          "text": [
            "Epoch 1/50\n",
            "600/600 [==============================] - 4s 7ms/step - loss: 0.0766 - accuracy: 0.9764 - val_loss: 0.0436 - val_accuracy: 0.9870\n",
            "Epoch 2/50\n",
            "600/600 [==============================] - 4s 6ms/step - loss: 0.0694 - accuracy: 0.9786 - val_loss: 0.0375 - val_accuracy: 0.9896\n",
            "Epoch 3/50\n",
            "600/600 [==============================] - 3s 6ms/step - loss: 0.0644 - accuracy: 0.9801 - val_loss: 0.0338 - val_accuracy: 0.9906\n",
            "Epoch 4/50\n",
            "600/600 [==============================] - 5s 9ms/step - loss: 0.0614 - accuracy: 0.9804 - val_loss: 0.0298 - val_accuracy: 0.9918\n",
            "Epoch 5/50\n",
            "600/600 [==============================] - 4s 6ms/step - loss: 0.0561 - accuracy: 0.9822 - val_loss: 0.0265 - val_accuracy: 0.9925\n",
            "Epoch 6/50\n",
            "600/600 [==============================] - 4s 6ms/step - loss: 0.0526 - accuracy: 0.9829 - val_loss: 0.0231 - val_accuracy: 0.9940\n",
            "Epoch 7/50\n",
            "600/600 [==============================] - 5s 9ms/step - loss: 0.0501 - accuracy: 0.9843 - val_loss: 0.0207 - val_accuracy: 0.9945\n",
            "Epoch 8/50\n",
            "600/600 [==============================] - 4s 6ms/step - loss: 0.0478 - accuracy: 0.9848 - val_loss: 0.0201 - val_accuracy: 0.9947\n",
            "Epoch 9/50\n",
            "600/600 [==============================] - 4s 6ms/step - loss: 0.0459 - accuracy: 0.9845 - val_loss: 0.0188 - val_accuracy: 0.9953\n",
            "Epoch 10/50\n",
            "600/600 [==============================] - 4s 7ms/step - loss: 0.0419 - accuracy: 0.9864 - val_loss: 0.0154 - val_accuracy: 0.9961\n",
            "Epoch 11/50\n",
            "600/600 [==============================] - 4s 6ms/step - loss: 0.0401 - accuracy: 0.9867 - val_loss: 0.0156 - val_accuracy: 0.9960\n",
            "Epoch 12/50\n",
            "600/600 [==============================] - 4s 6ms/step - loss: 0.0387 - accuracy: 0.9869 - val_loss: 0.0143 - val_accuracy: 0.9963\n",
            "Epoch 13/50\n",
            "600/600 [==============================] - 5s 8ms/step - loss: 0.0368 - accuracy: 0.9879 - val_loss: 0.0140 - val_accuracy: 0.9963\n",
            "Epoch 14/50\n",
            "600/600 [==============================] - 3s 6ms/step - loss: 0.0365 - accuracy: 0.9876 - val_loss: 0.0132 - val_accuracy: 0.9965\n",
            "Epoch 15/50\n",
            "600/600 [==============================] - 3s 6ms/step - loss: 0.0341 - accuracy: 0.9885 - val_loss: 0.0108 - val_accuracy: 0.9973\n",
            "Epoch 16/50\n",
            "600/600 [==============================] - 5s 8ms/step - loss: 0.0334 - accuracy: 0.9887 - val_loss: 0.0103 - val_accuracy: 0.9976\n",
            "Epoch 17/50\n",
            "600/600 [==============================] - 3s 6ms/step - loss: 0.0312 - accuracy: 0.9896 - val_loss: 0.0103 - val_accuracy: 0.9975\n",
            "Epoch 18/50\n",
            "600/600 [==============================] - 4s 6ms/step - loss: 0.0314 - accuracy: 0.9897 - val_loss: 0.0087 - val_accuracy: 0.9982\n",
            "Epoch 19/50\n",
            "600/600 [==============================] - 5s 8ms/step - loss: 0.0300 - accuracy: 0.9899 - val_loss: 0.0091 - val_accuracy: 0.9980\n",
            "Epoch 20/50\n",
            "600/600 [==============================] - 4s 6ms/step - loss: 0.0294 - accuracy: 0.9902 - val_loss: 0.0076 - val_accuracy: 0.9984\n",
            "Epoch 21/50\n",
            "600/600 [==============================] - 4s 6ms/step - loss: 0.0279 - accuracy: 0.9905 - val_loss: 0.0081 - val_accuracy: 0.9982\n",
            "Epoch 22/50\n",
            "600/600 [==============================] - 6s 10ms/step - loss: 0.0262 - accuracy: 0.9910 - val_loss: 0.0074 - val_accuracy: 0.9985\n",
            "Epoch 23/50\n",
            "600/600 [==============================] - 4s 7ms/step - loss: 0.0266 - accuracy: 0.9908 - val_loss: 0.0060 - val_accuracy: 0.9988\n",
            "Epoch 24/50\n",
            "600/600 [==============================] - 3s 6ms/step - loss: 0.0262 - accuracy: 0.9914 - val_loss: 0.0067 - val_accuracy: 0.9986\n",
            "Epoch 25/50\n",
            "600/600 [==============================] - 5s 9ms/step - loss: 0.0260 - accuracy: 0.9912 - val_loss: 0.0057 - val_accuracy: 0.9989\n",
            "Epoch 26/50\n",
            "600/600 [==============================] - 4s 6ms/step - loss: 0.0256 - accuracy: 0.9917 - val_loss: 0.0061 - val_accuracy: 0.9986\n",
            "Epoch 27/50\n",
            "600/600 [==============================] - 3s 6ms/step - loss: 0.0237 - accuracy: 0.9917 - val_loss: 0.0055 - val_accuracy: 0.9988\n",
            "Epoch 28/50\n",
            "600/600 [==============================] - 6s 9ms/step - loss: 0.0225 - accuracy: 0.9923 - val_loss: 0.0050 - val_accuracy: 0.9990\n",
            "Epoch 29/50\n",
            "600/600 [==============================] - 5s 8ms/step - loss: 0.0216 - accuracy: 0.9922 - val_loss: 0.0048 - val_accuracy: 0.9991\n",
            "Epoch 30/50\n",
            "600/600 [==============================] - 4s 6ms/step - loss: 0.0222 - accuracy: 0.9922 - val_loss: 0.0044 - val_accuracy: 0.9991\n",
            "Epoch 31/50\n",
            "600/600 [==============================] - 5s 8ms/step - loss: 0.0213 - accuracy: 0.9924 - val_loss: 0.0042 - val_accuracy: 0.9995\n",
            "Epoch 32/50\n",
            "600/600 [==============================] - 4s 6ms/step - loss: 0.0211 - accuracy: 0.9930 - val_loss: 0.0044 - val_accuracy: 0.9993\n",
            "Epoch 33/50\n",
            "600/600 [==============================] - 4s 6ms/step - loss: 0.0209 - accuracy: 0.9928 - val_loss: 0.0044 - val_accuracy: 0.9994\n",
            "Epoch 34/50\n",
            "600/600 [==============================] - 5s 8ms/step - loss: 0.0202 - accuracy: 0.9927 - val_loss: 0.0034 - val_accuracy: 0.9995\n",
            "Epoch 35/50\n",
            "600/600 [==============================] - 4s 6ms/step - loss: 0.0198 - accuracy: 0.9933 - val_loss: 0.0050 - val_accuracy: 0.9990\n",
            "Epoch 36/50\n",
            "600/600 [==============================] - 4s 6ms/step - loss: 0.0198 - accuracy: 0.9932 - val_loss: 0.0039 - val_accuracy: 0.9993\n",
            "Epoch 37/50\n",
            "600/600 [==============================] - 6s 9ms/step - loss: 0.0202 - accuracy: 0.9931 - val_loss: 0.0043 - val_accuracy: 0.9991\n",
            "Epoch 38/50\n",
            "600/600 [==============================] - 4s 6ms/step - loss: 0.0193 - accuracy: 0.9937 - val_loss: 0.0035 - val_accuracy: 0.9994\n",
            "Epoch 39/50\n",
            "600/600 [==============================] - 4s 6ms/step - loss: 0.0193 - accuracy: 0.9932 - val_loss: 0.0037 - val_accuracy: 0.9994\n",
            "Epoch 40/50\n",
            "600/600 [==============================] - 5s 8ms/step - loss: 0.0195 - accuracy: 0.9933 - val_loss: 0.0028 - val_accuracy: 0.9996\n",
            "Epoch 41/50\n",
            "600/600 [==============================] - 4s 6ms/step - loss: 0.0183 - accuracy: 0.9938 - val_loss: 0.0027 - val_accuracy: 0.9997\n",
            "Epoch 42/50\n",
            "600/600 [==============================] - 4s 6ms/step - loss: 0.0177 - accuracy: 0.9941 - val_loss: 0.0028 - val_accuracy: 0.9995\n",
            "Epoch 43/50\n",
            "600/600 [==============================] - 6s 9ms/step - loss: 0.0175 - accuracy: 0.9938 - val_loss: 0.0023 - val_accuracy: 0.9998\n",
            "Epoch 44/50\n",
            "600/600 [==============================] - 4s 6ms/step - loss: 0.0172 - accuracy: 0.9942 - val_loss: 0.0024 - val_accuracy: 0.9997\n",
            "Epoch 45/50\n",
            "600/600 [==============================] - 4s 6ms/step - loss: 0.0168 - accuracy: 0.9941 - val_loss: 0.0026 - val_accuracy: 0.9996\n",
            "Epoch 46/50\n",
            "600/600 [==============================] - 5s 8ms/step - loss: 0.0178 - accuracy: 0.9935 - val_loss: 0.0024 - val_accuracy: 0.9996\n",
            "Epoch 47/50\n",
            "600/600 [==============================] - 4s 6ms/step - loss: 0.0179 - accuracy: 0.9938 - val_loss: 0.0025 - val_accuracy: 0.9996\n",
            "Epoch 48/50\n",
            "600/600 [==============================] - 4s 6ms/step - loss: 0.0181 - accuracy: 0.9941 - val_loss: 0.0027 - val_accuracy: 0.9996\n",
            "Epoch 49/50\n",
            "600/600 [==============================] - 6s 9ms/step - loss: 0.0177 - accuracy: 0.9941 - val_loss: 0.0027 - val_accuracy: 0.9995\n",
            "Epoch 50/50\n",
            "600/600 [==============================] - 3s 6ms/step - loss: 0.0166 - accuracy: 0.9947 - val_loss: 0.0026 - val_accuracy: 0.9997\n"
          ]
        }
      ]
    },
    {
      "cell_type": "code",
      "source": [
        "hist.history.keys()"
      ],
      "metadata": {
        "colab": {
          "base_uri": "https://localhost:8080/"
        },
        "id": "xCSG67Vtab0f",
        "outputId": "1af56ffc-91de-443a-c080-354d2f3688fc"
      },
      "execution_count": 39,
      "outputs": [
        {
          "output_type": "execute_result",
          "data": {
            "text/plain": [
              "dict_keys(['loss', 'accuracy', 'val_loss', 'val_accuracy'])"
            ]
          },
          "metadata": {},
          "execution_count": 39
        }
      ]
    },
    {
      "cell_type": "code",
      "source": [
        "model.save_weights('mnist.h5')"
      ],
      "metadata": {
        "id": "tI2Cotymagoa"
      },
      "execution_count": 41,
      "outputs": []
    },
    {
      "cell_type": "code",
      "source": [
        "import matplotlib.pyplot as plt\n",
        "plt.plot(hist.history['loss'])\n",
        "plt.xlabel('Epoch')\n",
        "plt.ylabel('Loss')\n",
        "plt.show()"
      ],
      "metadata": {
        "colab": {
          "base_uri": "https://localhost:8080/",
          "height": 449
        },
        "id": "oQmpbTjZbi0f",
        "outputId": "964c6616-e02a-4677-f812-289b9893b3eb"
      },
      "execution_count": 43,
      "outputs": [
        {
          "output_type": "display_data",
          "data": {
            "text/plain": [
              "<Figure size 640x480 with 1 Axes>"
            ],
            "image/png": "[encoded data removed]"
          },
          "metadata": {}
        }
      ]
    },
    {
      "cell_type": "code",
      "source": [
        "## 새 파일이라 생각하고 작업\n",
        "## 손글씨 0~9 까지의 카테고리를 분류하는 비전 모델\n",
        "## 학습시에 28*28 의 검정색 배경, 흑백을 학습함\n",
        "## 원핫 인코딩하지 않고 y값을 학습해서 모델에서 원핫 인코딩함"
      ],
      "metadata": {
        "id": "xlQ9iVFBe_5q"
      },
      "execution_count": 44,
      "outputs": []
    },
    {
      "cell_type": "code",
      "source": [
        "# 모델 불러오기\n",
        "import tensorflow as tf\n",
        "from keras.models import *\n",
        "\n",
        "model=tf.keras.models.load_model('/content/완료_mnist.h5')\n",
        "model"
      ],
      "metadata": {
        "colab": {
          "base_uri": "https://localhost:8080/"
        },
        "id": "linKXsXNfCZb",
        "outputId": "81b61e41-91ad-4fc5-857a-4c3827e3c8e8"
      },
      "execution_count": 12,
      "outputs": [
        {
          "output_type": "execute_result",
          "data": {
            "text/plain": [
              "<keras.src.engine.sequential.Sequential at 0x7dcebc5355a0>"
            ]
          },
          "metadata": {},
          "execution_count": 12
        }
      ]
    },
    {
      "cell_type": "code",
      "source": [
        "from PIL import Image\n",
        "img=Image.open('num3.jpg').resize((28,28)).convert('L') # grayscale로 변환\n",
        "img"
      ],
      "metadata": {
        "colab": {
          "base_uri": "https://localhost:8080/",
          "height": 45
        },
        "id": "oXbBptuchf4k",
        "outputId": "e95da04f-a937-44a8-d8ea-fb8b6105e527"
      },
      "execution_count": 73,
      "outputs": [
        {
          "output_type": "execute_result",
          "data": {
            "text/plain": [
              "<PIL.Image.Image image mode=L size=28x28>"
            ],
            "image/png": "[encoded data removed]"
          },
          "metadata": {},
          "execution_count": 73
        }
      ]
    },
    {
      "cell_type": "code",
      "source": [
        "plt.imshow(img,cmap='gray')"
      ],
      "metadata": {
        "colab": {
          "base_uri": "https://localhost:8080/",
          "height": 448
        },
        "id": "qgZqz2gwhsFQ",
        "outputId": "2ac294e4-c61f-4d4c-d421-e29542370888"
      },
      "execution_count": 74,
      "outputs": [
        {
          "output_type": "execute_result",
          "data": {
            "text/plain": [
              "<matplotlib.image.AxesImage at 0x7daaf54f54e0>"
            ]
          },
          "metadata": {},
          "execution_count": 74
        },
        {
          "output_type": "display_data",
          "data": {
            "text/plain": [
              "<Figure size 640x480 with 1 Axes>"
            ],
            "image/png": "[encoded data removed]"
          },
          "metadata": {}
        }
      ]
    },
    {
      "cell_type": "code",
      "source": [
        "img=np.array(img)\n",
        "img=255-img\n",
        "img=img/255.0\n",
        "plt.imshow(img,cmap='gray')"
      ],
      "metadata": {
        "colab": {
          "base_uri": "https://localhost:8080/",
          "height": 448
        },
        "id": "6xOFQFPwh9BD",
        "outputId": "bcae0483-b55f-42a9-d07f-79c44dfe2da2"
      },
      "execution_count": 77,
      "outputs": [
        {
          "output_type": "execute_result",
          "data": {
            "text/plain": [
              "<matplotlib.image.AxesImage at 0x7daaee7f4e20>"
            ]
          },
          "metadata": {},
          "execution_count": 77
        },
        {
          "output_type": "display_data",
          "data": {
            "text/plain": [
              "<Figure size 640x480 with 1 Axes>"
            ],
            "image/png": "[encoded data removed]"
          },
          "metadata": {}
        }
      ]
    },
    {
      "cell_type": "code",
      "source": [
        "print(np.shape(img)) # x_train의 shape은 60000,28,28"
      ],
      "metadata": {
        "colab": {
          "base_uri": "https://localhost:8080/"
        },
        "id": "ldR1q0N1iFNr",
        "outputId": "f7c4d952-b560-4671-fa3e-03865af664fb"
      },
      "execution_count": 78,
      "outputs": [
        {
          "output_type": "stream",
          "name": "stdout",
          "text": [
            "(28, 28)\n"
          ]
        }
      ]
    },
    {
      "cell_type": "code",
      "source": [
        "newimg=np.reshape(img,(1,28,28)) # 학습할떄의 shape이 60000,28,28 ->3차원 이기때문에\n"
      ],
      "metadata": {
        "id": "nbn2m0enjGXZ"
      },
      "execution_count": 81,
      "outputs": []
    },
    {
      "cell_type": "code",
      "source": [
        "result=model.predict(newimg)\n",
        "result"
      ],
      "metadata": {
        "colab": {
          "base_uri": "https://localhost:8080/"
        },
        "id": "lIv5nnCPjkl5",
        "outputId": "fbf7c76a-d8fb-48a1-f75e-f439546d3fac"
      },
      "execution_count": 85,
      "outputs": [
        {
          "output_type": "stream",
          "name": "stdout",
          "text": [
            "1/1 [==============================] - 0s 33ms/step\n"
          ]
        },
        {
          "output_type": "execute_result",
          "data": {
            "text/plain": [
              "array([[5.4138128e-20, 7.8358682e-21, 8.2140023e-10, 9.6086818e-01,\n",
              "        0.0000000e+00, 3.9131753e-02, 1.0029385e-19, 5.7900130e-12,\n",
              "        2.9260684e-17, 2.5765729e-29]], dtype=float32)"
            ]
          },
          "metadata": {},
          "execution_count": 85
        }
      ]
    },
    {
      "cell_type": "code",
      "source": [
        "result.argmax()"
      ],
      "metadata": {
        "colab": {
          "base_uri": "https://localhost:8080/"
        },
        "id": "xIFlrNgPj6aa",
        "outputId": "b9f4839f-1444-4543-afce-ebdbaee5d97d"
      },
      "execution_count": 86,
      "outputs": [
        {
          "output_type": "execute_result",
          "data": {
            "text/plain": [
              "3"
            ]
          },
          "metadata": {},
          "execution_count": 86
        }
      ]
    },
    {
      "cell_type": "code",
      "source": [
        "# y값을 원핫 인코딩 하지않고 모델 작업에서 loss에서\n",
        "#loss ='sparse_categorical_crossentropy' 하면 tf.nn.softma 해야 함\n",
        "predictions=model(newimg)\n",
        "tf.nn.softmax(predictions)"
      ],
      "metadata": {
        "colab": {
          "base_uri": "https://localhost:8080/"
        },
        "id": "rjiBucPrky19",
        "outputId": "893fae12-a072-41d6-dd52-74be0e1e8991"
      },
      "execution_count": 89,
      "outputs": [
        {
          "output_type": "execute_result",
          "data": {
            "text/plain": [
              "<tf.Tensor: shape=(1, 10), dtype=float32, numpy=\n",
              "array([[0.08580839, 0.08580839, 0.08580839, 0.22430012, 0.08580839,\n",
              "        0.08923279, 0.08580839, 0.08580839, 0.08580839, 0.08580839]],\n",
              "      dtype=float32)>"
            ]
          },
          "metadata": {},
          "execution_count": 89
        }
      ]
    },
    {
      "cell_type": "code",
      "source": [
        "np.sum(tf.nn.softmax(predictions))"
      ],
      "metadata": {
        "colab": {
          "base_uri": "https://localhost:8080/"
        },
        "id": "C5GRfDH7lB7A",
        "outputId": "07a2e223-674a-4ca4-b3a7-83dab14db103"
      },
      "execution_count": 91,
      "outputs": [
        {
          "output_type": "execute_result",
          "data": {
            "text/plain": [
              "1.0"
            ]
          },
          "metadata": {},
          "execution_count": 91
        }
      ]
    },
    {
      "cell_type": "code",
      "source": [
        "np.argmax(tf.nn.softmax(predictions))# 가장 큰 위치값 구하기, 숫자값이 최종결과라 여기서 끝"
      ],
      "metadata": {
        "colab": {
          "base_uri": "https://localhost:8080/"
        },
        "id": "hI5Q-PmClW9N",
        "outputId": "c02410dc-db52-4d18-c5d3-1239c2ad4849"
      },
      "execution_count": 94,
      "outputs": [
        {
          "output_type": "execute_result",
          "data": {
            "text/plain": [
              "3"
            ]
          },
          "metadata": {},
          "execution_count": 94
        }
      ]
    },
    {
      "cell_type": "code",
      "source": [
        "import numpy as np\n",
        "import matplotlib.pyplot as plt\n",
        "testData=x_test[:30]\n",
        "print(np.shape(testData))\n",
        "\n",
        "predictions=model(testData)\n",
        "result=tf.nn.softmax(predictions)\n",
        "\n",
        "plt.imshow(np.hstack(x_test[:30]))\n",
        "\n",
        "print('예측값')\n",
        "\n",
        "np.argmax(result,axis=1)"
      ],
      "metadata": {
        "colab": {
          "base_uri": "https://localhost:8080/",
          "height": 155
        },
        "id": "qJZyrcYtobkC",
        "outputId": "fb94f0d2-51d0-4763-873d-24975ee138eb"
      },
      "execution_count": 14,
      "outputs": [
        {
          "output_type": "stream",
          "name": "stdout",
          "text": [
            "(30, 28, 28)\n",
            "예측값\n"
          ]
        },
        {
          "output_type": "execute_result",
          "data": {
            "text/plain": [
              "array([7, 2, 1, 0, 4, 1, 4, 9, 5, 9, 0, 6, 9, 0, 1, 5, 9, 7, 3, 4, 9, 6,\n",
              "       6, 5, 4, 0, 7, 4, 0, 1])"
            ]
          },
          "metadata": {},
          "execution_count": 14
        },
        {
          "output_type": "display_data",
          "data": {
            "text/plain": [
              "<Figure size 640x480 with 1 Axes>"
            ],
            "image/png": "[encoded data removed]"
          },
          "metadata": {}
        }
      ]
    },
    {
      "cell_type": "code",
      "source": [
        "## 만약 숫자 레이블이 따로 있다면\n",
        "\n",
        "class_num=['숫자0','숫자1','숫자2','숫자3','숫자4','숫자5','숫자6','숫자7','숫자8','숫자9']\n"
      ],
      "metadata": {
        "id": "orYiCMgLmBsL"
      },
      "execution_count": null,
      "outputs": []
    }
  ]
}