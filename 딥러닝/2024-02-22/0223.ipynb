{
 "cells": [
  {
   "cell_type": "markdown",
   "metadata": {},
   "source": [
    "결과 나왔을때-> 왜 그렇게 나왔을까??\n",
    "\n",
    "좋은 결과 != 완성도"
   ]
  }
 ],
 "metadata": {
  "language_info": {
   "name": "python"
  }
 },
 "nbformat": 4,
 "nbformat_minor": 2
}
