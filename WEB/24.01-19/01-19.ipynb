{
 "cells": [
  {
   "cell_type": "code",
   "execution_count": 1,
   "metadata": {},
   "outputs": [
    {
     "ename": "SyntaxError",
     "evalue": "invalid syntax (3465745013.py, line 2)",
     "output_type": "error",
     "traceback": [
      "\u001b[1;36m  Cell \u001b[1;32mIn[1], line 2\u001b[1;36m\u001b[0m\n\u001b[1;33m    serviceKey='wKXVoZD3JTnajz7I2NG5STcdGGkG%2B9wYeT0RnnZnbFzOnVpgdv5oysBgCVdD3HomSPkHinfymX9QAYSjj2Vc1Q%3D%3D'&\u001b[0m\n\u001b[1;37m                                                                                                                ^\u001b[0m\n\u001b[1;31mSyntaxError\u001b[0m\u001b[1;31m:\u001b[0m invalid syntax\n"
     ]
    }
   ],
   "source": [
    "url='https://apis.data.go.kr/B552583/job/job_list_env?'\n",
    "serviceKey='wKXVoZD3JTnajz7I2NG5STcdGGkG%2B9wYeT0RnnZnbFzOnVpgdv5oysBgCVdD3HomSPkHinfymX9QAYSjj2Vc1Q%3D%3D'\n",
    "page='&pageNo='\n",
    "pagenum=1\n",
    "numrow='&numOfRows='\n",
    "numrown=100"
   ]
  }
 ],
 "metadata": {
  "kernelspec": {
   "display_name": "SeSaC",
   "language": "python",
   "name": "python3"
  },
  "language_info": {
   "codemirror_mode": {
    "name": "ipython",
    "version": 3
   },
   "file_extension": ".py",
   "mimetype": "text/x-python",
   "name": "python",
   "nbconvert_exporter": "python",
   "pygments_lexer": "ipython3",
   "version": "3.12.0"
  }
 },
 "nbformat": 4,
 "nbformat_minor": 2
}
